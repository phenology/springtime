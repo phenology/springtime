{
 "cells": [
  {
   "cell_type": "markdown",
   "id": "18c79f8b-c888-4b03-a255-1adfc813fd10",
   "metadata": {},
   "source": [
    "# Modelling for predicting the spring onset of natural vegetation across the Northern Hemisphere\n",
    "\n",
    "https://doi.org/10.1016/j.ecolind.2021.108126\n"
   ]
  },
  {
   "cell_type": "markdown",
   "id": "aedb37bc-126b-4a09-9fbd-4a4c38295187",
   "metadata": {},
   "source": [
    "## Data\n",
    "\n",
    "- Observation data from the USA National Phenology Network (USA-NPN)\n",
    "- MODIS land cover type product and the land cover dynamics product\n",
    "- Daymet gridded climate data covering Northern America\n",
    "- Climate data obtained from Global Land Data Assimilation System (GLDAS) covering the Northern Hemisphere"
   ]
  },
  {
   "cell_type": "markdown",
   "id": "7102c4b8-b70d-4e80-be4c-0d5ba9e30b29",
   "metadata": {},
   "source": [
    "### USA-NPN\n",
    "\n",
    "- Observation records of vegetation phenology from 2895 sites from 2007 to 2017\n",
    "- Four vegetation types defined in the USA-NPN dataset, including deciduous broadleaf forests (DBF), evergreen broadleaf forests (EBF), graminoid (GRA), and drought deciduous broadleaf forests (DDBF)\n",
    "- Spring onset: breaking leaf buds for DBF, breaking leaf buds for ENF, breaking leaf buds for DDBF, and initial growth of grasses/sedges for GRA\n",
    "- Averaging the timing of spring onsets for all records at the same site in the same year\n",
    "- Excluding observation data in the sites located in the pixels that are classified as urban and build-up in the MODIS land cover maps"
   ]
  },
  {
   "cell_type": "code",
   "execution_count": 5,
   "id": "4535bcd5-66cc-4a24-83d5-5526be46a71d",
   "metadata": {},
   "outputs": [],
   "source": [
    "import springtime\n",
    "from springtime.datasets.NPNPhenor import NPNPhenor, npn_species, npn_phenophases"
   ]
  },
  {
   "cell_type": "code",
   "execution_count": 6,
   "id": "7703746c-8949-4cb2-ac18-9b5d4acfd93e",
   "metadata": {},
   "outputs": [],
   "source": [
    "import numpy as np\n",
    "import seaborn as sns\n",
    "import matplotlib.pyplot as plt\n",
    "import geopandas as gpd\n",
    "import pandas as pd\n",
    "import math\n",
    "import folium\n",
    "import os\n",
    "import glob\n",
    "import tempfile"
   ]
  },
  {
   "cell_type": "code",
   "execution_count": 7,
   "id": "66665915-7b8d-48db-b1e2-6a331e40690d",
   "metadata": {},
   "outputs": [
    {
     "data": {
      "text/plain": [
       "'/home/jovyan/springtime/docs/notebooks'"
      ]
     },
     "execution_count": 7,
     "metadata": {},
     "output_type": "execute_result"
    }
   ],
   "source": [
    "current_path = os.getcwd()\n",
    "current_path"
   ]
  },
  {
   "cell_type": "code",
   "execution_count": 8,
   "id": "1e85ce37-7712-4845-bab4-c8bd8643a39b",
   "metadata": {},
   "outputs": [
    {
     "data": {
      "text/html": [
       "\n",
       "        <span>R/rpy2 DataFrame (1755 x 18)</span>\n",
       "        <table>\n",
       "          <thead>\n",
       "            <tr>\n",
       "              \n",
       "              <th>species_id</th>\n",
       "              \n",
       "              <th>common_name</th>\n",
       "              \n",
       "              <th>genus</th>\n",
       "              \n",
       "              <th>...</th>\n",
       "              \n",
       "              <th>family_id</th>\n",
       "              \n",
       "              <th>family_name</th>\n",
       "              \n",
       "              <th>family_common_name</th>\n",
       "              \n",
       "            </tr>\n",
       "          </thead>\n",
       "          <tbody>\n",
       "          \n",
       "          <tr>\n",
       "            \n",
       "            <td>\n",
       "              120\n",
       "            </td>\n",
       "            \n",
       "            <td>\n",
       "              \"'ohi'a l...\n",
       "            </td>\n",
       "            \n",
       "            <td>\n",
       "              'Metrosid...\n",
       "            </td>\n",
       "            \n",
       "            <td>\n",
       "              ...\n",
       "            </td>\n",
       "            \n",
       "            <td>\n",
       "              301\n",
       "            </td>\n",
       "            \n",
       "            <td>\n",
       "              'Myrtaceae'\n",
       "            </td>\n",
       "            \n",
       "            <td>\n",
       "              'Myrtle F...\n",
       "            </td>\n",
       "            \n",
       "          </tr>\n",
       "          \n",
       "          <tr>\n",
       "            \n",
       "            <td>\n",
       "              1436\n",
       "            </td>\n",
       "            \n",
       "            <td>\n",
       "              'absinthi...\n",
       "            </td>\n",
       "            \n",
       "            <td>\n",
       "              'Artemisia'\n",
       "            </td>\n",
       "            \n",
       "            <td>\n",
       "              \n",
       "            </td>\n",
       "            \n",
       "            <td>\n",
       "              242\n",
       "            </td>\n",
       "            \n",
       "            <td>\n",
       "              'Asterace...\n",
       "            </td>\n",
       "            \n",
       "            <td>\n",
       "              'Aster Fa...\n",
       "            </td>\n",
       "            \n",
       "          </tr>\n",
       "          \n",
       "          <tr>\n",
       "            \n",
       "            <td>\n",
       "              1227\n",
       "            </td>\n",
       "            \n",
       "            <td>\n",
       "              'Acadian ...\n",
       "            </td>\n",
       "            \n",
       "            <td>\n",
       "              'Empidonax'\n",
       "            </td>\n",
       "            \n",
       "            <td>\n",
       "              \n",
       "            </td>\n",
       "            \n",
       "            <td>\n",
       "              154\n",
       "            </td>\n",
       "            \n",
       "            <td>\n",
       "              'Tyrannid...\n",
       "            </td>\n",
       "            \n",
       "            <td>\n",
       "              'Tyrant F...\n",
       "            </td>\n",
       "            \n",
       "          </tr>\n",
       "          \n",
       "          <tr>\n",
       "            \n",
       "            <td>\n",
       "              1229\n",
       "            </td>\n",
       "            \n",
       "            <td>\n",
       "              'acorn wo...\n",
       "            </td>\n",
       "            \n",
       "            <td>\n",
       "              'Melanerp...\n",
       "            </td>\n",
       "            \n",
       "            <td>\n",
       "              \n",
       "            </td>\n",
       "            \n",
       "            <td>\n",
       "              158\n",
       "            </td>\n",
       "            \n",
       "            <td>\n",
       "              'Picidae'\n",
       "            </td>\n",
       "            \n",
       "            <td>\n",
       "              'Woodpeck...\n",
       "            </td>\n",
       "            \n",
       "          </tr>\n",
       "          \n",
       "          <tr>\n",
       "            \n",
       "            <td>\n",
       "              ...\n",
       "            </td>\n",
       "            \n",
       "            <td>\n",
       "              ...\n",
       "            </td>\n",
       "            \n",
       "            <td>\n",
       "              ...\n",
       "            </td>\n",
       "            \n",
       "            <td>\n",
       "              \n",
       "            </td>\n",
       "            \n",
       "            <td>\n",
       "              ...\n",
       "            </td>\n",
       "            \n",
       "            <td>\n",
       "              ...\n",
       "            </td>\n",
       "            \n",
       "            <td>\n",
       "              ...\n",
       "            </td>\n",
       "            \n",
       "          </tr>\n",
       "          \n",
       "          <tr>\n",
       "            \n",
       "            <td>\n",
       "              228\n",
       "            </td>\n",
       "            \n",
       "            <td>\n",
       "              'Yoshino ...\n",
       "            </td>\n",
       "            \n",
       "            <td>\n",
       "              'Prunus'\n",
       "            </td>\n",
       "            \n",
       "            <td>\n",
       "              \n",
       "            </td>\n",
       "            \n",
       "            <td>\n",
       "              325\n",
       "            </td>\n",
       "            \n",
       "            <td>\n",
       "              'Rosaceae'\n",
       "            </td>\n",
       "            \n",
       "            <td>\n",
       "              'Rose Fam...\n",
       "            </td>\n",
       "            \n",
       "          </tr>\n",
       "          \n",
       "          <tr>\n",
       "            \n",
       "            <td>\n",
       "              1043\n",
       "            </td>\n",
       "            \n",
       "            <td>\n",
       "              'youth on...\n",
       "            </td>\n",
       "            \n",
       "            <td>\n",
       "              'Tolmiea'\n",
       "            </td>\n",
       "            \n",
       "            <td>\n",
       "              \n",
       "            </td>\n",
       "            \n",
       "            <td>\n",
       "              332\n",
       "            </td>\n",
       "            \n",
       "            <td>\n",
       "              'Saxifrag...\n",
       "            </td>\n",
       "            \n",
       "            <td>\n",
       "              'Saxifrag...\n",
       "            </td>\n",
       "            \n",
       "          </tr>\n",
       "          \n",
       "          <tr>\n",
       "            \n",
       "            <td>\n",
       "              1395\n",
       "            </td>\n",
       "            \n",
       "            <td>\n",
       "              'zebra-ta...\n",
       "            </td>\n",
       "            \n",
       "            <td>\n",
       "              'Callisau...\n",
       "            </td>\n",
       "            \n",
       "            <td>\n",
       "              \n",
       "            </td>\n",
       "            \n",
       "            <td>\n",
       "              209\n",
       "            </td>\n",
       "            \n",
       "            <td>\n",
       "              'Phrynoso...\n",
       "            </td>\n",
       "            \n",
       "            <td>\n",
       "              'Zebra-ta...\n",
       "            </td>\n",
       "            \n",
       "          </tr>\n",
       "          \n",
       "          <tr>\n",
       "            \n",
       "            <td>\n",
       "              2188\n",
       "            </td>\n",
       "            \n",
       "            <td>\n",
       "              'zigzag s...\n",
       "            </td>\n",
       "            \n",
       "            <td>\n",
       "              'Tradesca...\n",
       "            </td>\n",
       "            \n",
       "            <td>\n",
       "              \n",
       "            </td>\n",
       "            \n",
       "            <td>\n",
       "              260\n",
       "            </td>\n",
       "            \n",
       "            <td>\n",
       "              'Commelin...\n",
       "            </td>\n",
       "            \n",
       "            <td>\n",
       "              'Spiderwo...\n",
       "            </td>\n",
       "            \n",
       "          </tr>\n",
       "          \n",
       "          </tbody>\n",
       "        </table>\n",
       "    "
      ],
      "text/plain": [
       "<rpy2.robjects.vectors.DataFrame object at 0xffff5d3c85c0> [RTYPES.VECSXP]\n",
       "R classes: ('data.frame',)\n",
       "[IntSexpVe..., StrSexpVe..., StrSexpVe..., IntSexpVe..., ..., StrSexpVe..., IntSexpVe..., StrSexpVe..., StrSexpVe...]\n",
       "  species_id: <class 'rpy2.robjects.vectors.IntVector'>\n",
       "  <rpy2.robjects.vectors.IntVector object at 0xffff5b2fc1c0> [RTYPES.INTSXP]\n",
       "R classes: ('integer',)\n",
       "[120, 1436, 1227, 1229, ..., 228, 1043, 1395, 2188]\n",
       "  common_name: <class 'rpy2.robjects.vectors.StrVector'>\n",
       "  <rpy2.robjects.vectors.StrVector object at 0xffff5b2fcf80> [RTYPES.STRSXP]\n",
       "R classes: ('character',)\n",
       "[\"'ohi'a l..., 'absinthi..., 'Acadian ..., 'acorn wo..., ..., 'Yoshino ..., 'youth on..., 'zebra-ta..., 'zigzag s...]\n",
       "  genus: <class 'rpy2.robjects.vectors.StrVector'>\n",
       "  <rpy2.robjects.vectors.StrVector object at 0xffff5b2fce40> [RTYPES.STRSXP]\n",
       "R classes: ('character',)\n",
       "['Metrosid..., 'Artemisia', 'Empidonax', 'Melanerp..., ..., 'Prunus', 'Tolmiea', 'Callisau..., 'Tradesca...]\n",
       "  genus_id: <class 'rpy2.robjects.vectors.IntVector'>\n",
       "  <rpy2.robjects.vectors.IntVector object at 0xffff5b2fcbc0> [RTYPES.INTSXP]\n",
       "R classes: ('integer',)\n",
       "[798, 437, 612, 790, ..., 933, 1058, 479, 1061]\n",
       "...\n",
       "  species: <class 'rpy2.robjects.vectors.StrVector'>\n",
       "  <rpy2.robjects.vectors.StrVector object at 0xffff5b2fc0c0> [RTYPES.STRSXP]\n",
       "R classes: ('character',)\n",
       "['Myrtales', 'Asterales', 'Passerif..., 'Piciform..., ..., 'Rosales', 'Saxifrag..., 'Squamata', 'Commelin...]\n",
       "  kingdom: <class 'rpy2.robjects.vectors.IntVector'>\n",
       "  <rpy2.robjects.vectors.IntVector object at 0xffff5b2fca80> [RTYPES.INTSXP]\n",
       "R classes: ('integer',)\n",
       "[301, 242, 154, 158, ..., 325, 332, 209, 260]\n",
       "  itis_taxonomic_sn: <class 'rpy2.robjects.vectors.StrVector'>\n",
       "  <rpy2.robjects.vectors.StrVector object at 0xffff5d48da80> [RTYPES.STRSXP]\n",
       "R classes: ('character',)\n",
       "['Myrtaceae', 'Asterace..., 'Tyrannid..., 'Picidae', ..., 'Rosaceae', 'Saxifrag..., 'Phrynoso..., 'Commelin...]\n",
       "  functional_type: <class 'rpy2.robjects.vectors.StrVector'>\n",
       "  <rpy2.robjects.vectors.StrVector object at 0xffff5b2fc540> [RTYPES.STRSXP]\n",
       "R classes: ('character',)\n",
       "['Myrtle F..., 'Aster Fa..., 'Tyrant F..., 'Woodpeck..., ..., 'Rose Fam..., 'Saxifrag..., 'Zebra-ta..., 'Spiderwo...]"
      ]
     },
     "execution_count": 8,
     "metadata": {},
     "output_type": "execute_result"
    }
   ],
   "source": [
    "# List IDs and names for available species, phenophases\n",
    "species = npn_species()\n",
    "species"
   ]
  },
  {
   "cell_type": "code",
   "execution_count": 9,
   "id": "b8a36ba7-3758-40eb-9c2e-ff40f7a2dec0",
   "metadata": {},
   "outputs": [
    {
     "name": "stdout",
     "output_type": "stream",
     "text": [
      "  species_id  common_name        genus genus_id     genus_common_name\n",
      "1        120 'ohi'a lehua Metrosideros      798 Lehuas (Metrosideros)\n",
      "     species kingdom itis_taxonomic_sn     functional_type class_id\n",
      "1 polymorpha Plantae             27259 Evergreen broadleaf       15\n",
      "  class_common_name    class_name order_id                    order_common_name\n",
      "1  Flowering Plants Magnoliopsida       89 Myrtle and Evening-primrose Families\n",
      "  order_name family_id family_name family_common_name\n",
      "1   Myrtales       301   Myrtaceae      Myrtle Family\n",
      "\n"
     ]
    }
   ],
   "source": [
    "print(species.head(1))\n",
    "# It's not easy to check the column names. I printed the first row and copy-pasted the names here:\n",
    "# species_id, common_name, genus genus_id, genus_common_name, species, kingdom, itis_taxonomic_sn,functional_type, class_id, class_common_name, \n",
    "# class_name, order_id, order_common_name, order_name family_id, family_name, family_common_nam"
   ]
  },
  {
   "cell_type": "code",
   "execution_count": 10,
   "id": "596190d6-1b7e-421c-a398-4b7c1f9c8354",
   "metadata": {},
   "outputs": [
    {
     "data": {
      "text/html": [
       "<div>\n",
       "<style scoped>\n",
       "    .dataframe tbody tr th:only-of-type {\n",
       "        vertical-align: middle;\n",
       "    }\n",
       "\n",
       "    .dataframe tbody tr th {\n",
       "        vertical-align: top;\n",
       "    }\n",
       "\n",
       "    .dataframe thead th {\n",
       "        text-align: right;\n",
       "    }\n",
       "</style>\n",
       "<table border=\"1\" class=\"dataframe\">\n",
       "  <thead>\n",
       "    <tr style=\"text-align: right;\">\n",
       "      <th></th>\n",
       "      <th>species_id</th>\n",
       "      <th>common_name</th>\n",
       "      <th>genus</th>\n",
       "      <th>genus_id</th>\n",
       "      <th>genus_common_name</th>\n",
       "      <th>species</th>\n",
       "      <th>kingdom</th>\n",
       "      <th>itis_taxonomic_sn</th>\n",
       "      <th>functional_type</th>\n",
       "      <th>class_id</th>\n",
       "      <th>class_common_name</th>\n",
       "      <th>class_name</th>\n",
       "      <th>order_id</th>\n",
       "      <th>order_common_name</th>\n",
       "      <th>order_name</th>\n",
       "      <th>family_id</th>\n",
       "      <th>family_name</th>\n",
       "      <th>family_common_name</th>\n",
       "    </tr>\n",
       "  </thead>\n",
       "  <tbody>\n",
       "    <tr>\n",
       "      <th>1</th>\n",
       "      <td>120</td>\n",
       "      <td>'ohi'a lehua</td>\n",
       "      <td>Metrosideros</td>\n",
       "      <td>798</td>\n",
       "      <td>Lehuas (Metrosideros)</td>\n",
       "      <td>polymorpha</td>\n",
       "      <td>Plantae</td>\n",
       "      <td>27259.0</td>\n",
       "      <td>Evergreen broadleaf</td>\n",
       "      <td>15</td>\n",
       "      <td>Flowering Plants</td>\n",
       "      <td>Magnoliopsida</td>\n",
       "      <td>89</td>\n",
       "      <td>Myrtle and Evening-primrose Families</td>\n",
       "      <td>Myrtales</td>\n",
       "      <td>301</td>\n",
       "      <td>Myrtaceae</td>\n",
       "      <td>Myrtle Family</td>\n",
       "    </tr>\n",
       "    <tr>\n",
       "      <th>2</th>\n",
       "      <td>1436</td>\n",
       "      <td>absinthium</td>\n",
       "      <td>Artemisia</td>\n",
       "      <td>437</td>\n",
       "      <td>Sagebrushes (Artemisia)</td>\n",
       "      <td>absinthium</td>\n",
       "      <td>Plantae</td>\n",
       "      <td>35445.0</td>\n",
       "      <td>Forb</td>\n",
       "      <td>15</td>\n",
       "      <td>Flowering Plants</td>\n",
       "      <td>Magnoliopsida</td>\n",
       "      <td>69</td>\n",
       "      <td>Aster, Bellflower and Buckbean Families</td>\n",
       "      <td>Asterales</td>\n",
       "      <td>242</td>\n",
       "      <td>Asteraceae</td>\n",
       "      <td>Aster Family</td>\n",
       "    </tr>\n",
       "    <tr>\n",
       "      <th>3</th>\n",
       "      <td>1227</td>\n",
       "      <td>Acadian flycatcher</td>\n",
       "      <td>Empidonax</td>\n",
       "      <td>612</td>\n",
       "      <td>Empidonax Flycatchers (Empidonax)</td>\n",
       "      <td>virescens</td>\n",
       "      <td>Animalia</td>\n",
       "      <td>178339.0</td>\n",
       "      <td>Bird</td>\n",
       "      <td>5</td>\n",
       "      <td>Birds</td>\n",
       "      <td>Aves</td>\n",
       "      <td>31</td>\n",
       "      <td>Perching Birds</td>\n",
       "      <td>Passeriformes</td>\n",
       "      <td>154</td>\n",
       "      <td>Tyrannidae</td>\n",
       "      <td>Tyrant Flycatchers</td>\n",
       "    </tr>\n",
       "    <tr>\n",
       "      <th>4</th>\n",
       "      <td>1229</td>\n",
       "      <td>acorn woodpecker</td>\n",
       "      <td>Melanerpes</td>\n",
       "      <td>790</td>\n",
       "      <td>Melanerpine Woodpeckers (Melanerpes)</td>\n",
       "      <td>formicivorus</td>\n",
       "      <td>Animalia</td>\n",
       "      <td>178189.0</td>\n",
       "      <td>Bird</td>\n",
       "      <td>5</td>\n",
       "      <td>Birds</td>\n",
       "      <td>Aves</td>\n",
       "      <td>33</td>\n",
       "      <td>Woodpeckers</td>\n",
       "      <td>Piciformes</td>\n",
       "      <td>158</td>\n",
       "      <td>Picidae</td>\n",
       "      <td>Woodpeckers</td>\n",
       "    </tr>\n",
       "    <tr>\n",
       "      <th>5</th>\n",
       "      <td>2110</td>\n",
       "      <td>Adam and Eve</td>\n",
       "      <td>Aplectrum</td>\n",
       "      <td>1285</td>\n",
       "      <td>Adam and Eves (Aplectrum)</td>\n",
       "      <td>hyemale</td>\n",
       "      <td>Plantae</td>\n",
       "      <td>43489.0</td>\n",
       "      <td>Forb</td>\n",
       "      <td>15</td>\n",
       "      <td>Flowering Plants</td>\n",
       "      <td>Magnoliopsida</td>\n",
       "      <td>68</td>\n",
       "      <td>Asparagas, Iris, Orchid and Aloe Families</td>\n",
       "      <td>Asparagales</td>\n",
       "      <td>307</td>\n",
       "      <td>Orchidaceae</td>\n",
       "      <td>Orchid Family</td>\n",
       "    </tr>\n",
       "    <tr>\n",
       "      <th>...</th>\n",
       "      <td>...</td>\n",
       "      <td>...</td>\n",
       "      <td>...</td>\n",
       "      <td>...</td>\n",
       "      <td>...</td>\n",
       "      <td>...</td>\n",
       "      <td>...</td>\n",
       "      <td>...</td>\n",
       "      <td>...</td>\n",
       "      <td>...</td>\n",
       "      <td>...</td>\n",
       "      <td>...</td>\n",
       "      <td>...</td>\n",
       "      <td>...</td>\n",
       "      <td>...</td>\n",
       "      <td>...</td>\n",
       "      <td>...</td>\n",
       "      <td>...</td>\n",
       "    </tr>\n",
       "    <tr>\n",
       "      <th>1751</th>\n",
       "      <td>1671</td>\n",
       "      <td>yerba mansa</td>\n",
       "      <td>Anemopsis</td>\n",
       "      <td>413</td>\n",
       "      <td>Yerba Mansa (Anemopsis)</td>\n",
       "      <td>californica</td>\n",
       "      <td>Plantae</td>\n",
       "      <td>18223.0</td>\n",
       "      <td>Forb</td>\n",
       "      <td>15</td>\n",
       "      <td>Flowering Plants</td>\n",
       "      <td>Magnoliopsida</td>\n",
       "      <td>92</td>\n",
       "      <td>Birthwort and Lizard's-tail Families</td>\n",
       "      <td>Piperales</td>\n",
       "      <td>331</td>\n",
       "      <td>Saururaceae</td>\n",
       "      <td>Lizard's-tail Family</td>\n",
       "    </tr>\n",
       "    <tr>\n",
       "      <th>1752</th>\n",
       "      <td>228</td>\n",
       "      <td>Yoshino cherry</td>\n",
       "      <td>Prunus</td>\n",
       "      <td>933</td>\n",
       "      <td>Cherries (Prunus)</td>\n",
       "      <td>yedoensis</td>\n",
       "      <td>Plantae</td>\n",
       "      <td>836663.0</td>\n",
       "      <td>Deciduous broadleaf</td>\n",
       "      <td>15</td>\n",
       "      <td>Flowering Plants</td>\n",
       "      <td>Magnoliopsida</td>\n",
       "      <td>96</td>\n",
       "      <td>Oleaster, Buckthorn, Rose and Elm Families</td>\n",
       "      <td>Rosales</td>\n",
       "      <td>325</td>\n",
       "      <td>Rosaceae</td>\n",
       "      <td>Rose Family</td>\n",
       "    </tr>\n",
       "    <tr>\n",
       "      <th>1753</th>\n",
       "      <td>1043</td>\n",
       "      <td>youth on age</td>\n",
       "      <td>Tolmiea</td>\n",
       "      <td>1058</td>\n",
       "      <td>Youth on Ages (Tolmiea)</td>\n",
       "      <td>menziesii</td>\n",
       "      <td>Plantae</td>\n",
       "      <td>24533.0</td>\n",
       "      <td>Forb</td>\n",
       "      <td>15</td>\n",
       "      <td>Flowering Plants</td>\n",
       "      <td>Magnoliopsida</td>\n",
       "      <td>98</td>\n",
       "      <td>Currant, Witch-hazel and Saxifrage Families</td>\n",
       "      <td>Saxifragales</td>\n",
       "      <td>332</td>\n",
       "      <td>Saxifragaceae</td>\n",
       "      <td>Saxifrage Family</td>\n",
       "    </tr>\n",
       "    <tr>\n",
       "      <th>1754</th>\n",
       "      <td>1395</td>\n",
       "      <td>zebra-tailed lizard</td>\n",
       "      <td>Callisaurus</td>\n",
       "      <td>479</td>\n",
       "      <td>Zebra-tailed Lizards (Callisaurus)</td>\n",
       "      <td>draconoides</td>\n",
       "      <td>Animalia</td>\n",
       "      <td>173906.0</td>\n",
       "      <td>Reptile</td>\n",
       "      <td>10</td>\n",
       "      <td>Reptiles</td>\n",
       "      <td>Reptilia</td>\n",
       "      <td>54</td>\n",
       "      <td>Snakes and Lizards</td>\n",
       "      <td>Squamata</td>\n",
       "      <td>209</td>\n",
       "      <td>Phrynosomatidae</td>\n",
       "      <td>Zebra-tailed and Horned Lizards</td>\n",
       "    </tr>\n",
       "    <tr>\n",
       "      <th>1755</th>\n",
       "      <td>2188</td>\n",
       "      <td>zigzag spiderwort</td>\n",
       "      <td>Tradescantia</td>\n",
       "      <td>1061</td>\n",
       "      <td>Spiderworts (Tradescantia)</td>\n",
       "      <td>subaspera</td>\n",
       "      <td>Plantae</td>\n",
       "      <td>39176.0</td>\n",
       "      <td>Forb</td>\n",
       "      <td>15</td>\n",
       "      <td>Flowering Plants</td>\n",
       "      <td>Magnoliopsida</td>\n",
       "      <td>74</td>\n",
       "      <td>Spiderwort and Water-hyacinth Families</td>\n",
       "      <td>Commelinales</td>\n",
       "      <td>260</td>\n",
       "      <td>Commelinaceae</td>\n",
       "      <td>Spiderwort Family</td>\n",
       "    </tr>\n",
       "  </tbody>\n",
       "</table>\n",
       "<p>1755 rows × 18 columns</p>\n",
       "</div>"
      ],
      "text/plain": [
       "      species_id          common_name         genus  genus_id  \\\n",
       "1            120         'ohi'a lehua  Metrosideros       798   \n",
       "2           1436           absinthium     Artemisia       437   \n",
       "3           1227   Acadian flycatcher     Empidonax       612   \n",
       "4           1229     acorn woodpecker    Melanerpes       790   \n",
       "5           2110         Adam and Eve     Aplectrum      1285   \n",
       "...          ...                  ...           ...       ...   \n",
       "1751        1671          yerba mansa     Anemopsis       413   \n",
       "1752         228       Yoshino cherry        Prunus       933   \n",
       "1753        1043         youth on age       Tolmiea      1058   \n",
       "1754        1395  zebra-tailed lizard   Callisaurus       479   \n",
       "1755        2188    zigzag spiderwort  Tradescantia      1061   \n",
       "\n",
       "                         genus_common_name       species   kingdom  \\\n",
       "1                    Lehuas (Metrosideros)    polymorpha   Plantae   \n",
       "2                  Sagebrushes (Artemisia)    absinthium   Plantae   \n",
       "3        Empidonax Flycatchers (Empidonax)     virescens  Animalia   \n",
       "4     Melanerpine Woodpeckers (Melanerpes)  formicivorus  Animalia   \n",
       "5                Adam and Eves (Aplectrum)       hyemale   Plantae   \n",
       "...                                    ...           ...       ...   \n",
       "1751               Yerba Mansa (Anemopsis)   californica   Plantae   \n",
       "1752                     Cherries (Prunus)     yedoensis   Plantae   \n",
       "1753               Youth on Ages (Tolmiea)     menziesii   Plantae   \n",
       "1754    Zebra-tailed Lizards (Callisaurus)   draconoides  Animalia   \n",
       "1755            Spiderworts (Tradescantia)     subaspera   Plantae   \n",
       "\n",
       "      itis_taxonomic_sn      functional_type  class_id class_common_name  \\\n",
       "1               27259.0  Evergreen broadleaf        15  Flowering Plants   \n",
       "2               35445.0                 Forb        15  Flowering Plants   \n",
       "3              178339.0                 Bird         5             Birds   \n",
       "4              178189.0                 Bird         5             Birds   \n",
       "5               43489.0                 Forb        15  Flowering Plants   \n",
       "...                 ...                  ...       ...               ...   \n",
       "1751            18223.0                 Forb        15  Flowering Plants   \n",
       "1752           836663.0  Deciduous broadleaf        15  Flowering Plants   \n",
       "1753            24533.0                 Forb        15  Flowering Plants   \n",
       "1754           173906.0              Reptile        10          Reptiles   \n",
       "1755            39176.0                 Forb        15  Flowering Plants   \n",
       "\n",
       "         class_name  order_id                            order_common_name  \\\n",
       "1     Magnoliopsida        89         Myrtle and Evening-primrose Families   \n",
       "2     Magnoliopsida        69      Aster, Bellflower and Buckbean Families   \n",
       "3              Aves        31                               Perching Birds   \n",
       "4              Aves        33                                  Woodpeckers   \n",
       "5     Magnoliopsida        68    Asparagas, Iris, Orchid and Aloe Families   \n",
       "...             ...       ...                                          ...   \n",
       "1751  Magnoliopsida        92         Birthwort and Lizard's-tail Families   \n",
       "1752  Magnoliopsida        96   Oleaster, Buckthorn, Rose and Elm Families   \n",
       "1753  Magnoliopsida        98  Currant, Witch-hazel and Saxifrage Families   \n",
       "1754       Reptilia        54                           Snakes and Lizards   \n",
       "1755  Magnoliopsida        74       Spiderwort and Water-hyacinth Families   \n",
       "\n",
       "         order_name  family_id      family_name  \\\n",
       "1          Myrtales        301        Myrtaceae   \n",
       "2         Asterales        242       Asteraceae   \n",
       "3     Passeriformes        154       Tyrannidae   \n",
       "4        Piciformes        158          Picidae   \n",
       "5       Asparagales        307      Orchidaceae   \n",
       "...             ...        ...              ...   \n",
       "1751      Piperales        331      Saururaceae   \n",
       "1752        Rosales        325         Rosaceae   \n",
       "1753   Saxifragales        332    Saxifragaceae   \n",
       "1754       Squamata        209  Phrynosomatidae   \n",
       "1755   Commelinales        260    Commelinaceae   \n",
       "\n",
       "                   family_common_name  \n",
       "1                       Myrtle Family  \n",
       "2                        Aster Family  \n",
       "3                  Tyrant Flycatchers  \n",
       "4                         Woodpeckers  \n",
       "5                       Orchid Family  \n",
       "...                               ...  \n",
       "1751             Lizard's-tail Family  \n",
       "1752                      Rose Family  \n",
       "1753                 Saxifrage Family  \n",
       "1754  Zebra-tailed and Horned Lizards  \n",
       "1755                Spiderwort Family  \n",
       "\n",
       "[1755 rows x 18 columns]"
      ]
     },
     "execution_count": 10,
     "metadata": {},
     "output_type": "execute_result"
    }
   ],
   "source": [
    "#help(species)\n",
    "species.to_csvfile(current_path+\"/species.csv\")\n",
    "species_df = pd.read_csv(current_path+\"/species.csv\")\n",
    "species_df"
   ]
  },
  {
   "cell_type": "code",
   "execution_count": 11,
   "id": "4fe5f42d-b2a1-47dc-81c0-788c8d2d7f88",
   "metadata": {},
   "outputs": [
    {
     "data": {
      "text/html": [
       "<div>\n",
       "<style scoped>\n",
       "    .dataframe tbody tr th:only-of-type {\n",
       "        vertical-align: middle;\n",
       "    }\n",
       "\n",
       "    .dataframe tbody tr th {\n",
       "        vertical-align: top;\n",
       "    }\n",
       "\n",
       "    .dataframe thead th {\n",
       "        text-align: right;\n",
       "    }\n",
       "</style>\n",
       "<table border=\"1\" class=\"dataframe\">\n",
       "  <thead>\n",
       "    <tr style=\"text-align: right;\">\n",
       "      <th></th>\n",
       "      <th>species_id</th>\n",
       "      <th>common_name</th>\n",
       "      <th>genus</th>\n",
       "      <th>genus_id</th>\n",
       "      <th>genus_common_name</th>\n",
       "      <th>species</th>\n",
       "      <th>kingdom</th>\n",
       "      <th>itis_taxonomic_sn</th>\n",
       "      <th>functional_type</th>\n",
       "      <th>class_id</th>\n",
       "      <th>class_common_name</th>\n",
       "      <th>class_name</th>\n",
       "      <th>order_id</th>\n",
       "      <th>order_common_name</th>\n",
       "      <th>order_name</th>\n",
       "      <th>family_id</th>\n",
       "      <th>family_name</th>\n",
       "      <th>family_common_name</th>\n",
       "    </tr>\n",
       "  </thead>\n",
       "  <tbody>\n",
       "    <tr>\n",
       "      <th>11</th>\n",
       "      <td>1174</td>\n",
       "      <td>Allegheny serviceberry</td>\n",
       "      <td>Amelanchier</td>\n",
       "      <td>402</td>\n",
       "      <td>Serviceberries (Amelanchier)</td>\n",
       "      <td>laevis</td>\n",
       "      <td>Plantae</td>\n",
       "      <td>182046.0</td>\n",
       "      <td>Deciduous broadleaf</td>\n",
       "      <td>15</td>\n",
       "      <td>Flowering Plants</td>\n",
       "      <td>Magnoliopsida</td>\n",
       "      <td>96</td>\n",
       "      <td>Oleaster, Buckthorn, Rose and Elm Families</td>\n",
       "      <td>Rosales</td>\n",
       "      <td>325</td>\n",
       "      <td>Rosaceae</td>\n",
       "      <td>Rose Family</td>\n",
       "    </tr>\n",
       "    <tr>\n",
       "      <th>24</th>\n",
       "      <td>1446</td>\n",
       "      <td>alternateleaf dogwood</td>\n",
       "      <td>Cornus</td>\n",
       "      <td>560</td>\n",
       "      <td>Dogwoods (Cornus)</td>\n",
       "      <td>alternifolia</td>\n",
       "      <td>Plantae</td>\n",
       "      <td>27813.0</td>\n",
       "      <td>Deciduous broadleaf</td>\n",
       "      <td>15</td>\n",
       "      <td>Flowering Plants</td>\n",
       "      <td>Magnoliopsida</td>\n",
       "      <td>75</td>\n",
       "      <td>Dogwood, Hydrangea and Tupelo Families</td>\n",
       "      <td>Cornales</td>\n",
       "      <td>262</td>\n",
       "      <td>Cornaceae</td>\n",
       "      <td>Dogwood Family</td>\n",
       "    </tr>\n",
       "    <tr>\n",
       "      <th>27</th>\n",
       "      <td>93</td>\n",
       "      <td>American basswood</td>\n",
       "      <td>Tilia</td>\n",
       "      <td>1056</td>\n",
       "      <td>Lindens (Tilia)</td>\n",
       "      <td>americana</td>\n",
       "      <td>Plantae</td>\n",
       "      <td>21536.0</td>\n",
       "      <td>Deciduous broadleaf</td>\n",
       "      <td>15</td>\n",
       "      <td>Flowering Plants</td>\n",
       "      <td>Magnoliopsida</td>\n",
       "      <td>88</td>\n",
       "      <td>Mallow and Mezereum Families</td>\n",
       "      <td>Malvales</td>\n",
       "      <td>294</td>\n",
       "      <td>Malvaceae</td>\n",
       "      <td>Mallow Family</td>\n",
       "    </tr>\n",
       "    <tr>\n",
       "      <th>28</th>\n",
       "      <td>812</td>\n",
       "      <td>American beautyberry</td>\n",
       "      <td>Callicarpa</td>\n",
       "      <td>477</td>\n",
       "      <td>Beautyberries (Callicarpa)</td>\n",
       "      <td>americana</td>\n",
       "      <td>Plantae</td>\n",
       "      <td>32144.0</td>\n",
       "      <td>Deciduous broadleaf</td>\n",
       "      <td>15</td>\n",
       "      <td>Flowering Plants</td>\n",
       "      <td>Magnoliopsida</td>\n",
       "      <td>83</td>\n",
       "      <td>Mint, Olive and Plantain Families</td>\n",
       "      <td>Lamiales</td>\n",
       "      <td>286</td>\n",
       "      <td>Lamiaceae</td>\n",
       "      <td>Mint Family</td>\n",
       "    </tr>\n",
       "    <tr>\n",
       "      <th>29</th>\n",
       "      <td>79</td>\n",
       "      <td>American beech</td>\n",
       "      <td>Fagus</td>\n",
       "      <td>645</td>\n",
       "      <td>Beeches (Fagus)</td>\n",
       "      <td>grandifolia</td>\n",
       "      <td>Plantae</td>\n",
       "      <td>19462.0</td>\n",
       "      <td>Deciduous broadleaf</td>\n",
       "      <td>15</td>\n",
       "      <td>Flowering Plants</td>\n",
       "      <td>Magnoliopsida</td>\n",
       "      <td>79</td>\n",
       "      <td>Birch, Beech, Walnut and Bayberry Families</td>\n",
       "      <td>Fagales</td>\n",
       "      <td>271</td>\n",
       "      <td>Fagaceae</td>\n",
       "      <td>Beech Family</td>\n",
       "    </tr>\n",
       "    <tr>\n",
       "      <th>...</th>\n",
       "      <td>...</td>\n",
       "      <td>...</td>\n",
       "      <td>...</td>\n",
       "      <td>...</td>\n",
       "      <td>...</td>\n",
       "      <td>...</td>\n",
       "      <td>...</td>\n",
       "      <td>...</td>\n",
       "      <td>...</td>\n",
       "      <td>...</td>\n",
       "      <td>...</td>\n",
       "      <td>...</td>\n",
       "      <td>...</td>\n",
       "      <td>...</td>\n",
       "      <td>...</td>\n",
       "      <td>...</td>\n",
       "      <td>...</td>\n",
       "      <td>...</td>\n",
       "    </tr>\n",
       "    <tr>\n",
       "      <th>1713</th>\n",
       "      <td>217</td>\n",
       "      <td>Woods' rose</td>\n",
       "      <td>Rosa</td>\n",
       "      <td>965</td>\n",
       "      <td>Roses (Rosa)</td>\n",
       "      <td>woodsii</td>\n",
       "      <td>Plantae</td>\n",
       "      <td>24847.0</td>\n",
       "      <td>Deciduous broadleaf</td>\n",
       "      <td>15</td>\n",
       "      <td>Flowering Plants</td>\n",
       "      <td>Magnoliopsida</td>\n",
       "      <td>96</td>\n",
       "      <td>Oleaster, Buckthorn, Rose and Elm Families</td>\n",
       "      <td>Rosales</td>\n",
       "      <td>325</td>\n",
       "      <td>Rosaceae</td>\n",
       "      <td>Rose Family</td>\n",
       "    </tr>\n",
       "    <tr>\n",
       "      <th>1717</th>\n",
       "      <td>1905</td>\n",
       "      <td>woolly pawpaw</td>\n",
       "      <td>Asimina</td>\n",
       "      <td>442</td>\n",
       "      <td>Pawpaws (Asimina)</td>\n",
       "      <td>incana</td>\n",
       "      <td>Plantae</td>\n",
       "      <td>18109.0</td>\n",
       "      <td>Deciduous broadleaf</td>\n",
       "      <td>15</td>\n",
       "      <td>Flowering Plants</td>\n",
       "      <td>Magnoliopsida</td>\n",
       "      <td>86</td>\n",
       "      <td>Custard-apple and Magnolia Families</td>\n",
       "      <td>Magnoliales</td>\n",
       "      <td>233</td>\n",
       "      <td>Annonaceae</td>\n",
       "      <td>Custard-apple Family</td>\n",
       "    </tr>\n",
       "    <tr>\n",
       "      <th>1726</th>\n",
       "      <td>97</td>\n",
       "      <td>yellow birch</td>\n",
       "      <td>Betula</td>\n",
       "      <td>457</td>\n",
       "      <td>Birches (Betula)</td>\n",
       "      <td>alleghaniensis</td>\n",
       "      <td>Plantae</td>\n",
       "      <td>19481.0</td>\n",
       "      <td>Deciduous broadleaf</td>\n",
       "      <td>15</td>\n",
       "      <td>Flowering Plants</td>\n",
       "      <td>Magnoliopsida</td>\n",
       "      <td>79</td>\n",
       "      <td>Birch, Beech, Walnut and Bayberry Families</td>\n",
       "      <td>Fagales</td>\n",
       "      <td>245</td>\n",
       "      <td>Betulaceae</td>\n",
       "      <td>Birch Family</td>\n",
       "    </tr>\n",
       "    <tr>\n",
       "      <th>1729</th>\n",
       "      <td>1172</td>\n",
       "      <td>yellow buckeye</td>\n",
       "      <td>Aesculus</td>\n",
       "      <td>383</td>\n",
       "      <td>Buckeyes (Aesculus)</td>\n",
       "      <td>flava</td>\n",
       "      <td>Plantae</td>\n",
       "      <td>837871.0</td>\n",
       "      <td>Deciduous broadleaf</td>\n",
       "      <td>15</td>\n",
       "      <td>Flowering Plants</td>\n",
       "      <td>Magnoliopsida</td>\n",
       "      <td>97</td>\n",
       "      <td>Sumac, Rue and Soapberry Families</td>\n",
       "      <td>Sapindales</td>\n",
       "      <td>329</td>\n",
       "      <td>Sapindaceae</td>\n",
       "      <td>Soapberry Family</td>\n",
       "    </tr>\n",
       "    <tr>\n",
       "      <th>1752</th>\n",
       "      <td>228</td>\n",
       "      <td>Yoshino cherry</td>\n",
       "      <td>Prunus</td>\n",
       "      <td>933</td>\n",
       "      <td>Cherries (Prunus)</td>\n",
       "      <td>yedoensis</td>\n",
       "      <td>Plantae</td>\n",
       "      <td>836663.0</td>\n",
       "      <td>Deciduous broadleaf</td>\n",
       "      <td>15</td>\n",
       "      <td>Flowering Plants</td>\n",
       "      <td>Magnoliopsida</td>\n",
       "      <td>96</td>\n",
       "      <td>Oleaster, Buckthorn, Rose and Elm Families</td>\n",
       "      <td>Rosales</td>\n",
       "      <td>325</td>\n",
       "      <td>Rosaceae</td>\n",
       "      <td>Rose Family</td>\n",
       "    </tr>\n",
       "  </tbody>\n",
       "</table>\n",
       "<p>338 rows × 18 columns</p>\n",
       "</div>"
      ],
      "text/plain": [
       "      species_id             common_name        genus  genus_id  \\\n",
       "11          1174  Allegheny serviceberry  Amelanchier       402   \n",
       "24          1446   alternateleaf dogwood       Cornus       560   \n",
       "27            93       American basswood        Tilia      1056   \n",
       "28           812    American beautyberry   Callicarpa       477   \n",
       "29            79          American beech        Fagus       645   \n",
       "...          ...                     ...          ...       ...   \n",
       "1713         217             Woods' rose         Rosa       965   \n",
       "1717        1905           woolly pawpaw      Asimina       442   \n",
       "1726          97            yellow birch       Betula       457   \n",
       "1729        1172          yellow buckeye     Aesculus       383   \n",
       "1752         228          Yoshino cherry       Prunus       933   \n",
       "\n",
       "                 genus_common_name         species  kingdom  \\\n",
       "11    Serviceberries (Amelanchier)          laevis  Plantae   \n",
       "24               Dogwoods (Cornus)    alternifolia  Plantae   \n",
       "27                 Lindens (Tilia)       americana  Plantae   \n",
       "28      Beautyberries (Callicarpa)       americana  Plantae   \n",
       "29                 Beeches (Fagus)     grandifolia  Plantae   \n",
       "...                            ...             ...      ...   \n",
       "1713                  Roses (Rosa)         woodsii  Plantae   \n",
       "1717             Pawpaws (Asimina)          incana  Plantae   \n",
       "1726              Birches (Betula)  alleghaniensis  Plantae   \n",
       "1729           Buckeyes (Aesculus)           flava  Plantae   \n",
       "1752             Cherries (Prunus)       yedoensis  Plantae   \n",
       "\n",
       "      itis_taxonomic_sn      functional_type  class_id class_common_name  \\\n",
       "11             182046.0  Deciduous broadleaf        15  Flowering Plants   \n",
       "24              27813.0  Deciduous broadleaf        15  Flowering Plants   \n",
       "27              21536.0  Deciduous broadleaf        15  Flowering Plants   \n",
       "28              32144.0  Deciduous broadleaf        15  Flowering Plants   \n",
       "29              19462.0  Deciduous broadleaf        15  Flowering Plants   \n",
       "...                 ...                  ...       ...               ...   \n",
       "1713            24847.0  Deciduous broadleaf        15  Flowering Plants   \n",
       "1717            18109.0  Deciduous broadleaf        15  Flowering Plants   \n",
       "1726            19481.0  Deciduous broadleaf        15  Flowering Plants   \n",
       "1729           837871.0  Deciduous broadleaf        15  Flowering Plants   \n",
       "1752           836663.0  Deciduous broadleaf        15  Flowering Plants   \n",
       "\n",
       "         class_name  order_id                           order_common_name  \\\n",
       "11    Magnoliopsida        96  Oleaster, Buckthorn, Rose and Elm Families   \n",
       "24    Magnoliopsida        75      Dogwood, Hydrangea and Tupelo Families   \n",
       "27    Magnoliopsida        88                Mallow and Mezereum Families   \n",
       "28    Magnoliopsida        83           Mint, Olive and Plantain Families   \n",
       "29    Magnoliopsida        79  Birch, Beech, Walnut and Bayberry Families   \n",
       "...             ...       ...                                         ...   \n",
       "1713  Magnoliopsida        96  Oleaster, Buckthorn, Rose and Elm Families   \n",
       "1717  Magnoliopsida        86         Custard-apple and Magnolia Families   \n",
       "1726  Magnoliopsida        79  Birch, Beech, Walnut and Bayberry Families   \n",
       "1729  Magnoliopsida        97           Sumac, Rue and Soapberry Families   \n",
       "1752  Magnoliopsida        96  Oleaster, Buckthorn, Rose and Elm Families   \n",
       "\n",
       "       order_name  family_id  family_name    family_common_name  \n",
       "11        Rosales        325     Rosaceae           Rose Family  \n",
       "24       Cornales        262    Cornaceae        Dogwood Family  \n",
       "27       Malvales        294    Malvaceae         Mallow Family  \n",
       "28       Lamiales        286    Lamiaceae           Mint Family  \n",
       "29        Fagales        271     Fagaceae          Beech Family  \n",
       "...           ...        ...          ...                   ...  \n",
       "1713      Rosales        325     Rosaceae           Rose Family  \n",
       "1717  Magnoliales        233   Annonaceae  Custard-apple Family  \n",
       "1726      Fagales        245   Betulaceae          Birch Family  \n",
       "1729   Sapindales        329  Sapindaceae      Soapberry Family  \n",
       "1752      Rosales        325     Rosaceae           Rose Family  \n",
       "\n",
       "[338 rows x 18 columns]"
      ]
     },
     "execution_count": 11,
     "metadata": {},
     "output_type": "execute_result"
    }
   ],
   "source": [
    "species_df_D = species_df.loc[species_df['functional_type'] == \"Deciduous broadleaf\"]\n",
    "species_df_D"
   ]
  },
  {
   "cell_type": "code",
   "execution_count": 17,
   "id": "f76585b2-2160-4d19-b98d-3d4b38456eb4",
   "metadata": {},
   "outputs": [
    {
     "data": {
      "text/html": [
       "<div>\n",
       "<style scoped>\n",
       "    .dataframe tbody tr th:only-of-type {\n",
       "        vertical-align: middle;\n",
       "    }\n",
       "\n",
       "    .dataframe tbody tr th {\n",
       "        vertical-align: top;\n",
       "    }\n",
       "\n",
       "    .dataframe thead th {\n",
       "        text-align: right;\n",
       "    }\n",
       "</style>\n",
       "<table border=\"1\" class=\"dataframe\">\n",
       "  <thead>\n",
       "    <tr style=\"text-align: right;\">\n",
       "      <th></th>\n",
       "      <th>species_id</th>\n",
       "      <th>common_name</th>\n",
       "      <th>genus</th>\n",
       "      <th>genus_id</th>\n",
       "      <th>genus_common_name</th>\n",
       "      <th>species</th>\n",
       "      <th>kingdom</th>\n",
       "      <th>itis_taxonomic_sn</th>\n",
       "      <th>functional_type</th>\n",
       "      <th>class_id</th>\n",
       "      <th>class_common_name</th>\n",
       "      <th>class_name</th>\n",
       "      <th>order_id</th>\n",
       "      <th>order_common_name</th>\n",
       "      <th>order_name</th>\n",
       "      <th>family_id</th>\n",
       "      <th>family_name</th>\n",
       "      <th>family_common_name</th>\n",
       "    </tr>\n",
       "  </thead>\n",
       "  <tbody>\n",
       "    <tr>\n",
       "      <th>1</th>\n",
       "      <td>120</td>\n",
       "      <td>'ohi'a lehua</td>\n",
       "      <td>Metrosideros</td>\n",
       "      <td>798</td>\n",
       "      <td>Lehuas (Metrosideros)</td>\n",
       "      <td>polymorpha</td>\n",
       "      <td>Plantae</td>\n",
       "      <td>27259.0</td>\n",
       "      <td>Evergreen broadleaf</td>\n",
       "      <td>15</td>\n",
       "      <td>Flowering Plants</td>\n",
       "      <td>Magnoliopsida</td>\n",
       "      <td>89</td>\n",
       "      <td>Myrtle and Evening-primrose Families</td>\n",
       "      <td>Myrtales</td>\n",
       "      <td>301</td>\n",
       "      <td>Myrtaceae</td>\n",
       "      <td>Myrtle Family</td>\n",
       "    </tr>\n",
       "    <tr>\n",
       "      <th>14</th>\n",
       "      <td>1861</td>\n",
       "      <td>alpine azalea</td>\n",
       "      <td>Kalmia</td>\n",
       "      <td>731</td>\n",
       "      <td>Laurels (Kalmia)</td>\n",
       "      <td>procumbens</td>\n",
       "      <td>Plantae</td>\n",
       "      <td>565766.0</td>\n",
       "      <td>Evergreen broadleaf</td>\n",
       "      <td>15</td>\n",
       "      <td>Flowering Plants</td>\n",
       "      <td>Magnoliopsida</td>\n",
       "      <td>77</td>\n",
       "      <td>Heath, Phlox and Pitcher-plant Families</td>\n",
       "      <td>Ericales</td>\n",
       "      <td>268</td>\n",
       "      <td>Ericaceae</td>\n",
       "      <td>Heath Family</td>\n",
       "    </tr>\n",
       "    <tr>\n",
       "      <th>36</th>\n",
       "      <td>1717</td>\n",
       "      <td>American century plant</td>\n",
       "      <td>Agave</td>\n",
       "      <td>385</td>\n",
       "      <td>Agaves (Agave)</td>\n",
       "      <td>americana</td>\n",
       "      <td>Plantae</td>\n",
       "      <td>182660.0</td>\n",
       "      <td>Evergreen broadleaf</td>\n",
       "      <td>15</td>\n",
       "      <td>Flowering Plants</td>\n",
       "      <td>Magnoliopsida</td>\n",
       "      <td>68</td>\n",
       "      <td>Asparagas, Iris, Orchid and Aloe Families</td>\n",
       "      <td>Asparagales</td>\n",
       "      <td>241</td>\n",
       "      <td>Asparagaceae</td>\n",
       "      <td>Asparagas Family</td>\n",
       "    </tr>\n",
       "    <tr>\n",
       "      <th>48</th>\n",
       "      <td>1982</td>\n",
       "      <td>American holly</td>\n",
       "      <td>Ilex</td>\n",
       "      <td>719</td>\n",
       "      <td>Hollies (Ilex)</td>\n",
       "      <td>opaca</td>\n",
       "      <td>Plantae</td>\n",
       "      <td>27982.0</td>\n",
       "      <td>Evergreen broadleaf</td>\n",
       "      <td>15</td>\n",
       "      <td>Flowering Plants</td>\n",
       "      <td>Magnoliopsida</td>\n",
       "      <td>66</td>\n",
       "      <td>Holly Family</td>\n",
       "      <td>Aquifoliales</td>\n",
       "      <td>236</td>\n",
       "      <td>Aquifoliaceae</td>\n",
       "      <td>Holly Family</td>\n",
       "    </tr>\n",
       "    <tr>\n",
       "      <th>117</th>\n",
       "      <td>1068</td>\n",
       "      <td>banana yucca</td>\n",
       "      <td>Yucca</td>\n",
       "      <td>1103</td>\n",
       "      <td>Yuccas (Yucca)</td>\n",
       "      <td>baccata</td>\n",
       "      <td>Plantae</td>\n",
       "      <td>43134.0</td>\n",
       "      <td>Evergreen broadleaf</td>\n",
       "      <td>15</td>\n",
       "      <td>Flowering Plants</td>\n",
       "      <td>Magnoliopsida</td>\n",
       "      <td>68</td>\n",
       "      <td>Asparagas, Iris, Orchid and Aloe Families</td>\n",
       "      <td>Asparagales</td>\n",
       "      <td>241</td>\n",
       "      <td>Asparagaceae</td>\n",
       "      <td>Asparagas Family</td>\n",
       "    </tr>\n",
       "    <tr>\n",
       "      <th>...</th>\n",
       "      <td>...</td>\n",
       "      <td>...</td>\n",
       "      <td>...</td>\n",
       "      <td>...</td>\n",
       "      <td>...</td>\n",
       "      <td>...</td>\n",
       "      <td>...</td>\n",
       "      <td>...</td>\n",
       "      <td>...</td>\n",
       "      <td>...</td>\n",
       "      <td>...</td>\n",
       "      <td>...</td>\n",
       "      <td>...</td>\n",
       "      <td>...</td>\n",
       "      <td>...</td>\n",
       "      <td>...</td>\n",
       "      <td>...</td>\n",
       "      <td>...</td>\n",
       "    </tr>\n",
       "    <tr>\n",
       "      <th>1675</th>\n",
       "      <td>766</td>\n",
       "      <td>whitethorn ceanothus</td>\n",
       "      <td>Ceanothus</td>\n",
       "      <td>506</td>\n",
       "      <td>Ceanothuses (Ceanothus)</td>\n",
       "      <td>cordulatus</td>\n",
       "      <td>Plantae</td>\n",
       "      <td>28458.0</td>\n",
       "      <td>Evergreen broadleaf</td>\n",
       "      <td>15</td>\n",
       "      <td>Flowering Plants</td>\n",
       "      <td>Magnoliopsida</td>\n",
       "      <td>96</td>\n",
       "      <td>Oleaster, Buckthorn, Rose and Elm Families</td>\n",
       "      <td>Rosales</td>\n",
       "      <td>323</td>\n",
       "      <td>Rhamnaceae</td>\n",
       "      <td>Buckthorn Family</td>\n",
       "    </tr>\n",
       "    <tr>\n",
       "      <th>1679</th>\n",
       "      <td>222</td>\n",
       "      <td>wild banyantree</td>\n",
       "      <td>Ficus</td>\n",
       "      <td>650</td>\n",
       "      <td>Figs (Ficus)</td>\n",
       "      <td>citrifolia</td>\n",
       "      <td>Plantae</td>\n",
       "      <td>19094.0</td>\n",
       "      <td>Evergreen broadleaf</td>\n",
       "      <td>15</td>\n",
       "      <td>Flowering Plants</td>\n",
       "      <td>Magnoliopsida</td>\n",
       "      <td>96</td>\n",
       "      <td>Oleaster, Buckthorn, Rose and Elm Families</td>\n",
       "      <td>Rosales</td>\n",
       "      <td>299</td>\n",
       "      <td>Moraceae</td>\n",
       "      <td>Mulberry Family</td>\n",
       "    </tr>\n",
       "    <tr>\n",
       "      <th>1721</th>\n",
       "      <td>1351</td>\n",
       "      <td>Wright's silktassel</td>\n",
       "      <td>Garrya</td>\n",
       "      <td>664</td>\n",
       "      <td>Silktassels (Garrya)</td>\n",
       "      <td>wrightii</td>\n",
       "      <td>Plantae</td>\n",
       "      <td>27839.0</td>\n",
       "      <td>Evergreen broadleaf</td>\n",
       "      <td>15</td>\n",
       "      <td>Flowering Plants</td>\n",
       "      <td>Magnoliopsida</td>\n",
       "      <td>80</td>\n",
       "      <td>Silk-tassel Family</td>\n",
       "      <td>Garryales</td>\n",
       "      <td>273</td>\n",
       "      <td>Garryaceae</td>\n",
       "      <td>Silk-tassel Family</td>\n",
       "    </tr>\n",
       "    <tr>\n",
       "      <th>1723</th>\n",
       "      <td>1467</td>\n",
       "      <td>yaupon</td>\n",
       "      <td>Ilex</td>\n",
       "      <td>719</td>\n",
       "      <td>Hollies (Ilex)</td>\n",
       "      <td>vomitoria</td>\n",
       "      <td>Plantae</td>\n",
       "      <td>27986.0</td>\n",
       "      <td>Evergreen broadleaf</td>\n",
       "      <td>15</td>\n",
       "      <td>Flowering Plants</td>\n",
       "      <td>Magnoliopsida</td>\n",
       "      <td>66</td>\n",
       "      <td>Holly Family</td>\n",
       "      <td>Aquifoliales</td>\n",
       "      <td>236</td>\n",
       "      <td>Aquifoliaceae</td>\n",
       "      <td>Holly Family</td>\n",
       "    </tr>\n",
       "    <tr>\n",
       "      <th>1724</th>\n",
       "      <td>1766</td>\n",
       "      <td>yellow 'ilima</td>\n",
       "      <td>Sida</td>\n",
       "      <td>997</td>\n",
       "      <td>Fanpetals (Sida)</td>\n",
       "      <td>fallax</td>\n",
       "      <td>Plantae</td>\n",
       "      <td>21746.0</td>\n",
       "      <td>Evergreen broadleaf</td>\n",
       "      <td>15</td>\n",
       "      <td>Flowering Plants</td>\n",
       "      <td>Magnoliopsida</td>\n",
       "      <td>88</td>\n",
       "      <td>Mallow and Mezereum Families</td>\n",
       "      <td>Malvales</td>\n",
       "      <td>294</td>\n",
       "      <td>Malvaceae</td>\n",
       "      <td>Mallow Family</td>\n",
       "    </tr>\n",
       "  </tbody>\n",
       "</table>\n",
       "<p>137 rows × 18 columns</p>\n",
       "</div>"
      ],
      "text/plain": [
       "      species_id             common_name         genus  genus_id  \\\n",
       "1            120            'ohi'a lehua  Metrosideros       798   \n",
       "14          1861           alpine azalea        Kalmia       731   \n",
       "36          1717  American century plant         Agave       385   \n",
       "48          1982          American holly          Ilex       719   \n",
       "117         1068            banana yucca         Yucca      1103   \n",
       "...          ...                     ...           ...       ...   \n",
       "1675         766    whitethorn ceanothus     Ceanothus       506   \n",
       "1679         222         wild banyantree         Ficus       650   \n",
       "1721        1351     Wright's silktassel        Garrya       664   \n",
       "1723        1467                  yaupon          Ilex       719   \n",
       "1724        1766           yellow 'ilima          Sida       997   \n",
       "\n",
       "            genus_common_name     species  kingdom  itis_taxonomic_sn  \\\n",
       "1       Lehuas (Metrosideros)  polymorpha  Plantae            27259.0   \n",
       "14           Laurels (Kalmia)  procumbens  Plantae           565766.0   \n",
       "36             Agaves (Agave)   americana  Plantae           182660.0   \n",
       "48             Hollies (Ilex)       opaca  Plantae            27982.0   \n",
       "117            Yuccas (Yucca)     baccata  Plantae            43134.0   \n",
       "...                       ...         ...      ...                ...   \n",
       "1675  Ceanothuses (Ceanothus)  cordulatus  Plantae            28458.0   \n",
       "1679             Figs (Ficus)  citrifolia  Plantae            19094.0   \n",
       "1721     Silktassels (Garrya)    wrightii  Plantae            27839.0   \n",
       "1723           Hollies (Ilex)   vomitoria  Plantae            27986.0   \n",
       "1724         Fanpetals (Sida)      fallax  Plantae            21746.0   \n",
       "\n",
       "          functional_type  class_id class_common_name     class_name  \\\n",
       "1     Evergreen broadleaf        15  Flowering Plants  Magnoliopsida   \n",
       "14    Evergreen broadleaf        15  Flowering Plants  Magnoliopsida   \n",
       "36    Evergreen broadleaf        15  Flowering Plants  Magnoliopsida   \n",
       "48    Evergreen broadleaf        15  Flowering Plants  Magnoliopsida   \n",
       "117   Evergreen broadleaf        15  Flowering Plants  Magnoliopsida   \n",
       "...                   ...       ...               ...            ...   \n",
       "1675  Evergreen broadleaf        15  Flowering Plants  Magnoliopsida   \n",
       "1679  Evergreen broadleaf        15  Flowering Plants  Magnoliopsida   \n",
       "1721  Evergreen broadleaf        15  Flowering Plants  Magnoliopsida   \n",
       "1723  Evergreen broadleaf        15  Flowering Plants  Magnoliopsida   \n",
       "1724  Evergreen broadleaf        15  Flowering Plants  Magnoliopsida   \n",
       "\n",
       "      order_id                           order_common_name    order_name  \\\n",
       "1           89        Myrtle and Evening-primrose Families      Myrtales   \n",
       "14          77     Heath, Phlox and Pitcher-plant Families      Ericales   \n",
       "36          68   Asparagas, Iris, Orchid and Aloe Families   Asparagales   \n",
       "48          66                                Holly Family  Aquifoliales   \n",
       "117         68   Asparagas, Iris, Orchid and Aloe Families   Asparagales   \n",
       "...        ...                                         ...           ...   \n",
       "1675        96  Oleaster, Buckthorn, Rose and Elm Families       Rosales   \n",
       "1679        96  Oleaster, Buckthorn, Rose and Elm Families       Rosales   \n",
       "1721        80                          Silk-tassel Family     Garryales   \n",
       "1723        66                                Holly Family  Aquifoliales   \n",
       "1724        88                Mallow and Mezereum Families      Malvales   \n",
       "\n",
       "      family_id    family_name  family_common_name  \n",
       "1           301      Myrtaceae       Myrtle Family  \n",
       "14          268      Ericaceae        Heath Family  \n",
       "36          241   Asparagaceae    Asparagas Family  \n",
       "48          236  Aquifoliaceae        Holly Family  \n",
       "117         241   Asparagaceae    Asparagas Family  \n",
       "...         ...            ...                 ...  \n",
       "1675        323     Rhamnaceae    Buckthorn Family  \n",
       "1679        299       Moraceae     Mulberry Family  \n",
       "1721        273     Garryaceae  Silk-tassel Family  \n",
       "1723        236  Aquifoliaceae        Holly Family  \n",
       "1724        294      Malvaceae       Mallow Family  \n",
       "\n",
       "[137 rows x 18 columns]"
      ]
     },
     "execution_count": 17,
     "metadata": {},
     "output_type": "execute_result"
    }
   ],
   "source": [
    "species_df_E = species_df.loc[species_df['functional_type'] == \"Evergreen broadleaf\"]\n",
    "species_df_E"
   ]
  },
  {
   "cell_type": "code",
   "execution_count": 12,
   "id": "7cefabd2-4db4-4eb8-b7b5-1aac269f253e",
   "metadata": {},
   "outputs": [
    {
     "data": {
      "text/plain": [
       "array([   1,    2,    3,    4,    7,   12,   20,   27,   28,   29,   33,\n",
       "         35,   36,   59,   60,   61,   62,   63,   64,   65,   67,   68,\n",
       "         69,   70,   71,   72,   73,   74,   75,   76,   77,   79,   80,\n",
       "         81,   82,   83,   86,   87,   88,   89,   90,   91,   92,   93,\n",
       "         94,   95,   96,   97,   98,   99,  100,  101,  102,  201,  206,\n",
       "        211,  214,  216,  217,  227,  228,  292,  293,  303,  309,  312,\n",
       "        314,  315,  316,  319,  320,  321,  322,  325,  326,  328,  430,\n",
       "        444,  704,  713,  717,  719,  723,  724,  764,  765,  770,  777,\n",
       "        778,  779,  780,  781,  783,  784,  789,  799,  802,  804,  810,\n",
       "        812,  823,  824,  827,  829,  835,  836,  839,  844,  871,  872,\n",
       "        873,  884,  885,  897,  915,  919,  920,  923,  935,  940,  941,\n",
       "        942,  944,  949,  952,  962,  970,  976,  977,  982,  983,  988,\n",
       "        989,  992,  993,  994,  996,  997,  999, 1000, 1001, 1006, 1007,\n",
       "       1008, 1009, 1010, 1015, 1019, 1023, 1030, 1031, 1033, 1044, 1045,\n",
       "       1048, 1049, 1056, 1059, 1060, 1066, 1159, 1161, 1162, 1163, 1169,\n",
       "       1172, 1173, 1174, 1176, 1177, 1179, 1181, 1184, 1185, 1187, 1188,\n",
       "       1189, 1190, 1191, 1192, 1199, 1200, 1201, 1207, 1208, 1211, 1212,\n",
       "       1213, 1214, 1215, 1216, 1217, 1245, 1246, 1248, 1250, 1339, 1342,\n",
       "       1344, 1345, 1348, 1350, 1353, 1358, 1361, 1362, 1363, 1364, 1366,\n",
       "       1367, 1369, 1370, 1371, 1372, 1373, 1374, 1431, 1438, 1439, 1446,\n",
       "       1447, 1448, 1452, 1458, 1471, 1472, 1481, 1484, 1485, 1486, 1487,\n",
       "       1489, 1491, 1493, 1494, 1499, 1503, 1505, 1509, 1510, 1591, 1605,\n",
       "       1607, 1608, 1616, 1632, 1636, 1647, 1649, 1674, 1680, 1682, 1691,\n",
       "       1692, 1698, 1716, 1719, 1728, 1730, 1732, 1733, 1736, 1741, 1744,\n",
       "       1748, 1753, 1754, 1755, 1756, 1758, 1759, 1760, 1761, 1762, 1771,\n",
       "       1775, 1776, 1777, 1779, 1780, 1781, 1805, 1807, 1817, 1818, 1821,\n",
       "       1822, 1832, 1835, 1839, 1840, 1843, 1849, 1850, 1851, 1854, 1857,\n",
       "       1871, 1873, 1875, 1876, 1878, 1880, 1897, 1905, 1923, 1977, 1987,\n",
       "       1997, 2007, 2036, 2042, 2043, 2044, 2046, 2047, 2048, 2049, 2050,\n",
       "       2052, 2053, 2059, 2060, 2061, 2066, 2071, 2087, 2093, 2097, 2101,\n",
       "       2116, 2131, 2138, 2140, 2142, 2143, 2145, 2194])"
      ]
     },
     "execution_count": 12,
     "metadata": {},
     "output_type": "execute_result"
    }
   ],
   "source": [
    "ls_sp1 = np.sort(list(species_df_D[\"species_id\"]))\n",
    "ls_sp1"
   ]
  },
  {
   "cell_type": "code",
   "execution_count": 18,
   "id": "22639975-bb99-4338-8a5a-3318a37f34dd",
   "metadata": {},
   "outputs": [
    {
     "data": {
      "text/plain": [
       "array([ 103,  104,  106,  107,  109,  110,  111,  112,  113,  114,  115,\n",
       "        116,  117,  119,  120,  121,  127,  218,  221,  222,  226,  298,\n",
       "        306,  311,  313,  318,  324,  327,  329,  435,  441,  442,  443,\n",
       "        701,  702,  705,  706,  707,  716,  721,  722,  743,  760,  761,\n",
       "        766,  769,  785,  790,  793,  830,  857,  860,  861,  877,  878,\n",
       "        879,  880,  887,  895,  903,  904,  905,  907,  909,  924,  925,\n",
       "        933,  979,  980,  981,  985,  995, 1003, 1011, 1055, 1057, 1058,\n",
       "       1067, 1068, 1069, 1160, 1166, 1170, 1178, 1322, 1323, 1324, 1346,\n",
       "       1349, 1351, 1359, 1360, 1368, 1430, 1443, 1444, 1467, 1479, 1490,\n",
       "       1593, 1594, 1602, 1609, 1626, 1628, 1644, 1681, 1689, 1717, 1720,\n",
       "       1766, 1799, 1824, 1845, 1846, 1861, 1870, 1887, 1892, 1910, 1922,\n",
       "       1927, 1934, 1938, 1961, 1968, 1969, 1970, 1975, 1976, 1982, 1985,\n",
       "       2006, 2054, 2057, 2064, 2139])"
      ]
     },
     "execution_count": 18,
     "metadata": {},
     "output_type": "execute_result"
    }
   ],
   "source": [
    "ls_sp2 = np.sort(list(species_df_E[\"species_id\"]))\n",
    "ls_sp2"
   ]
  },
  {
   "cell_type": "code",
   "execution_count": 13,
   "id": "d31d0d39-9518-46e0-86d1-946759039424",
   "metadata": {},
   "outputs": [
    {
     "name": "stdout",
     "output_type": "stream",
     "text": [
      "    phenophase_id                  phenophase_name phenophase_category  color\n",
      "1              56                      First leaf               Leaves   <NA>\n",
      "2              57             75% leaf elongation               Leaves   <NA>\n",
      "3              58                    First flower              Flowers   <NA>\n",
      "4              59                      Last flower             Flowers   <NA>\n",
      "5              60                First fruit ripe               Fruits   <NA>\n",
      "6              61            50% of leaves colored              Leaves   <NA>\n",
      "7              63             50% of leaves fallen              Leaves   <NA>\n",
      "8              71           Emergence above ground              Leaves   <NA>\n",
      "9              72                    First flower              Flowers   <NA>\n",
      "10             73                First fruit ripe               Fruits   <NA>\n",
      "11             75                       Full leaf               Leaves   <NA>\n",
      "12             76                      First leaf               Leaves   <NA>\n",
      "13             77                     First bloom              Flowers Green2\n",
      "14             78                      Full bloom              Flowers Green2\n",
      "15             79                       End bloom              Flowers Green2\n",
      "16            105                        Budburst              Needles   <NA>\n",
      "17            106                   First needles              Needles   <NA>\n",
      "18            107                 First male cone         Pollen cones   <NA>\n",
      "19            108           First pollen released         Pollen cones   <NA>\n",
      "20            109            First needles fallen              Needles   <NA>\n",
      "21            121                First flower bud              Flowers   <NA>\n",
      "22            124                     First fruit               Fruits   <NA>\n",
      "23            127                      First leaf               Leaves   <NA>\n",
      "24            128             75% leaf elongation               Leaves   <NA>\n",
      "25            137               First leaf fallen               Leaves   <NA>\n",
      "26            180         >=75% of full leaf size               Leaves Green1\n",
      "27            181         >=50% of leaves colored               Leaves Green1\n",
      "28            182              All leaves colored               Leaves Green1\n",
      "29            183          >=50% of leaves fallen               Leaves Green1\n",
      "30            184               All leaves fallen               Leaves Green1\n",
      "31            186                  Full flowering              Flowers Green2\n",
      "32            196             Full pollen release              Flowers Green2\n",
      "33            200             All leaves withered               Leaves Green1\n",
      "34            201                    Open flowers              Flowers Green2\n",
      "35            202                     Ripe fruits               Fruits Green3\n",
      "36            205                    Open flowers              Flowers Green2\n",
      "37            206                  Full flowering              Flowers Green2\n",
      "38            207                End of flowering              Flowers Green2\n",
      "39            210                    Open flowers              Flowers Green2\n",
      "40            211                  Full flowering              Flowers Green2\n",
      "41            221             Full pollen release         Pollen cones Green2\n",
      "42            227                      Ripe seeds               Fruits Green3\n",
      "43            232                 Emerging leaves               Leaves Green1\n",
      "44            233           Young unfolded leaves               Leaves Green1\n",
      "45            256                     Flower buds              Flowers Green2\n",
      "46            261        >=50% of needles colored              Needles Green1\n",
      "47            262             All needles colored              Needles Green1\n",
      "48            263         >=50% of needles fallen              Needles Green1\n",
      "49            264              All needles fallen              Needles Green1\n",
      "50            274                   Adults on land            Activity Brown1\n",
      "51            275                  Adults in water            Activity Brown1\n",
      "52            276                       Vocalizing        Reproduction Brown2\n",
      "53            279                          Mating         Reproduction Brown2\n",
      "54            281                      Fresh eggs         Reproduction Brown2\n",
      "55            289                      Dead adults         Development Brown3\n",
      "56            290             Individuals in a net              Method Brown4\n",
      "57            291            Individuals in a trap              Method Brown4\n",
      "58            292                 Live individuals            Activity Brown1\n",
      "59            293                   Calls or song             Activity Brown1\n",
      "60            294             Singing individuals             Activity Brown1\n",
      "61            295         Territorial individuals             Activity Brown1\n",
      "62            296                          Mating         Reproduction Brown2\n",
      "63            297                   Nest building         Reproduction Brown2\n",
      "64            298                    Occupied nest        Reproduction Brown2\n",
      "65            304                       Nestlings          Development Brown3\n",
      "66            308                   Fledged young          Development Brown3\n",
      "67            310           Fruit/seed consumption            Activity Brown1\n",
      "68            311                    Nut gathering            Activity Brown1\n",
      "69            312                Flower visitation            Activity Brown1\n",
      "70            315                 Dead individuals         Development Brown3\n",
      "71            316         Dead nestlings or young          Development Brown3\n",
      "72            318             Adults in freshwater            Activity Brown1\n",
      "73            319              Adults in saltwater            Activity Brown1\n",
      "74            322        Adults migrating upstream            Activity Brown1\n",
      "75            323      Adults migrating downstream            Activity Brown1\n",
      "76            324       Juveniles moving upstream          Development Brown1\n",
      "77            326            Individuals on a hook              Method Brown4\n",
      "78            327                           Adults            Activity Brown1\n",
      "79            330                          Mating         Reproduction Brown2\n",
      "80            331                      Egg laying         Reproduction Brown2\n",
      "81            333                     Caterpillars         Development Brown3\n",
      "82            336                Dead caterpillars         Development Brown3\n",
      "83            337           Individuals at a light              Method Brown4\n",
      "84            338                 Males vocalizing        Reproduction Brown2\n",
      "85            339                     Male combat         Reproduction Brown2\n",
      "86            340                       Courtship         Reproduction Brown2\n",
      "87            341                           Mating        Reproduction Brown2\n",
      "88            344                Young individuals         Development Brown3\n",
      "89            349                      Egg laying         Reproduction Brown2\n",
      "90            350                          Mating         Reproduction Brown2\n",
      "91            353         Recently emerged adults          Development Brown3\n",
      "92            354                Migrating adults             Activity Brown1\n",
      "93            355             Individuals on land             Activity Brown1\n",
      "94            356            Individuals in water             Activity Brown1\n",
      "95            357                Adults vocalizing        Reproduction Brown2\n",
      "96            362                         Nesting         Reproduction Brown2\n",
      "97            363                          Mating         Reproduction Brown2\n",
      "98            367                           Larvae         Development Brown3\n",
      "99            370                      Male adults            Activity Brown1\n",
      "100           371               Breaking leaf buds              Leaves Green1\n",
      "101           373              Breaking leaf buds               Leaves Green1\n",
      "102           374            All leaf buds broken               Leaves Green1\n",
      "103           390                      Ripe fruits              Fruits Green3\n",
      "104           392                Unripe seed cones          Seed cones Green3\n",
      "105           393                  Ripe seed cones          Seed cones Green3\n",
      "106           412                     First bloom              Flowers   <NA>\n",
      "107           416                       End bloom              Flowers   <NA>\n",
      "108           417                 First red berry               Fruits   <NA>\n",
      "109           418                Full red berries               Fruits   <NA>\n",
      "110           419           First shriveled berry               Fruits   <NA>\n",
      "111           420          Full shriveled berries               Fruits   <NA>\n",
      "112           428                     First bloom              Flowers   <NA>\n",
      "113           429                      Full bloom              Flowers   <NA>\n",
      "114           440           Juveniles in saltwater         Development Brown3\n",
      "115           441               Young individuals          Development Brown3\n",
      "116           442                   Nest building         Reproduction Brown2\n",
      "117           443                  Adults feeding             Activity Brown1\n",
      "118           444                Migrating adults             Activity Brown1\n",
      "119           445                   Adults feeding            Activity Brown1\n",
      "120           446                          Feeding            Activity Brown1\n",
      "121           447             Caterpillars feeding         Development Brown3\n",
      "122           448             Dead or dying adults         Development Brown3\n",
      "123           449                           Nymphs         Development Brown3\n",
      "124           450                   Nymphs feeding         Development Brown3\n",
      "125           451                      Dead nymphs         Development Brown3\n",
      "126           452              Individuals on land            Activity Brown1\n",
      "127           453             Individuals in water            Activity Brown1\n",
      "128           454                      Summer coat         Development Brown3\n",
      "129           455                      Winter coat         Development Brown3\n",
      "130           456                     Male combat         Reproduction Brown3\n",
      "131           457               Insect consumption            Activity Brown1\n",
      "132           458 Individuals at a feeding station              Method Brown4\n",
      "133           467             Increasing leaf size              Leaves Green1\n",
      "134           471                   Falling leaves              Leaves Green1\n",
      "135           472                  Falling needles             Needles Green1\n",
      "136           480            Breaking needle buds              Needles Green1\n",
      "137           481            Breaking needle buds              Needles Green1\n",
      "138           482                  Initial growth               Leaves Green1\n",
      "139           483                           Leaves              Leaves Green1\n",
      "140           484                    Young leaves               Leaves Green1\n",
      "141           485                   Young needles              Needles Green1\n",
      "142           486                   Young needles              Needles Green1\n",
      "143           487                         Needles              Needles Green1\n",
      "144           488                          Leaves               Leaves Green1\n",
      "145           489                          Leaves               Leaves Green1\n",
      "146           490                    Pollen cones         Pollen cones Green2\n",
      "147           491         Recent cone or seed drop          Seed cones Green3\n",
      "148           492                  Initial growth               Leaves Green1\n",
      "149           493                    Flower heads              Flowers Green2\n",
      "150           494                    Open flowers              Flowers Green2\n",
      "151           495               Open pollen cones         Pollen cones Green2\n",
      "152           496                Emerging needles              Needles Green1\n",
      "153           497                          Leaves               Leaves Green1\n",
      "154           498                   Colored leaves              Leaves Green1\n",
      "155           499                  Colored needles             Needles Green1\n",
      "156           500           Flowers or flower buds             Flowers Green2\n",
      "157           501                     Open flowers             Flowers Green2\n",
      "158           502                  Pollen release              Flowers Green2\n",
      "159           503                  Pollen release         Pollen cones Green2\n",
      "160           504        Recent fruit or seed drop              Fruits Green3\n",
      "161           505                    Young leaves               Leaves Green1\n",
      "162           506             Caterpillars in tent         Development Brown3\n",
      "163           507                        Subadults         Development Brown3\n",
      "164           508                  Initial growth               Leaves Green1\n",
      "165           509                          Leaves               Leaves Green1\n",
      "166           510               New side branches               Leaves Green1\n",
      "167           511                      Receptacles             Flowers Green2\n",
      "168           512                 Flat receptacles             Flowers Green2\n",
      "169           513      Smooth inflated receptacles             Flowers Green2\n",
      "170           514      Dotted inflated receptacles             Flowers Green2\n",
      "171           515                 Torn receptacles             Flowers Green2\n",
      "172           516                           Fruits              Fruits Green3\n",
      "173           517                   Nest building         Reproduction Brown2\n",
      "174           518                   Nest building         Reproduction Brown2\n",
      "175           519                      Drone cells        Reproduction Brown2\n",
      "176           520               Nest provisioning         Reproduction Brown2\n",
      "177           521                            Eggs         Reproduction Brown2\n",
      "178           522                            Pupae         Development Brown3\n",
      "179           523                     Dead adults          Development Brown3\n",
      "180           524                             Eggs        Reproduction Brown2\n",
      "181           525                    Winged adults            Activity Brown1\n",
      "182           526                     Dead nymphs          Development Brown3\n",
      "183           527               Nest provisioning         Reproduction Brown2\n",
      "184           528                Courtship calling        Reproduction Brown2\n",
      "185           529               Recent egg laying         Reproduction Brown2\n",
      "186           530                  Cast-off skins          Development Brown3\n",
      "187           531                            Eggs         Reproduction Brown2\n",
      "188           532                   Larvae feeding         Development Brown3\n",
      "189           533                      Dead larvae         Development Brown3\n",
      "190           539                     Downy young          Development Brown3\n",
      "191           540         Partially-fledged young          Development Brown3\n",
      "192           541                   Fledged young          Development Brown3\n",
      "193           542                         Feeding             Activity Brown1\n",
      "194           544                   Dormant nymphs         Development Brown3\n",
      "195           545              Post-dormant nymphs         Development Brown3\n",
      "196           546                         Crawlers         Development Brown3\n",
      "197           547                       Egg laying        Reproduction Brown2\n",
      "198           548                      Egg laying         Reproduction Brown2\n",
      "199           549                          Mating         Reproduction Brown2\n",
      "    pheno_class_id\n",
      "1                1\n",
      "2                2\n",
      "3                7\n",
      "4                9\n",
      "5               12\n",
      "6                4\n",
      "7                5\n",
      "8                1\n",
      "9                7\n",
      "10              12\n",
      "11               3\n",
      "12               1\n",
      "13               7\n",
      "14               7\n",
      "15               9\n",
      "16               1\n",
      "17               2\n",
      "18               6\n",
      "19               8\n",
      "20               5\n",
      "21               6\n",
      "22              10\n",
      "23               1\n",
      "24               2\n",
      "25               5\n",
      "26               2\n",
      "27               4\n",
      "28               4\n",
      "29               5\n",
      "30               5\n",
      "31               7\n",
      "32               8\n",
      "33               5\n",
      "34               7\n",
      "35              12\n",
      "36               7\n",
      "37               7\n",
      "38               9\n",
      "39               7\n",
      "40               7\n",
      "41               8\n",
      "42              12\n",
      "43               1\n",
      "44               2\n",
      "45               6\n",
      "46               4\n",
      "47               4\n",
      "48               5\n",
      "49               5\n",
      "50              66\n",
      "51              65\n",
      "52              67\n",
      "53              82\n",
      "54              90\n",
      "55             130\n",
      "56             135\n",
      "57             135\n",
      "58              62\n",
      "59              67\n",
      "60              84\n",
      "61              83\n",
      "62              82\n",
      "63              86\n",
      "64              94\n",
      "65              99\n",
      "66             102\n",
      "67              70\n",
      "68              72\n",
      "69              71\n",
      "70             130\n",
      "71             131\n",
      "72              63\n",
      "73              64\n",
      "74             126\n",
      "75             127\n",
      "76             128\n",
      "77             135\n",
      "78              62\n",
      "79              82\n",
      "80             136\n",
      "81             109\n",
      "82             133\n",
      "83             135\n",
      "84              67\n",
      "85              85\n",
      "86              77\n",
      "87              82\n",
      "88              98\n",
      "89             136\n",
      "90              82\n",
      "91             116\n",
      "92             125\n",
      "93              66\n",
      "94              65\n",
      "95              67\n",
      "96              87\n",
      "97              82\n",
      "98             108\n",
      "99              80\n",
      "100              1\n",
      "101              1\n",
      "102              3\n",
      "103             12\n",
      "104             11\n",
      "105             12\n",
      "106              7\n",
      "107              9\n",
      "108             12\n",
      "109             12\n",
      "110             12\n",
      "111             12\n",
      "112              7\n",
      "113              7\n",
      "114             98\n",
      "115             98\n",
      "116             86\n",
      "117             68\n",
      "118            125\n",
      "119             68\n",
      "120             68\n",
      "121             75\n",
      "122            130\n",
      "123            111\n",
      "124             76\n",
      "125            134\n",
      "126             66\n",
      "127             65\n",
      "128            123\n",
      "129            124\n",
      "130             85\n",
      "131             69\n",
      "132            135\n",
      "133              2\n",
      "134              5\n",
      "135              5\n",
      "136              1\n",
      "137              1\n",
      "138              1\n",
      "139              3\n",
      "140              2\n",
      "141              2\n",
      "142              2\n",
      "143              3\n",
      "144              3\n",
      "145              3\n",
      "146              6\n",
      "147             13\n",
      "148              1\n",
      "149              6\n",
      "150              7\n",
      "151              7\n",
      "152              1\n",
      "153              3\n",
      "154              4\n",
      "155              4\n",
      "156              6\n",
      "157              7\n",
      "158              8\n",
      "159              8\n",
      "160             13\n",
      "161              2\n",
      "162            110\n",
      "163            114\n",
      "164              1\n",
      "165              3\n",
      "166              2\n",
      "167              6\n",
      "168              6\n",
      "169              6\n",
      "170              6\n",
      "171              9\n",
      "172             10\n",
      "173             86\n",
      "174             86\n",
      "175             93\n",
      "176             95\n",
      "177             90\n",
      "178            115\n",
      "179            130\n",
      "180             90\n",
      "181             81\n",
      "182            134\n",
      "183             95\n",
      "184             78\n",
      "185             91\n",
      "186            117\n",
      "187             90\n",
      "188             74\n",
      "189            132\n",
      "190            100\n",
      "191            101\n",
      "192            102\n",
      "193             68\n",
      "194            129\n",
      "195            113\n",
      "196            112\n",
      "197            136\n",
      "198            136\n",
      "199             82\n"
     ]
    },
    {
     "name": "stderr",
     "output_type": "stream",
     "text": [
      "R[write to console]: No phenophase provided for further validation.\n",
      "\n"
     ]
    },
    {
     "name": "stdout",
     "output_type": "stream",
     "text": [
      "Help on NULLType in module rpy2.rinterface_lib.sexp object:\n",
      "\n",
      "class NULLType(Sexp)\n",
      " |  NULLType(*args, **kwargs)\n",
      " |  \n",
      " |  A singleton class for R's NULL.\n",
      " |  \n",
      " |  Method resolution order:\n",
      " |      NULLType\n",
      " |      Sexp\n",
      " |      rpy2.rinterface_lib._rinterface_capi.SupportsSEXP\n",
      " |      builtins.object\n",
      " |  \n",
      " |  Methods defined here:\n",
      " |  \n",
      " |  __bool__(self) -> bool\n",
      " |      This is always False.\n",
      " |  \n",
      " |  __init__(self)\n",
      " |      Initialize self.  See help(type(self)) for accurate signature.\n",
      " |  \n",
      " |  ----------------------------------------------------------------------\n",
      " |  Readonly properties defined here:\n",
      " |  \n",
      " |  rid\n",
      " |      ID of the underlying R object (memory address).\n",
      " |  \n",
      " |  ----------------------------------------------------------------------\n",
      " |  Data descriptors defined here:\n",
      " |  \n",
      " |  __sexp__\n",
      " |      Access to the underlying C pointer to the R object.\n",
      " |      \n",
      " |      When assigning a new SexpCapsule to this attribute, the\n",
      " |      R C-level type of the new capsule must be equal to the\n",
      " |      type of the old capsule. A ValueError is raised otherwise.\n",
      " |  \n",
      " |  ----------------------------------------------------------------------\n",
      " |  Data and other attributes defined here:\n",
      " |  \n",
      " |  __abstractmethods__ = frozenset()\n",
      " |  \n",
      " |  ----------------------------------------------------------------------\n",
      " |  Methods inherited from Sexp:\n",
      " |  \n",
      " |  __getstate__(self) -> bytes\n",
      " |  \n",
      " |  __repr__(self) -> str\n",
      " |      Return repr(self).\n",
      " |  \n",
      " |  __setstate__(self, state: bytes) -> None\n",
      " |  \n",
      " |  do_slot = _(*args, **kwargs)\n",
      " |  \n",
      " |  do_slot_assign(self, name: str, value) -> None\n",
      " |  \n",
      " |  get_attrib = _(*args, **kwargs)\n",
      " |  \n",
      " |  list_attrs = _(*args, **kwargs)\n",
      " |  \n",
      " |  rsame(self, sexp) -> bool\n",
      " |      # TODO: deprecate this (and implement __eq__) ?\n",
      " |  \n",
      " |  ----------------------------------------------------------------------\n",
      " |  Readonly properties inherited from Sexp:\n",
      " |  \n",
      " |  __sexp_refcount__\n",
      " |      Count the number of independent Python references to\n",
      " |      the underlying R object.\n",
      " |  \n",
      " |  named\n",
      " |  \n",
      " |  names_from_c_attribute\n",
      " |  \n",
      " |  typeof\n",
      " |  \n",
      " |  ----------------------------------------------------------------------\n",
      " |  Data descriptors inherited from Sexp:\n",
      " |  \n",
      " |  names\n",
      " |  \n",
      " |  rclass\n",
      " |      Get or set the R \"class\" attribute for the object.\n",
      " |  \n",
      " |  ----------------------------------------------------------------------\n",
      " |  Data descriptors inherited from rpy2.rinterface_lib._rinterface_capi.SupportsSEXP:\n",
      " |  \n",
      " |  __dict__\n",
      " |      dictionary for instance variables (if defined)\n",
      " |  \n",
      " |  __weakref__\n",
      " |      list of weak references to the object (if defined)\n",
      "\n"
     ]
    }
   ],
   "source": [
    "phenophases = npn_phenophases()\n",
    "help(phenophases)\n",
    "# phenophases.to_csvfile(current_path+\"/phenophases.csv\")\n",
    "# phenophases_df = pd.read_csv(current_path+\"/phenophases.csv\")\n",
    "# phenophases_df"
   ]
  },
  {
   "cell_type": "markdown",
   "id": "e5f78734-5aa2-4570-8cf7-5efffe9ef48e",
   "metadata": {},
   "source": [
    "#### Species and Phenophases\n",
    "\n",
    "It's not possible to download all the species based on the \"functional_type\"! I get list of all the species and download all then concatenate them.\n",
    "\n",
    "**Species id**: \n",
    "- DBF (1174,1446,...)\n",
    "- EBF(120, 1861,...)\n",
    "- GRA(1677,1032,1971,...)"
   ]
  },
  {
   "cell_type": "markdown",
   "id": "a11c2d6c-1974-49d4-803a-030ea40ab139",
   "metadata": {},
   "source": [
    "**Phenophases**:\n",
    "\n",
    "- breaking leaf buds (371,373)\n",
    "- initial growth (482,492,508)"
   ]
  },
  {
   "cell_type": "markdown",
   "id": "8f347fd1-a470-4c12-b37b-596d3538d2f0",
   "metadata": {},
   "source": [
    "### Data preparation"
   ]
  },
  {
   "cell_type": "code",
   "execution_count": 14,
   "id": "face47c9-7e8a-4375-b3fc-0da2569c7431",
   "metadata": {},
   "outputs": [],
   "source": [
    "# Load dataset\n",
    "# years is needed! [start,end+1]!\n",
    "# If there is no data for one year we get error---check years=[2013, 2014]\n",
    "\n",
    "# A lot of queries returned no data Error! For example the one below\n",
    "\n",
    "# dataset = NPNPhenor(species=1446, phenophase=373, years=[2007, 2018])\n",
    "# dataset.download()\n",
    "# df1 = dataset.load()\n",
    "# df1"
   ]
  },
  {
   "cell_type": "code",
   "execution_count": 19,
   "id": "1cbcb5da-dbbd-4b7c-8fd7-9988e06c0e8d",
   "metadata": {},
   "outputs": [
    {
     "name": "stdout",
     "output_type": "stream",
     "text": [
      "338\n",
      "137\n"
     ]
    }
   ],
   "source": [
    "# In totall there are 1755 species!\n",
    "print(len(ls_sp1))\n",
    "print(len(ls_sp2))"
   ]
  },
  {
   "cell_type": "code",
   "execution_count": 20,
   "id": "48112415-31f1-42ee-a0b2-f1454384f178",
   "metadata": {},
   "outputs": [
    {
     "name": "stdout",
     "output_type": "stream",
     "text": [
      "downloading /tmp/data/NPN/phenor_npn_data_103_371_2007-01-01_2007-12-31.rds\n",
      "  |======================================================================| 100%\n"
     ]
    },
    {
     "name": "stderr",
     "output_type": "stream",
     "text": [
      "R[write to console]: No encoding supplied: defaulting to UTF-8.\n",
      "\n",
      "R[write to console]: Error in (function (species = 3, phenophase = 371, start = \"2000-01-01\",  : \n",
      "  Query returned no data, check your input parameters!\n",
      "\n"
     ]
    },
    {
     "name": "stdout",
     "output_type": "stream",
     "text": [
      "downloading /tmp/data/NPN/phenor_npn_data_103_373_2007-01-01_2007-12-31.rds\n",
      "  |======================================================================| 100%\n"
     ]
    },
    {
     "name": "stderr",
     "output_type": "stream",
     "text": [
      "R[write to console]: No encoding supplied: defaulting to UTF-8.\n",
      "\n",
      "R[write to console]: Error in (function (species = 3, phenophase = 371, start = \"2000-01-01\",  : \n",
      "  Query returned no data, check your input parameters!\n",
      "\n"
     ]
    },
    {
     "name": "stdout",
     "output_type": "stream",
     "text": [
      "downloading /tmp/data/NPN/phenor_npn_data_104_371_2007-01-01_2007-12-31.rds\n",
      "  |======================================================================| 100%\n"
     ]
    },
    {
     "name": "stderr",
     "output_type": "stream",
     "text": [
      "R[write to console]: No encoding supplied: defaulting to UTF-8.\n",
      "\n",
      "R[write to console]: Error in (function (species = 3, phenophase = 371, start = \"2000-01-01\",  : \n",
      "  Query returned no data, check your input parameters!\n",
      "\n"
     ]
    },
    {
     "name": "stdout",
     "output_type": "stream",
     "text": [
      "downloading /tmp/data/NPN/phenor_npn_data_104_373_2007-01-01_2007-12-31.rds\n",
      "  |======================================================================| 100%\n"
     ]
    },
    {
     "name": "stderr",
     "output_type": "stream",
     "text": [
      "R[write to console]: No encoding supplied: defaulting to UTF-8.\n",
      "\n",
      "R[write to console]: Error in (function (species = 3, phenophase = 371, start = \"2000-01-01\",  : \n",
      "  Query returned no data, check your input parameters!\n",
      "\n"
     ]
    },
    {
     "name": "stdout",
     "output_type": "stream",
     "text": [
      "downloading /tmp/data/NPN/phenor_npn_data_106_371_2007-01-01_2007-12-31.rds\n",
      "  |======================================================================| 100%\n"
     ]
    },
    {
     "name": "stderr",
     "output_type": "stream",
     "text": [
      "R[write to console]: No encoding supplied: defaulting to UTF-8.\n",
      "\n",
      "R[write to console]: Error in (function (species = 3, phenophase = 371, start = \"2000-01-01\",  : \n",
      "  Query returned no data, check your input parameters!\n",
      "\n"
     ]
    },
    {
     "name": "stdout",
     "output_type": "stream",
     "text": [
      "downloading /tmp/data/NPN/phenor_npn_data_106_373_2007-01-01_2007-12-31.rds\n",
      "  |======================================================================| 100%\n"
     ]
    },
    {
     "name": "stderr",
     "output_type": "stream",
     "text": [
      "R[write to console]: No encoding supplied: defaulting to UTF-8.\n",
      "\n",
      "R[write to console]: Error in (function (species = 3, phenophase = 371, start = \"2000-01-01\",  : \n",
      "  Query returned no data, check your input parameters!\n",
      "\n"
     ]
    },
    {
     "name": "stdout",
     "output_type": "stream",
     "text": [
      "downloading /tmp/data/NPN/phenor_npn_data_107_371_2007-01-01_2007-12-31.rds\n",
      "  |======================================================================| 100%\n"
     ]
    },
    {
     "name": "stderr",
     "output_type": "stream",
     "text": [
      "R[write to console]: No encoding supplied: defaulting to UTF-8.\n",
      "\n",
      "R[write to console]: Error in (function (species = 3, phenophase = 371, start = \"2000-01-01\",  : \n",
      "  Query returned no data, check your input parameters!\n",
      "\n"
     ]
    },
    {
     "name": "stdout",
     "output_type": "stream",
     "text": [
      "downloading /tmp/data/NPN/phenor_npn_data_107_373_2007-01-01_2007-12-31.rds\n",
      "  |======================================================================| 100%\n"
     ]
    },
    {
     "name": "stderr",
     "output_type": "stream",
     "text": [
      "R[write to console]: No encoding supplied: defaulting to UTF-8.\n",
      "\n",
      "R[write to console]: Error in (function (species = 3, phenophase = 371, start = \"2000-01-01\",  : \n",
      "  Query returned no data, check your input parameters!\n",
      "\n"
     ]
    },
    {
     "name": "stdout",
     "output_type": "stream",
     "text": [
      "downloading /tmp/data/NPN/phenor_npn_data_109_371_2007-01-01_2007-12-31.rds\n",
      "  |======================================================================| 100%\n"
     ]
    },
    {
     "name": "stderr",
     "output_type": "stream",
     "text": [
      "R[write to console]: No encoding supplied: defaulting to UTF-8.\n",
      "\n",
      "R[write to console]: Error in (function (species = 3, phenophase = 371, start = \"2000-01-01\",  : \n",
      "  Query returned no data, check your input parameters!\n",
      "\n"
     ]
    },
    {
     "name": "stdout",
     "output_type": "stream",
     "text": [
      "downloading /tmp/data/NPN/phenor_npn_data_109_373_2007-01-01_2007-12-31.rds\n",
      "  |======================================================================| 100%\n"
     ]
    },
    {
     "name": "stderr",
     "output_type": "stream",
     "text": [
      "R[write to console]: No encoding supplied: defaulting to UTF-8.\n",
      "\n",
      "R[write to console]: Error in (function (species = 3, phenophase = 371, start = \"2000-01-01\",  : \n",
      "  Query returned no data, check your input parameters!\n",
      "\n"
     ]
    },
    {
     "name": "stdout",
     "output_type": "stream",
     "text": [
      "downloading /tmp/data/NPN/phenor_npn_data_110_371_2007-01-01_2007-12-31.rds\n",
      "  |======================================================================| 100%\n"
     ]
    },
    {
     "name": "stderr",
     "output_type": "stream",
     "text": [
      "R[write to console]: No encoding supplied: defaulting to UTF-8.\n",
      "\n",
      "R[write to console]: Error in (function (species = 3, phenophase = 371, start = \"2000-01-01\",  : \n",
      "  Query returned no data, check your input parameters!\n",
      "\n"
     ]
    },
    {
     "name": "stdout",
     "output_type": "stream",
     "text": [
      "downloading /tmp/data/NPN/phenor_npn_data_110_373_2007-01-01_2007-12-31.rds\n",
      "  |======================================================================| 100%\n"
     ]
    },
    {
     "name": "stderr",
     "output_type": "stream",
     "text": [
      "R[write to console]: No encoding supplied: defaulting to UTF-8.\n",
      "\n",
      "R[write to console]: Error in (function (species = 3, phenophase = 371, start = \"2000-01-01\",  : \n",
      "  Query returned no data, check your input parameters!\n",
      "\n"
     ]
    },
    {
     "name": "stdout",
     "output_type": "stream",
     "text": [
      "downloading /tmp/data/NPN/phenor_npn_data_111_371_2007-01-01_2007-12-31.rds\n",
      "  |======================================================================| 100%\n"
     ]
    },
    {
     "name": "stderr",
     "output_type": "stream",
     "text": [
      "R[write to console]: No encoding supplied: defaulting to UTF-8.\n",
      "\n",
      "R[write to console]: Error in (function (species = 3, phenophase = 371, start = \"2000-01-01\",  : \n",
      "  Query returned no data, check your input parameters!\n",
      "\n"
     ]
    },
    {
     "name": "stdout",
     "output_type": "stream",
     "text": [
      "downloading /tmp/data/NPN/phenor_npn_data_111_373_2007-01-01_2007-12-31.rds\n",
      "  |======================================================================| 100%\n"
     ]
    },
    {
     "name": "stderr",
     "output_type": "stream",
     "text": [
      "R[write to console]: No encoding supplied: defaulting to UTF-8.\n",
      "\n",
      "R[write to console]: Error in (function (species = 3, phenophase = 371, start = \"2000-01-01\",  : \n",
      "  Query returned no data, check your input parameters!\n",
      "\n"
     ]
    },
    {
     "name": "stdout",
     "output_type": "stream",
     "text": [
      "downloading /tmp/data/NPN/phenor_npn_data_112_371_2007-01-01_2007-12-31.rds\n",
      "  |======================================================================| 100%\n"
     ]
    },
    {
     "name": "stderr",
     "output_type": "stream",
     "text": [
      "R[write to console]: No encoding supplied: defaulting to UTF-8.\n",
      "\n",
      "R[write to console]: Error in (function (species = 3, phenophase = 371, start = \"2000-01-01\",  : \n",
      "  Query returned no data, check your input parameters!\n",
      "\n"
     ]
    },
    {
     "name": "stdout",
     "output_type": "stream",
     "text": [
      "downloading /tmp/data/NPN/phenor_npn_data_112_373_2007-01-01_2007-12-31.rds\n",
      "  |======================================================================| 100%\n"
     ]
    },
    {
     "name": "stderr",
     "output_type": "stream",
     "text": [
      "R[write to console]: No encoding supplied: defaulting to UTF-8.\n",
      "\n",
      "R[write to console]: Error in (function (species = 3, phenophase = 371, start = \"2000-01-01\",  : \n",
      "  Query returned no data, check your input parameters!\n",
      "\n"
     ]
    },
    {
     "name": "stdout",
     "output_type": "stream",
     "text": [
      "downloading /tmp/data/NPN/phenor_npn_data_113_371_2007-01-01_2007-12-31.rds\n",
      "  |======================================================================| 100%\n"
     ]
    },
    {
     "name": "stderr",
     "output_type": "stream",
     "text": [
      "R[write to console]: No encoding supplied: defaulting to UTF-8.\n",
      "\n",
      "R[write to console]: Error in (function (species = 3, phenophase = 371, start = \"2000-01-01\",  : \n",
      "  Query returned no data, check your input parameters!\n",
      "\n"
     ]
    },
    {
     "name": "stdout",
     "output_type": "stream",
     "text": [
      "downloading /tmp/data/NPN/phenor_npn_data_113_373_2007-01-01_2007-12-31.rds\n",
      "  |======================================================================| 100%\n"
     ]
    },
    {
     "name": "stderr",
     "output_type": "stream",
     "text": [
      "R[write to console]: No encoding supplied: defaulting to UTF-8.\n",
      "\n",
      "R[write to console]: Error in (function (species = 3, phenophase = 371, start = \"2000-01-01\",  : \n",
      "  Query returned no data, check your input parameters!\n",
      "\n"
     ]
    },
    {
     "name": "stdout",
     "output_type": "stream",
     "text": [
      "downloading /tmp/data/NPN/phenor_npn_data_114_371_2007-01-01_2007-12-31.rds\n",
      "  |======================================================================| 100%\n"
     ]
    },
    {
     "name": "stderr",
     "output_type": "stream",
     "text": [
      "R[write to console]: No encoding supplied: defaulting to UTF-8.\n",
      "\n",
      "R[write to console]: Error in (function (species = 3, phenophase = 371, start = \"2000-01-01\",  : \n",
      "  Query returned no data, check your input parameters!\n",
      "\n"
     ]
    },
    {
     "name": "stdout",
     "output_type": "stream",
     "text": [
      "downloading /tmp/data/NPN/phenor_npn_data_114_373_2007-01-01_2007-12-31.rds\n",
      "  |======================================================================| 100%\n"
     ]
    },
    {
     "name": "stderr",
     "output_type": "stream",
     "text": [
      "R[write to console]: No encoding supplied: defaulting to UTF-8.\n",
      "\n",
      "R[write to console]: Error in (function (species = 3, phenophase = 371, start = \"2000-01-01\",  : \n",
      "  Query returned no data, check your input parameters!\n",
      "\n"
     ]
    },
    {
     "name": "stdout",
     "output_type": "stream",
     "text": [
      "downloading /tmp/data/NPN/phenor_npn_data_115_371_2007-01-01_2007-12-31.rds\n",
      "  |======================================================================| 100%\n"
     ]
    },
    {
     "name": "stderr",
     "output_type": "stream",
     "text": [
      "R[write to console]: No encoding supplied: defaulting to UTF-8.\n",
      "\n",
      "R[write to console]: Error in (function (species = 3, phenophase = 371, start = \"2000-01-01\",  : \n",
      "  Query returned no data, check your input parameters!\n",
      "\n"
     ]
    },
    {
     "name": "stdout",
     "output_type": "stream",
     "text": [
      "downloading /tmp/data/NPN/phenor_npn_data_115_373_2007-01-01_2007-12-31.rds\n",
      "  |======================================================================| 100%\n"
     ]
    },
    {
     "name": "stderr",
     "output_type": "stream",
     "text": [
      "R[write to console]: No encoding supplied: defaulting to UTF-8.\n",
      "\n",
      "R[write to console]: Error in (function (species = 3, phenophase = 371, start = \"2000-01-01\",  : \n",
      "  Query returned no data, check your input parameters!\n",
      "\n"
     ]
    },
    {
     "name": "stdout",
     "output_type": "stream",
     "text": [
      "downloading /tmp/data/NPN/phenor_npn_data_116_371_2007-01-01_2007-12-31.rds\n",
      "  |======================================================================| 100%\n"
     ]
    },
    {
     "name": "stderr",
     "output_type": "stream",
     "text": [
      "R[write to console]: No encoding supplied: defaulting to UTF-8.\n",
      "\n",
      "R[write to console]: Error in (function (species = 3, phenophase = 371, start = \"2000-01-01\",  : \n",
      "  Query returned no data, check your input parameters!\n",
      "\n"
     ]
    },
    {
     "name": "stdout",
     "output_type": "stream",
     "text": [
      "downloading /tmp/data/NPN/phenor_npn_data_116_373_2007-01-01_2007-12-31.rds\n",
      "  |======================================================================| 100%\n"
     ]
    },
    {
     "name": "stderr",
     "output_type": "stream",
     "text": [
      "R[write to console]: No encoding supplied: defaulting to UTF-8.\n",
      "\n",
      "R[write to console]: Error in (function (species = 3, phenophase = 371, start = \"2000-01-01\",  : \n",
      "  Query returned no data, check your input parameters!\n",
      "\n"
     ]
    },
    {
     "name": "stdout",
     "output_type": "stream",
     "text": [
      "downloading /tmp/data/NPN/phenor_npn_data_117_371_2007-01-01_2007-12-31.rds\n",
      "  |======================================================================| 100%\n"
     ]
    },
    {
     "name": "stderr",
     "output_type": "stream",
     "text": [
      "R[write to console]: No encoding supplied: defaulting to UTF-8.\n",
      "\n",
      "R[write to console]: Error in (function (species = 3, phenophase = 371, start = \"2000-01-01\",  : \n",
      "  Query returned no data, check your input parameters!\n",
      "\n"
     ]
    },
    {
     "name": "stdout",
     "output_type": "stream",
     "text": [
      "downloading /tmp/data/NPN/phenor_npn_data_117_373_2007-01-01_2007-12-31.rds\n",
      "  |======================================================================| 100%\n"
     ]
    },
    {
     "name": "stderr",
     "output_type": "stream",
     "text": [
      "R[write to console]: No encoding supplied: defaulting to UTF-8.\n",
      "\n",
      "R[write to console]: Error in (function (species = 3, phenophase = 371, start = \"2000-01-01\",  : \n",
      "  Query returned no data, check your input parameters!\n",
      "\n"
     ]
    },
    {
     "name": "stdout",
     "output_type": "stream",
     "text": [
      "downloading /tmp/data/NPN/phenor_npn_data_119_371_2007-01-01_2007-12-31.rds\n",
      "  |======================================================================| 100%\n"
     ]
    },
    {
     "name": "stderr",
     "output_type": "stream",
     "text": [
      "R[write to console]: No encoding supplied: defaulting to UTF-8.\n",
      "\n",
      "R[write to console]: Error in (function (species = 3, phenophase = 371, start = \"2000-01-01\",  : \n",
      "  Query returned no data, check your input parameters!\n",
      "\n"
     ]
    },
    {
     "name": "stdout",
     "output_type": "stream",
     "text": [
      "downloading /tmp/data/NPN/phenor_npn_data_119_373_2007-01-01_2007-12-31.rds\n",
      "  |======================================================================| 100%\n"
     ]
    },
    {
     "name": "stderr",
     "output_type": "stream",
     "text": [
      "R[write to console]: No encoding supplied: defaulting to UTF-8.\n",
      "\n",
      "R[write to console]: Error in (function (species = 3, phenophase = 371, start = \"2000-01-01\",  : \n",
      "  Query returned no data, check your input parameters!\n",
      "\n"
     ]
    },
    {
     "name": "stdout",
     "output_type": "stream",
     "text": [
      "downloading /tmp/data/NPN/phenor_npn_data_120_371_2007-01-01_2007-12-31.rds\n",
      "  |======================================================================| 100%\n"
     ]
    },
    {
     "name": "stderr",
     "output_type": "stream",
     "text": [
      "R[write to console]: No encoding supplied: defaulting to UTF-8.\n",
      "\n",
      "R[write to console]: Error in (function (species = 3, phenophase = 371, start = \"2000-01-01\",  : \n",
      "  Query returned no data, check your input parameters!\n",
      "\n"
     ]
    },
    {
     "name": "stdout",
     "output_type": "stream",
     "text": [
      "downloading /tmp/data/NPN/phenor_npn_data_120_373_2007-01-01_2007-12-31.rds\n",
      "  |======================================================================| 100%\n"
     ]
    },
    {
     "name": "stderr",
     "output_type": "stream",
     "text": [
      "R[write to console]: No encoding supplied: defaulting to UTF-8.\n",
      "\n",
      "R[write to console]: Error in (function (species = 3, phenophase = 371, start = \"2000-01-01\",  : \n",
      "  Query returned no data, check your input parameters!\n",
      "\n"
     ]
    },
    {
     "name": "stdout",
     "output_type": "stream",
     "text": [
      "downloading /tmp/data/NPN/phenor_npn_data_121_371_2007-01-01_2007-12-31.rds\n",
      "  |======================================================================| 100%\n"
     ]
    },
    {
     "name": "stderr",
     "output_type": "stream",
     "text": [
      "R[write to console]: No encoding supplied: defaulting to UTF-8.\n",
      "\n",
      "R[write to console]: Error in (function (species = 3, phenophase = 371, start = \"2000-01-01\",  : \n",
      "  Query returned no data, check your input parameters!\n",
      "\n"
     ]
    },
    {
     "name": "stdout",
     "output_type": "stream",
     "text": [
      "downloading /tmp/data/NPN/phenor_npn_data_121_373_2007-01-01_2007-12-31.rds\n",
      "  |======================================================================| 100%\n"
     ]
    },
    {
     "name": "stderr",
     "output_type": "stream",
     "text": [
      "R[write to console]: No encoding supplied: defaulting to UTF-8.\n",
      "\n",
      "R[write to console]: Error in (function (species = 3, phenophase = 371, start = \"2000-01-01\",  : \n",
      "  Query returned no data, check your input parameters!\n",
      "\n"
     ]
    },
    {
     "name": "stdout",
     "output_type": "stream",
     "text": [
      "downloading /tmp/data/NPN/phenor_npn_data_127_371_2007-01-01_2007-12-31.rds\n",
      "  |======================================================================| 100%\n"
     ]
    },
    {
     "name": "stderr",
     "output_type": "stream",
     "text": [
      "R[write to console]: No encoding supplied: defaulting to UTF-8.\n",
      "\n",
      "R[write to console]: Error in (function (species = 3, phenophase = 371, start = \"2000-01-01\",  : \n",
      "  Query returned no data, check your input parameters!\n",
      "\n"
     ]
    },
    {
     "name": "stdout",
     "output_type": "stream",
     "text": [
      "downloading /tmp/data/NPN/phenor_npn_data_127_373_2007-01-01_2007-12-31.rds\n",
      "  |======================================================================| 100%\n"
     ]
    },
    {
     "name": "stderr",
     "output_type": "stream",
     "text": [
      "R[write to console]: No encoding supplied: defaulting to UTF-8.\n",
      "\n",
      "R[write to console]: Error in (function (species = 3, phenophase = 371, start = \"2000-01-01\",  : \n",
      "  Query returned no data, check your input parameters!\n",
      "\n"
     ]
    },
    {
     "name": "stdout",
     "output_type": "stream",
     "text": [
      "downloading /tmp/data/NPN/phenor_npn_data_218_371_2007-01-01_2007-12-31.rds\n",
      "  |======================================================================| 100%\n"
     ]
    },
    {
     "name": "stderr",
     "output_type": "stream",
     "text": [
      "R[write to console]: No encoding supplied: defaulting to UTF-8.\n",
      "\n",
      "R[write to console]: Error in (function (species = 3, phenophase = 371, start = \"2000-01-01\",  : \n",
      "  Query returned no data, check your input parameters!\n",
      "\n"
     ]
    },
    {
     "name": "stdout",
     "output_type": "stream",
     "text": [
      "downloading /tmp/data/NPN/phenor_npn_data_218_373_2007-01-01_2007-12-31.rds\n",
      "  |======================================================================| 100%\n"
     ]
    },
    {
     "name": "stderr",
     "output_type": "stream",
     "text": [
      "R[write to console]: No encoding supplied: defaulting to UTF-8.\n",
      "\n",
      "R[write to console]: Error in (function (species = 3, phenophase = 371, start = \"2000-01-01\",  : \n",
      "  Query returned no data, check your input parameters!\n",
      "\n"
     ]
    },
    {
     "name": "stdout",
     "output_type": "stream",
     "text": [
      "downloading /tmp/data/NPN/phenor_npn_data_221_371_2007-01-01_2007-12-31.rds\n",
      "  |======================================================================| 100%\n"
     ]
    },
    {
     "name": "stderr",
     "output_type": "stream",
     "text": [
      "R[write to console]: No encoding supplied: defaulting to UTF-8.\n",
      "\n",
      "R[write to console]: Error in (function (species = 3, phenophase = 371, start = \"2000-01-01\",  : \n",
      "  Query returned no data, check your input parameters!\n",
      "\n"
     ]
    },
    {
     "name": "stdout",
     "output_type": "stream",
     "text": [
      "downloading /tmp/data/NPN/phenor_npn_data_221_373_2007-01-01_2007-12-31.rds\n",
      "  |======================================================================| 100%\n"
     ]
    },
    {
     "name": "stderr",
     "output_type": "stream",
     "text": [
      "R[write to console]: No encoding supplied: defaulting to UTF-8.\n",
      "\n",
      "R[write to console]: Error in (function (species = 3, phenophase = 371, start = \"2000-01-01\",  : \n",
      "  Query returned no data, check your input parameters!\n",
      "\n"
     ]
    },
    {
     "name": "stdout",
     "output_type": "stream",
     "text": [
      "downloading /tmp/data/NPN/phenor_npn_data_222_371_2007-01-01_2007-12-31.rds\n",
      "  |======================================================================| 100%\n"
     ]
    },
    {
     "name": "stderr",
     "output_type": "stream",
     "text": [
      "R[write to console]: No encoding supplied: defaulting to UTF-8.\n",
      "\n",
      "R[write to console]: Error in (function (species = 3, phenophase = 371, start = \"2000-01-01\",  : \n",
      "  Query returned no data, check your input parameters!\n",
      "\n"
     ]
    },
    {
     "name": "stdout",
     "output_type": "stream",
     "text": [
      "downloading /tmp/data/NPN/phenor_npn_data_222_373_2007-01-01_2007-12-31.rds\n",
      "  |======================================================================| 100%\n"
     ]
    },
    {
     "name": "stderr",
     "output_type": "stream",
     "text": [
      "R[write to console]: No encoding supplied: defaulting to UTF-8.\n",
      "\n",
      "R[write to console]: Error in (function (species = 3, phenophase = 371, start = \"2000-01-01\",  : \n",
      "  Query returned no data, check your input parameters!\n",
      "\n"
     ]
    },
    {
     "name": "stdout",
     "output_type": "stream",
     "text": [
      "downloading /tmp/data/NPN/phenor_npn_data_226_371_2007-01-01_2007-12-31.rds\n",
      "  |======================================================================| 100%\n"
     ]
    },
    {
     "name": "stderr",
     "output_type": "stream",
     "text": [
      "R[write to console]: No encoding supplied: defaulting to UTF-8.\n",
      "\n",
      "R[write to console]: Error in (function (species = 3, phenophase = 371, start = \"2000-01-01\",  : \n",
      "  Query returned no data, check your input parameters!\n",
      "\n"
     ]
    },
    {
     "name": "stdout",
     "output_type": "stream",
     "text": [
      "downloading /tmp/data/NPN/phenor_npn_data_226_373_2007-01-01_2007-12-31.rds\n",
      "  |======================================================================| 100%\n"
     ]
    },
    {
     "name": "stderr",
     "output_type": "stream",
     "text": [
      "R[write to console]: No encoding supplied: defaulting to UTF-8.\n",
      "\n",
      "R[write to console]: Error in (function (species = 3, phenophase = 371, start = \"2000-01-01\",  : \n",
      "  Query returned no data, check your input parameters!\n",
      "\n"
     ]
    },
    {
     "name": "stdout",
     "output_type": "stream",
     "text": [
      "downloading /tmp/data/NPN/phenor_npn_data_298_371_2007-01-01_2007-12-31.rds\n",
      "  |======================================================================| 100%\n"
     ]
    },
    {
     "name": "stderr",
     "output_type": "stream",
     "text": [
      "R[write to console]: No encoding supplied: defaulting to UTF-8.\n",
      "\n",
      "R[write to console]: Error in (function (species = 3, phenophase = 371, start = \"2000-01-01\",  : \n",
      "  Query returned no data, check your input parameters!\n",
      "\n"
     ]
    },
    {
     "name": "stdout",
     "output_type": "stream",
     "text": [
      "downloading /tmp/data/NPN/phenor_npn_data_298_373_2007-01-01_2007-12-31.rds\n",
      "  |======================================================================| 100%\n"
     ]
    },
    {
     "name": "stderr",
     "output_type": "stream",
     "text": [
      "R[write to console]: No encoding supplied: defaulting to UTF-8.\n",
      "\n",
      "R[write to console]: Error in (function (species = 3, phenophase = 371, start = \"2000-01-01\",  : \n",
      "  Query returned no data, check your input parameters!\n",
      "\n"
     ]
    },
    {
     "name": "stdout",
     "output_type": "stream",
     "text": [
      "downloading /tmp/data/NPN/phenor_npn_data_306_371_2007-01-01_2007-12-31.rds\n",
      "  |======================================================================| 100%\n"
     ]
    },
    {
     "name": "stderr",
     "output_type": "stream",
     "text": [
      "R[write to console]: No encoding supplied: defaulting to UTF-8.\n",
      "\n",
      "R[write to console]: Error in (function (species = 3, phenophase = 371, start = \"2000-01-01\",  : \n",
      "  Query returned no data, check your input parameters!\n",
      "\n"
     ]
    },
    {
     "name": "stdout",
     "output_type": "stream",
     "text": [
      "downloading /tmp/data/NPN/phenor_npn_data_306_373_2007-01-01_2007-12-31.rds\n",
      "  |======================================================================| 100%\n"
     ]
    },
    {
     "name": "stderr",
     "output_type": "stream",
     "text": [
      "R[write to console]: No encoding supplied: defaulting to UTF-8.\n",
      "\n",
      "R[write to console]: Error in (function (species = 3, phenophase = 371, start = \"2000-01-01\",  : \n",
      "  Query returned no data, check your input parameters!\n",
      "\n"
     ]
    },
    {
     "name": "stdout",
     "output_type": "stream",
     "text": [
      "downloading /tmp/data/NPN/phenor_npn_data_311_371_2007-01-01_2007-12-31.rds\n",
      "  |======================================================================| 100%\n"
     ]
    },
    {
     "name": "stderr",
     "output_type": "stream",
     "text": [
      "R[write to console]: No encoding supplied: defaulting to UTF-8.\n",
      "\n",
      "R[write to console]: Error in (function (species = 3, phenophase = 371, start = \"2000-01-01\",  : \n",
      "  Query returned no data, check your input parameters!\n",
      "\n"
     ]
    },
    {
     "name": "stdout",
     "output_type": "stream",
     "text": [
      "downloading /tmp/data/NPN/phenor_npn_data_311_373_2007-01-01_2007-12-31.rds\n",
      "  |======================================================================| 100%\n"
     ]
    },
    {
     "name": "stderr",
     "output_type": "stream",
     "text": [
      "R[write to console]: No encoding supplied: defaulting to UTF-8.\n",
      "\n",
      "R[write to console]: Error in (function (species = 3, phenophase = 371, start = \"2000-01-01\",  : \n",
      "  Query returned no data, check your input parameters!\n",
      "\n"
     ]
    },
    {
     "name": "stdout",
     "output_type": "stream",
     "text": [
      "downloading /tmp/data/NPN/phenor_npn_data_313_371_2007-01-01_2007-12-31.rds\n",
      "  |======================================================================| 100%\n"
     ]
    },
    {
     "name": "stderr",
     "output_type": "stream",
     "text": [
      "R[write to console]: No encoding supplied: defaulting to UTF-8.\n",
      "\n",
      "R[write to console]: Error in (function (species = 3, phenophase = 371, start = \"2000-01-01\",  : \n",
      "  Query returned no data, check your input parameters!\n",
      "\n"
     ]
    },
    {
     "name": "stdout",
     "output_type": "stream",
     "text": [
      "downloading /tmp/data/NPN/phenor_npn_data_313_373_2007-01-01_2007-12-31.rds\n",
      "  |======================================================================| 100%\n"
     ]
    },
    {
     "name": "stderr",
     "output_type": "stream",
     "text": [
      "R[write to console]: No encoding supplied: defaulting to UTF-8.\n",
      "\n",
      "R[write to console]: Error in (function (species = 3, phenophase = 371, start = \"2000-01-01\",  : \n",
      "  Query returned no data, check your input parameters!\n",
      "\n"
     ]
    },
    {
     "name": "stdout",
     "output_type": "stream",
     "text": [
      "downloading /tmp/data/NPN/phenor_npn_data_318_371_2007-01-01_2007-12-31.rds\n",
      "  |======================================================================| 100%\n"
     ]
    },
    {
     "name": "stderr",
     "output_type": "stream",
     "text": [
      "R[write to console]: No encoding supplied: defaulting to UTF-8.\n",
      "\n",
      "R[write to console]: Error in (function (species = 3, phenophase = 371, start = \"2000-01-01\",  : \n",
      "  Query returned no data, check your input parameters!\n",
      "\n"
     ]
    },
    {
     "name": "stdout",
     "output_type": "stream",
     "text": [
      "downloading /tmp/data/NPN/phenor_npn_data_318_373_2007-01-01_2007-12-31.rds\n",
      "  |======================================================================| 100%\n"
     ]
    },
    {
     "name": "stderr",
     "output_type": "stream",
     "text": [
      "R[write to console]: No encoding supplied: defaulting to UTF-8.\n",
      "\n",
      "R[write to console]: Error in (function (species = 3, phenophase = 371, start = \"2000-01-01\",  : \n",
      "  Query returned no data, check your input parameters!\n",
      "\n"
     ]
    },
    {
     "name": "stdout",
     "output_type": "stream",
     "text": [
      "downloading /tmp/data/NPN/phenor_npn_data_324_371_2007-01-01_2007-12-31.rds\n",
      "  |======================================================================| 100%\n"
     ]
    },
    {
     "name": "stderr",
     "output_type": "stream",
     "text": [
      "R[write to console]: No encoding supplied: defaulting to UTF-8.\n",
      "\n",
      "R[write to console]: Error in (function (species = 3, phenophase = 371, start = \"2000-01-01\",  : \n",
      "  Query returned no data, check your input parameters!\n",
      "\n"
     ]
    },
    {
     "name": "stdout",
     "output_type": "stream",
     "text": [
      "downloading /tmp/data/NPN/phenor_npn_data_324_373_2007-01-01_2007-12-31.rds\n",
      "  |======================================================================| 100%\n"
     ]
    },
    {
     "name": "stderr",
     "output_type": "stream",
     "text": [
      "R[write to console]: No encoding supplied: defaulting to UTF-8.\n",
      "\n",
      "R[write to console]: Error in (function (species = 3, phenophase = 371, start = \"2000-01-01\",  : \n",
      "  Query returned no data, check your input parameters!\n",
      "\n"
     ]
    },
    {
     "name": "stdout",
     "output_type": "stream",
     "text": [
      "downloading /tmp/data/NPN/phenor_npn_data_327_371_2007-01-01_2007-12-31.rds\n",
      "  |======================================================================| 100%\n"
     ]
    },
    {
     "name": "stderr",
     "output_type": "stream",
     "text": [
      "R[write to console]: No encoding supplied: defaulting to UTF-8.\n",
      "\n",
      "R[write to console]: Error in (function (species = 3, phenophase = 371, start = \"2000-01-01\",  : \n",
      "  Query returned no data, check your input parameters!\n",
      "\n"
     ]
    },
    {
     "name": "stdout",
     "output_type": "stream",
     "text": [
      "downloading /tmp/data/NPN/phenor_npn_data_327_373_2007-01-01_2007-12-31.rds\n",
      "  |======================================================================| 100%\n"
     ]
    },
    {
     "name": "stderr",
     "output_type": "stream",
     "text": [
      "R[write to console]: No encoding supplied: defaulting to UTF-8.\n",
      "\n",
      "R[write to console]: Error in (function (species = 3, phenophase = 371, start = \"2000-01-01\",  : \n",
      "  Query returned no data, check your input parameters!\n",
      "\n"
     ]
    },
    {
     "name": "stdout",
     "output_type": "stream",
     "text": [
      "downloading /tmp/data/NPN/phenor_npn_data_329_371_2007-01-01_2007-12-31.rds\n",
      "  |======================================================================| 100%\n"
     ]
    },
    {
     "name": "stderr",
     "output_type": "stream",
     "text": [
      "R[write to console]: No encoding supplied: defaulting to UTF-8.\n",
      "\n",
      "R[write to console]: Error in (function (species = 3, phenophase = 371, start = \"2000-01-01\",  : \n",
      "  Query returned no data, check your input parameters!\n",
      "\n"
     ]
    },
    {
     "name": "stdout",
     "output_type": "stream",
     "text": [
      "downloading /tmp/data/NPN/phenor_npn_data_329_373_2007-01-01_2007-12-31.rds\n",
      "  |======================================================================| 100%\n"
     ]
    },
    {
     "name": "stderr",
     "output_type": "stream",
     "text": [
      "R[write to console]: No encoding supplied: defaulting to UTF-8.\n",
      "\n",
      "R[write to console]: Error in (function (species = 3, phenophase = 371, start = \"2000-01-01\",  : \n",
      "  Query returned no data, check your input parameters!\n",
      "\n"
     ]
    },
    {
     "name": "stdout",
     "output_type": "stream",
     "text": [
      "downloading /tmp/data/NPN/phenor_npn_data_435_371_2007-01-01_2007-12-31.rds\n",
      "  |======================================================================| 100%\n"
     ]
    },
    {
     "name": "stderr",
     "output_type": "stream",
     "text": [
      "R[write to console]: No encoding supplied: defaulting to UTF-8.\n",
      "\n",
      "R[write to console]: Error in (function (species = 3, phenophase = 371, start = \"2000-01-01\",  : \n",
      "  Query returned no data, check your input parameters!\n",
      "\n"
     ]
    },
    {
     "name": "stdout",
     "output_type": "stream",
     "text": [
      "downloading /tmp/data/NPN/phenor_npn_data_435_373_2007-01-01_2007-12-31.rds\n",
      "  |======================================================================| 100%\n"
     ]
    },
    {
     "name": "stderr",
     "output_type": "stream",
     "text": [
      "R[write to console]: No encoding supplied: defaulting to UTF-8.\n",
      "\n",
      "R[write to console]: Error in (function (species = 3, phenophase = 371, start = \"2000-01-01\",  : \n",
      "  Query returned no data, check your input parameters!\n",
      "\n"
     ]
    },
    {
     "name": "stdout",
     "output_type": "stream",
     "text": [
      "downloading /tmp/data/NPN/phenor_npn_data_441_371_2007-01-01_2007-12-31.rds\n",
      "  |======================================================================| 100%\n"
     ]
    },
    {
     "name": "stderr",
     "output_type": "stream",
     "text": [
      "R[write to console]: No encoding supplied: defaulting to UTF-8.\n",
      "\n",
      "R[write to console]: Error in (function (species = 3, phenophase = 371, start = \"2000-01-01\",  : \n",
      "  Query returned no data, check your input parameters!\n",
      "\n"
     ]
    },
    {
     "name": "stdout",
     "output_type": "stream",
     "text": [
      "downloading /tmp/data/NPN/phenor_npn_data_441_373_2007-01-01_2007-12-31.rds\n",
      "  |======================================================================| 100%\n"
     ]
    },
    {
     "name": "stderr",
     "output_type": "stream",
     "text": [
      "R[write to console]: No encoding supplied: defaulting to UTF-8.\n",
      "\n",
      "R[write to console]: Error in (function (species = 3, phenophase = 371, start = \"2000-01-01\",  : \n",
      "  Query returned no data, check your input parameters!\n",
      "\n"
     ]
    },
    {
     "name": "stdout",
     "output_type": "stream",
     "text": [
      "downloading /tmp/data/NPN/phenor_npn_data_442_371_2007-01-01_2007-12-31.rds\n",
      "  |======================================================================| 100%\n"
     ]
    },
    {
     "name": "stderr",
     "output_type": "stream",
     "text": [
      "R[write to console]: No encoding supplied: defaulting to UTF-8.\n",
      "\n",
      "R[write to console]: Error in (function (species = 3, phenophase = 371, start = \"2000-01-01\",  : \n",
      "  Query returned no data, check your input parameters!\n",
      "\n"
     ]
    },
    {
     "name": "stdout",
     "output_type": "stream",
     "text": [
      "downloading /tmp/data/NPN/phenor_npn_data_442_373_2007-01-01_2007-12-31.rds\n",
      "  |======================================================================| 100%\n"
     ]
    },
    {
     "name": "stderr",
     "output_type": "stream",
     "text": [
      "R[write to console]: No encoding supplied: defaulting to UTF-8.\n",
      "\n",
      "R[write to console]: Error in (function (species = 3, phenophase = 371, start = \"2000-01-01\",  : \n",
      "  Query returned no data, check your input parameters!\n",
      "\n"
     ]
    },
    {
     "name": "stdout",
     "output_type": "stream",
     "text": [
      "downloading /tmp/data/NPN/phenor_npn_data_443_371_2007-01-01_2007-12-31.rds\n",
      "  |======================================================================| 100%\n"
     ]
    },
    {
     "name": "stderr",
     "output_type": "stream",
     "text": [
      "R[write to console]: No encoding supplied: defaulting to UTF-8.\n",
      "\n",
      "R[write to console]: Error in (function (species = 3, phenophase = 371, start = \"2000-01-01\",  : \n",
      "  Query returned no data, check your input parameters!\n",
      "\n"
     ]
    },
    {
     "name": "stdout",
     "output_type": "stream",
     "text": [
      "downloading /tmp/data/NPN/phenor_npn_data_443_373_2007-01-01_2007-12-31.rds\n",
      "  |======================================================================| 100%\n"
     ]
    },
    {
     "name": "stderr",
     "output_type": "stream",
     "text": [
      "R[write to console]: No encoding supplied: defaulting to UTF-8.\n",
      "\n",
      "R[write to console]: Error in (function (species = 3, phenophase = 371, start = \"2000-01-01\",  : \n",
      "  Query returned no data, check your input parameters!\n",
      "\n"
     ]
    },
    {
     "name": "stdout",
     "output_type": "stream",
     "text": [
      "downloading /tmp/data/NPN/phenor_npn_data_701_371_2007-01-01_2007-12-31.rds\n",
      "  |======================================================================| 100%\n"
     ]
    },
    {
     "name": "stderr",
     "output_type": "stream",
     "text": [
      "R[write to console]: No encoding supplied: defaulting to UTF-8.\n",
      "\n",
      "R[write to console]: Error in (function (species = 3, phenophase = 371, start = \"2000-01-01\",  : \n",
      "  Query returned no data, check your input parameters!\n",
      "\n"
     ]
    },
    {
     "name": "stdout",
     "output_type": "stream",
     "text": [
      "downloading /tmp/data/NPN/phenor_npn_data_701_373_2007-01-01_2007-12-31.rds\n",
      "  |======================================================================| 100%\n"
     ]
    },
    {
     "name": "stderr",
     "output_type": "stream",
     "text": [
      "R[write to console]: No encoding supplied: defaulting to UTF-8.\n",
      "\n",
      "R[write to console]: Error in (function (species = 3, phenophase = 371, start = \"2000-01-01\",  : \n",
      "  Query returned no data, check your input parameters!\n",
      "\n"
     ]
    },
    {
     "name": "stdout",
     "output_type": "stream",
     "text": [
      "downloading /tmp/data/NPN/phenor_npn_data_702_371_2007-01-01_2007-12-31.rds\n",
      "  |======================================================================| 100%\n"
     ]
    },
    {
     "name": "stderr",
     "output_type": "stream",
     "text": [
      "R[write to console]: No encoding supplied: defaulting to UTF-8.\n",
      "\n",
      "R[write to console]: Error in (function (species = 3, phenophase = 371, start = \"2000-01-01\",  : \n",
      "  Query returned no data, check your input parameters!\n",
      "\n"
     ]
    },
    {
     "name": "stdout",
     "output_type": "stream",
     "text": [
      "downloading /tmp/data/NPN/phenor_npn_data_702_373_2007-01-01_2007-12-31.rds\n",
      "  |======================================================================| 100%\n"
     ]
    },
    {
     "name": "stderr",
     "output_type": "stream",
     "text": [
      "R[write to console]: No encoding supplied: defaulting to UTF-8.\n",
      "\n",
      "R[write to console]: Error in (function (species = 3, phenophase = 371, start = \"2000-01-01\",  : \n",
      "  Query returned no data, check your input parameters!\n",
      "\n"
     ]
    },
    {
     "name": "stdout",
     "output_type": "stream",
     "text": [
      "downloading /tmp/data/NPN/phenor_npn_data_705_371_2007-01-01_2007-12-31.rds\n",
      "  |======================================================================| 100%\n"
     ]
    },
    {
     "name": "stderr",
     "output_type": "stream",
     "text": [
      "R[write to console]: No encoding supplied: defaulting to UTF-8.\n",
      "\n",
      "R[write to console]: Error in (function (species = 3, phenophase = 371, start = \"2000-01-01\",  : \n",
      "  Query returned no data, check your input parameters!\n",
      "\n"
     ]
    },
    {
     "name": "stdout",
     "output_type": "stream",
     "text": [
      "downloading /tmp/data/NPN/phenor_npn_data_705_373_2007-01-01_2007-12-31.rds\n",
      "  |======================================================================| 100%\n"
     ]
    },
    {
     "name": "stderr",
     "output_type": "stream",
     "text": [
      "R[write to console]: No encoding supplied: defaulting to UTF-8.\n",
      "\n",
      "R[write to console]: Error in (function (species = 3, phenophase = 371, start = \"2000-01-01\",  : \n",
      "  Query returned no data, check your input parameters!\n",
      "\n"
     ]
    },
    {
     "name": "stdout",
     "output_type": "stream",
     "text": [
      "downloading /tmp/data/NPN/phenor_npn_data_706_371_2007-01-01_2007-12-31.rds\n",
      "  |======================================================================| 100%\n"
     ]
    },
    {
     "name": "stderr",
     "output_type": "stream",
     "text": [
      "R[write to console]: No encoding supplied: defaulting to UTF-8.\n",
      "\n",
      "R[write to console]: Error in (function (species = 3, phenophase = 371, start = \"2000-01-01\",  : \n",
      "  Query returned no data, check your input parameters!\n",
      "\n"
     ]
    },
    {
     "name": "stdout",
     "output_type": "stream",
     "text": [
      "downloading /tmp/data/NPN/phenor_npn_data_706_373_2007-01-01_2007-12-31.rds\n",
      "  |======================================================================| 100%\n"
     ]
    },
    {
     "name": "stderr",
     "output_type": "stream",
     "text": [
      "R[write to console]: No encoding supplied: defaulting to UTF-8.\n",
      "\n",
      "R[write to console]: Error in (function (species = 3, phenophase = 371, start = \"2000-01-01\",  : \n",
      "  Query returned no data, check your input parameters!\n",
      "\n"
     ]
    },
    {
     "name": "stdout",
     "output_type": "stream",
     "text": [
      "downloading /tmp/data/NPN/phenor_npn_data_707_371_2007-01-01_2007-12-31.rds\n",
      "  |======================================================================| 100%\n"
     ]
    },
    {
     "name": "stderr",
     "output_type": "stream",
     "text": [
      "R[write to console]: No encoding supplied: defaulting to UTF-8.\n",
      "\n",
      "R[write to console]: Error in (function (species = 3, phenophase = 371, start = \"2000-01-01\",  : \n",
      "  Query returned no data, check your input parameters!\n",
      "\n"
     ]
    },
    {
     "name": "stdout",
     "output_type": "stream",
     "text": [
      "downloading /tmp/data/NPN/phenor_npn_data_707_373_2007-01-01_2007-12-31.rds\n",
      "  |======================================================================| 100%\n"
     ]
    },
    {
     "name": "stderr",
     "output_type": "stream",
     "text": [
      "R[write to console]: No encoding supplied: defaulting to UTF-8.\n",
      "\n",
      "R[write to console]: Error in (function (species = 3, phenophase = 371, start = \"2000-01-01\",  : \n",
      "  Query returned no data, check your input parameters!\n",
      "\n"
     ]
    },
    {
     "name": "stdout",
     "output_type": "stream",
     "text": [
      "downloading /tmp/data/NPN/phenor_npn_data_716_371_2007-01-01_2007-12-31.rds\n",
      "  |======================================================================| 100%\n"
     ]
    },
    {
     "name": "stderr",
     "output_type": "stream",
     "text": [
      "R[write to console]: No encoding supplied: defaulting to UTF-8.\n",
      "\n",
      "R[write to console]: Error in (function (species = 3, phenophase = 371, start = \"2000-01-01\",  : \n",
      "  Query returned no data, check your input parameters!\n",
      "\n"
     ]
    },
    {
     "name": "stdout",
     "output_type": "stream",
     "text": [
      "downloading /tmp/data/NPN/phenor_npn_data_716_373_2007-01-01_2007-12-31.rds\n",
      "  |======================================================================| 100%\n"
     ]
    },
    {
     "name": "stderr",
     "output_type": "stream",
     "text": [
      "R[write to console]: No encoding supplied: defaulting to UTF-8.\n",
      "\n",
      "R[write to console]: Error in (function (species = 3, phenophase = 371, start = \"2000-01-01\",  : \n",
      "  Query returned no data, check your input parameters!\n",
      "\n"
     ]
    },
    {
     "name": "stdout",
     "output_type": "stream",
     "text": [
      "downloading /tmp/data/NPN/phenor_npn_data_721_371_2007-01-01_2007-12-31.rds\n",
      "  |======================================================================| 100%\n"
     ]
    },
    {
     "name": "stderr",
     "output_type": "stream",
     "text": [
      "R[write to console]: No encoding supplied: defaulting to UTF-8.\n",
      "\n",
      "R[write to console]: Error in (function (species = 3, phenophase = 371, start = \"2000-01-01\",  : \n",
      "  Query returned no data, check your input parameters!\n",
      "\n"
     ]
    },
    {
     "name": "stdout",
     "output_type": "stream",
     "text": [
      "downloading /tmp/data/NPN/phenor_npn_data_721_373_2007-01-01_2007-12-31.rds\n",
      "  |======================================================================| 100%\n"
     ]
    },
    {
     "name": "stderr",
     "output_type": "stream",
     "text": [
      "R[write to console]: No encoding supplied: defaulting to UTF-8.\n",
      "\n",
      "R[write to console]: Error in (function (species = 3, phenophase = 371, start = \"2000-01-01\",  : \n",
      "  Query returned no data, check your input parameters!\n",
      "\n"
     ]
    },
    {
     "name": "stdout",
     "output_type": "stream",
     "text": [
      "downloading /tmp/data/NPN/phenor_npn_data_722_371_2007-01-01_2007-12-31.rds\n",
      "  |======================================================================| 100%\n"
     ]
    },
    {
     "name": "stderr",
     "output_type": "stream",
     "text": [
      "R[write to console]: No encoding supplied: defaulting to UTF-8.\n",
      "\n",
      "R[write to console]: Error in (function (species = 3, phenophase = 371, start = \"2000-01-01\",  : \n",
      "  Query returned no data, check your input parameters!\n",
      "\n"
     ]
    },
    {
     "name": "stdout",
     "output_type": "stream",
     "text": [
      "downloading /tmp/data/NPN/phenor_npn_data_722_373_2007-01-01_2007-12-31.rds\n",
      "  |======================================================================| 100%\n"
     ]
    },
    {
     "name": "stderr",
     "output_type": "stream",
     "text": [
      "R[write to console]: No encoding supplied: defaulting to UTF-8.\n",
      "\n",
      "R[write to console]: Error in (function (species = 3, phenophase = 371, start = \"2000-01-01\",  : \n",
      "  Query returned no data, check your input parameters!\n",
      "\n"
     ]
    },
    {
     "name": "stdout",
     "output_type": "stream",
     "text": [
      "downloading /tmp/data/NPN/phenor_npn_data_743_371_2007-01-01_2007-12-31.rds\n",
      "  |======================================================================| 100%\n"
     ]
    },
    {
     "name": "stderr",
     "output_type": "stream",
     "text": [
      "R[write to console]: No encoding supplied: defaulting to UTF-8.\n",
      "\n",
      "R[write to console]: Error in (function (species = 3, phenophase = 371, start = \"2000-01-01\",  : \n",
      "  Query returned no data, check your input parameters!\n",
      "\n"
     ]
    },
    {
     "name": "stdout",
     "output_type": "stream",
     "text": [
      "downloading /tmp/data/NPN/phenor_npn_data_743_373_2007-01-01_2007-12-31.rds\n",
      "  |======================================================================| 100%\n"
     ]
    },
    {
     "name": "stderr",
     "output_type": "stream",
     "text": [
      "R[write to console]: No encoding supplied: defaulting to UTF-8.\n",
      "\n",
      "R[write to console]: Error in (function (species = 3, phenophase = 371, start = \"2000-01-01\",  : \n",
      "  Query returned no data, check your input parameters!\n",
      "\n"
     ]
    },
    {
     "name": "stdout",
     "output_type": "stream",
     "text": [
      "downloading /tmp/data/NPN/phenor_npn_data_760_371_2007-01-01_2007-12-31.rds\n",
      "  |======================================================================| 100%\n"
     ]
    },
    {
     "name": "stderr",
     "output_type": "stream",
     "text": [
      "R[write to console]: No encoding supplied: defaulting to UTF-8.\n",
      "\n",
      "R[write to console]: Error in (function (species = 3, phenophase = 371, start = \"2000-01-01\",  : \n",
      "  Query returned no data, check your input parameters!\n",
      "\n"
     ]
    },
    {
     "name": "stdout",
     "output_type": "stream",
     "text": [
      "downloading /tmp/data/NPN/phenor_npn_data_760_373_2007-01-01_2007-12-31.rds\n",
      "  |======================================================================| 100%\n"
     ]
    },
    {
     "name": "stderr",
     "output_type": "stream",
     "text": [
      "R[write to console]: No encoding supplied: defaulting to UTF-8.\n",
      "\n",
      "R[write to console]: Error in (function (species = 3, phenophase = 371, start = \"2000-01-01\",  : \n",
      "  Query returned no data, check your input parameters!\n",
      "\n"
     ]
    },
    {
     "name": "stdout",
     "output_type": "stream",
     "text": [
      "downloading /tmp/data/NPN/phenor_npn_data_761_371_2007-01-01_2007-12-31.rds\n",
      "  |======================================================================| 100%\n"
     ]
    },
    {
     "name": "stderr",
     "output_type": "stream",
     "text": [
      "R[write to console]: No encoding supplied: defaulting to UTF-8.\n",
      "\n",
      "R[write to console]: Error in (function (species = 3, phenophase = 371, start = \"2000-01-01\",  : \n",
      "  Query returned no data, check your input parameters!\n",
      "\n"
     ]
    },
    {
     "name": "stdout",
     "output_type": "stream",
     "text": [
      "downloading /tmp/data/NPN/phenor_npn_data_761_373_2007-01-01_2007-12-31.rds\n",
      "  |======================================================================| 100%\n"
     ]
    },
    {
     "name": "stderr",
     "output_type": "stream",
     "text": [
      "R[write to console]: No encoding supplied: defaulting to UTF-8.\n",
      "\n",
      "R[write to console]: Error in (function (species = 3, phenophase = 371, start = \"2000-01-01\",  : \n",
      "  Query returned no data, check your input parameters!\n",
      "\n"
     ]
    },
    {
     "name": "stdout",
     "output_type": "stream",
     "text": [
      "downloading /tmp/data/NPN/phenor_npn_data_766_371_2007-01-01_2007-12-31.rds\n",
      "  |======================================================================| 100%\n"
     ]
    },
    {
     "name": "stderr",
     "output_type": "stream",
     "text": [
      "R[write to console]: No encoding supplied: defaulting to UTF-8.\n",
      "\n",
      "R[write to console]: Error in (function (species = 3, phenophase = 371, start = \"2000-01-01\",  : \n",
      "  Query returned no data, check your input parameters!\n",
      "\n"
     ]
    },
    {
     "name": "stdout",
     "output_type": "stream",
     "text": [
      "downloading /tmp/data/NPN/phenor_npn_data_766_373_2007-01-01_2007-12-31.rds\n",
      "  |======================================================================| 100%\n"
     ]
    },
    {
     "name": "stderr",
     "output_type": "stream",
     "text": [
      "R[write to console]: No encoding supplied: defaulting to UTF-8.\n",
      "\n",
      "R[write to console]: Error in (function (species = 3, phenophase = 371, start = \"2000-01-01\",  : \n",
      "  Query returned no data, check your input parameters!\n",
      "\n"
     ]
    },
    {
     "name": "stdout",
     "output_type": "stream",
     "text": [
      "downloading /tmp/data/NPN/phenor_npn_data_769_371_2007-01-01_2007-12-31.rds\n",
      "  |======================================================================| 100%\n"
     ]
    },
    {
     "name": "stderr",
     "output_type": "stream",
     "text": [
      "R[write to console]: No encoding supplied: defaulting to UTF-8.\n",
      "\n",
      "R[write to console]: Error in (function (species = 3, phenophase = 371, start = \"2000-01-01\",  : \n",
      "  Query returned no data, check your input parameters!\n",
      "\n"
     ]
    },
    {
     "name": "stdout",
     "output_type": "stream",
     "text": [
      "downloading /tmp/data/NPN/phenor_npn_data_769_373_2007-01-01_2007-12-31.rds\n",
      "  |======================================================================| 100%\n"
     ]
    },
    {
     "name": "stderr",
     "output_type": "stream",
     "text": [
      "R[write to console]: No encoding supplied: defaulting to UTF-8.\n",
      "\n",
      "R[write to console]: Error in (function (species = 3, phenophase = 371, start = \"2000-01-01\",  : \n",
      "  Query returned no data, check your input parameters!\n",
      "\n"
     ]
    },
    {
     "name": "stdout",
     "output_type": "stream",
     "text": [
      "downloading /tmp/data/NPN/phenor_npn_data_785_371_2007-01-01_2007-12-31.rds\n",
      "  |======================================================================| 100%\n"
     ]
    },
    {
     "name": "stderr",
     "output_type": "stream",
     "text": [
      "R[write to console]: No encoding supplied: defaulting to UTF-8.\n",
      "\n",
      "R[write to console]: Error in (function (species = 3, phenophase = 371, start = \"2000-01-01\",  : \n",
      "  Query returned no data, check your input parameters!\n",
      "\n"
     ]
    },
    {
     "name": "stdout",
     "output_type": "stream",
     "text": [
      "downloading /tmp/data/NPN/phenor_npn_data_785_373_2007-01-01_2007-12-31.rds\n",
      "  |======================================================================| 100%\n"
     ]
    },
    {
     "name": "stderr",
     "output_type": "stream",
     "text": [
      "R[write to console]: No encoding supplied: defaulting to UTF-8.\n",
      "\n",
      "R[write to console]: Error in (function (species = 3, phenophase = 371, start = \"2000-01-01\",  : \n",
      "  Query returned no data, check your input parameters!\n",
      "\n"
     ]
    },
    {
     "name": "stdout",
     "output_type": "stream",
     "text": [
      "downloading /tmp/data/NPN/phenor_npn_data_790_371_2007-01-01_2007-12-31.rds\n",
      "  |======================================================================| 100%\n"
     ]
    },
    {
     "name": "stderr",
     "output_type": "stream",
     "text": [
      "R[write to console]: No encoding supplied: defaulting to UTF-8.\n",
      "\n",
      "R[write to console]: Error in (function (species = 3, phenophase = 371, start = \"2000-01-01\",  : \n",
      "  Query returned no data, check your input parameters!\n",
      "\n"
     ]
    },
    {
     "name": "stdout",
     "output_type": "stream",
     "text": [
      "downloading /tmp/data/NPN/phenor_npn_data_790_373_2007-01-01_2007-12-31.rds\n",
      "  |======================================================================| 100%\n"
     ]
    },
    {
     "name": "stderr",
     "output_type": "stream",
     "text": [
      "R[write to console]: No encoding supplied: defaulting to UTF-8.\n",
      "\n",
      "R[write to console]: Error in (function (species = 3, phenophase = 371, start = \"2000-01-01\",  : \n",
      "  Query returned no data, check your input parameters!\n",
      "\n"
     ]
    },
    {
     "name": "stdout",
     "output_type": "stream",
     "text": [
      "downloading /tmp/data/NPN/phenor_npn_data_793_371_2007-01-01_2007-12-31.rds\n",
      "  |======================================================================| 100%\n"
     ]
    },
    {
     "name": "stderr",
     "output_type": "stream",
     "text": [
      "R[write to console]: No encoding supplied: defaulting to UTF-8.\n",
      "\n",
      "R[write to console]: Error in (function (species = 3, phenophase = 371, start = \"2000-01-01\",  : \n",
      "  Query returned no data, check your input parameters!\n",
      "\n"
     ]
    },
    {
     "name": "stdout",
     "output_type": "stream",
     "text": [
      "downloading /tmp/data/NPN/phenor_npn_data_793_373_2007-01-01_2007-12-31.rds\n",
      "  |======================================================================| 100%\n"
     ]
    },
    {
     "name": "stderr",
     "output_type": "stream",
     "text": [
      "R[write to console]: No encoding supplied: defaulting to UTF-8.\n",
      "\n",
      "R[write to console]: Error in (function (species = 3, phenophase = 371, start = \"2000-01-01\",  : \n",
      "  Query returned no data, check your input parameters!\n",
      "\n"
     ]
    },
    {
     "name": "stdout",
     "output_type": "stream",
     "text": [
      "downloading /tmp/data/NPN/phenor_npn_data_830_371_2007-01-01_2007-12-31.rds\n",
      "  |======================================================================| 100%\n"
     ]
    },
    {
     "name": "stderr",
     "output_type": "stream",
     "text": [
      "R[write to console]: No encoding supplied: defaulting to UTF-8.\n",
      "\n",
      "R[write to console]: Error in (function (species = 3, phenophase = 371, start = \"2000-01-01\",  : \n",
      "  Query returned no data, check your input parameters!\n",
      "\n"
     ]
    },
    {
     "name": "stdout",
     "output_type": "stream",
     "text": [
      "downloading /tmp/data/NPN/phenor_npn_data_830_373_2007-01-01_2007-12-31.rds\n",
      "  |======================================================================| 100%\n"
     ]
    },
    {
     "name": "stderr",
     "output_type": "stream",
     "text": [
      "R[write to console]: No encoding supplied: defaulting to UTF-8.\n",
      "\n",
      "R[write to console]: Error in (function (species = 3, phenophase = 371, start = \"2000-01-01\",  : \n",
      "  Query returned no data, check your input parameters!\n",
      "\n"
     ]
    },
    {
     "name": "stdout",
     "output_type": "stream",
     "text": [
      "downloading /tmp/data/NPN/phenor_npn_data_857_371_2007-01-01_2007-12-31.rds\n",
      "  |======================================================================| 100%\n"
     ]
    },
    {
     "name": "stderr",
     "output_type": "stream",
     "text": [
      "R[write to console]: No encoding supplied: defaulting to UTF-8.\n",
      "\n",
      "R[write to console]: Error in (function (species = 3, phenophase = 371, start = \"2000-01-01\",  : \n",
      "  Query returned no data, check your input parameters!\n",
      "\n"
     ]
    },
    {
     "name": "stdout",
     "output_type": "stream",
     "text": [
      "downloading /tmp/data/NPN/phenor_npn_data_857_373_2007-01-01_2007-12-31.rds\n",
      "  |======================================================================| 100%\n"
     ]
    },
    {
     "name": "stderr",
     "output_type": "stream",
     "text": [
      "R[write to console]: No encoding supplied: defaulting to UTF-8.\n",
      "\n",
      "R[write to console]: Error in (function (species = 3, phenophase = 371, start = \"2000-01-01\",  : \n",
      "  Query returned no data, check your input parameters!\n",
      "\n"
     ]
    },
    {
     "name": "stdout",
     "output_type": "stream",
     "text": [
      "downloading /tmp/data/NPN/phenor_npn_data_860_371_2007-01-01_2007-12-31.rds\n",
      "  |======================================================================| 100%\n"
     ]
    },
    {
     "name": "stderr",
     "output_type": "stream",
     "text": [
      "R[write to console]: No encoding supplied: defaulting to UTF-8.\n",
      "\n",
      "R[write to console]: Error in (function (species = 3, phenophase = 371, start = \"2000-01-01\",  : \n",
      "  Query returned no data, check your input parameters!\n",
      "\n"
     ]
    },
    {
     "name": "stdout",
     "output_type": "stream",
     "text": [
      "downloading /tmp/data/NPN/phenor_npn_data_860_373_2007-01-01_2007-12-31.rds\n",
      "  |======================================================================| 100%\n"
     ]
    },
    {
     "name": "stderr",
     "output_type": "stream",
     "text": [
      "R[write to console]: No encoding supplied: defaulting to UTF-8.\n",
      "\n",
      "R[write to console]: Error in (function (species = 3, phenophase = 371, start = \"2000-01-01\",  : \n",
      "  Query returned no data, check your input parameters!\n",
      "\n"
     ]
    },
    {
     "name": "stdout",
     "output_type": "stream",
     "text": [
      "downloading /tmp/data/NPN/phenor_npn_data_861_371_2007-01-01_2007-12-31.rds\n",
      "  |======================================================================| 100%\n"
     ]
    },
    {
     "name": "stderr",
     "output_type": "stream",
     "text": [
      "R[write to console]: No encoding supplied: defaulting to UTF-8.\n",
      "\n",
      "R[write to console]: Error in (function (species = 3, phenophase = 371, start = \"2000-01-01\",  : \n",
      "  Query returned no data, check your input parameters!\n",
      "\n"
     ]
    },
    {
     "name": "stdout",
     "output_type": "stream",
     "text": [
      "downloading /tmp/data/NPN/phenor_npn_data_861_373_2007-01-01_2007-12-31.rds\n",
      "  |======================================================================| 100%\n"
     ]
    },
    {
     "name": "stderr",
     "output_type": "stream",
     "text": [
      "R[write to console]: No encoding supplied: defaulting to UTF-8.\n",
      "\n",
      "R[write to console]: Error in (function (species = 3, phenophase = 371, start = \"2000-01-01\",  : \n",
      "  Query returned no data, check your input parameters!\n",
      "\n"
     ]
    },
    {
     "name": "stdout",
     "output_type": "stream",
     "text": [
      "downloading /tmp/data/NPN/phenor_npn_data_877_371_2007-01-01_2007-12-31.rds\n",
      "  |======================================================================| 100%\n"
     ]
    },
    {
     "name": "stderr",
     "output_type": "stream",
     "text": [
      "R[write to console]: No encoding supplied: defaulting to UTF-8.\n",
      "\n",
      "R[write to console]: Error in (function (species = 3, phenophase = 371, start = \"2000-01-01\",  : \n",
      "  Query returned no data, check your input parameters!\n",
      "\n"
     ]
    },
    {
     "name": "stdout",
     "output_type": "stream",
     "text": [
      "downloading /tmp/data/NPN/phenor_npn_data_877_373_2007-01-01_2007-12-31.rds\n",
      "  |======================================================================| 100%\n"
     ]
    },
    {
     "name": "stderr",
     "output_type": "stream",
     "text": [
      "R[write to console]: No encoding supplied: defaulting to UTF-8.\n",
      "\n",
      "R[write to console]: Error in (function (species = 3, phenophase = 371, start = \"2000-01-01\",  : \n",
      "  Query returned no data, check your input parameters!\n",
      "\n"
     ]
    },
    {
     "name": "stdout",
     "output_type": "stream",
     "text": [
      "downloading /tmp/data/NPN/phenor_npn_data_878_371_2007-01-01_2007-12-31.rds\n",
      "  |======================================================================| 100%\n"
     ]
    },
    {
     "name": "stderr",
     "output_type": "stream",
     "text": [
      "R[write to console]: No encoding supplied: defaulting to UTF-8.\n",
      "\n",
      "R[write to console]: Error in (function (species = 3, phenophase = 371, start = \"2000-01-01\",  : \n",
      "  Query returned no data, check your input parameters!\n",
      "\n"
     ]
    },
    {
     "name": "stdout",
     "output_type": "stream",
     "text": [
      "downloading /tmp/data/NPN/phenor_npn_data_878_373_2007-01-01_2007-12-31.rds\n",
      "  |======================================================================| 100%\n"
     ]
    },
    {
     "name": "stderr",
     "output_type": "stream",
     "text": [
      "R[write to console]: No encoding supplied: defaulting to UTF-8.\n",
      "\n",
      "R[write to console]: Error in (function (species = 3, phenophase = 371, start = \"2000-01-01\",  : \n",
      "  Query returned no data, check your input parameters!\n",
      "\n"
     ]
    },
    {
     "name": "stdout",
     "output_type": "stream",
     "text": [
      "downloading /tmp/data/NPN/phenor_npn_data_879_371_2007-01-01_2007-12-31.rds\n",
      "  |======================================================================| 100%\n"
     ]
    },
    {
     "name": "stderr",
     "output_type": "stream",
     "text": [
      "R[write to console]: No encoding supplied: defaulting to UTF-8.\n",
      "\n",
      "R[write to console]: Error in (function (species = 3, phenophase = 371, start = \"2000-01-01\",  : \n",
      "  Query returned no data, check your input parameters!\n",
      "\n"
     ]
    },
    {
     "name": "stdout",
     "output_type": "stream",
     "text": [
      "downloading /tmp/data/NPN/phenor_npn_data_879_373_2007-01-01_2007-12-31.rds\n",
      "  |======================================================================| 100%\n"
     ]
    },
    {
     "name": "stderr",
     "output_type": "stream",
     "text": [
      "R[write to console]: No encoding supplied: defaulting to UTF-8.\n",
      "\n",
      "R[write to console]: Error in (function (species = 3, phenophase = 371, start = \"2000-01-01\",  : \n",
      "  Query returned no data, check your input parameters!\n",
      "\n"
     ]
    },
    {
     "name": "stdout",
     "output_type": "stream",
     "text": [
      "downloading /tmp/data/NPN/phenor_npn_data_880_371_2007-01-01_2007-12-31.rds\n",
      "  |======================================================================| 100%\n"
     ]
    },
    {
     "name": "stderr",
     "output_type": "stream",
     "text": [
      "R[write to console]: No encoding supplied: defaulting to UTF-8.\n",
      "\n",
      "R[write to console]: Error in (function (species = 3, phenophase = 371, start = \"2000-01-01\",  : \n",
      "  Query returned no data, check your input parameters!\n",
      "\n"
     ]
    },
    {
     "name": "stdout",
     "output_type": "stream",
     "text": [
      "downloading /tmp/data/NPN/phenor_npn_data_880_373_2007-01-01_2007-12-31.rds\n",
      "  |======================================================================| 100%\n"
     ]
    },
    {
     "name": "stderr",
     "output_type": "stream",
     "text": [
      "R[write to console]: No encoding supplied: defaulting to UTF-8.\n",
      "\n",
      "R[write to console]: Error in (function (species = 3, phenophase = 371, start = \"2000-01-01\",  : \n",
      "  Query returned no data, check your input parameters!\n",
      "\n"
     ]
    },
    {
     "name": "stdout",
     "output_type": "stream",
     "text": [
      "downloading /tmp/data/NPN/phenor_npn_data_887_371_2007-01-01_2007-12-31.rds\n",
      "  |======================================================================| 100%\n"
     ]
    },
    {
     "name": "stderr",
     "output_type": "stream",
     "text": [
      "R[write to console]: No encoding supplied: defaulting to UTF-8.\n",
      "\n",
      "R[write to console]: Error in (function (species = 3, phenophase = 371, start = \"2000-01-01\",  : \n",
      "  Query returned no data, check your input parameters!\n",
      "\n"
     ]
    },
    {
     "name": "stdout",
     "output_type": "stream",
     "text": [
      "downloading /tmp/data/NPN/phenor_npn_data_887_373_2007-01-01_2007-12-31.rds\n",
      "  |======================================================================| 100%\n"
     ]
    },
    {
     "name": "stderr",
     "output_type": "stream",
     "text": [
      "R[write to console]: No encoding supplied: defaulting to UTF-8.\n",
      "\n",
      "R[write to console]: Error in (function (species = 3, phenophase = 371, start = \"2000-01-01\",  : \n",
      "  Query returned no data, check your input parameters!\n",
      "\n"
     ]
    },
    {
     "name": "stdout",
     "output_type": "stream",
     "text": [
      "downloading /tmp/data/NPN/phenor_npn_data_895_371_2007-01-01_2007-12-31.rds\n",
      "  |======================================================================| 100%\n"
     ]
    },
    {
     "name": "stderr",
     "output_type": "stream",
     "text": [
      "R[write to console]: No encoding supplied: defaulting to UTF-8.\n",
      "\n",
      "R[write to console]: Error in (function (species = 3, phenophase = 371, start = \"2000-01-01\",  : \n",
      "  Query returned no data, check your input parameters!\n",
      "\n"
     ]
    },
    {
     "name": "stdout",
     "output_type": "stream",
     "text": [
      "downloading /tmp/data/NPN/phenor_npn_data_895_373_2007-01-01_2007-12-31.rds\n",
      "  |======================================================================| 100%\n"
     ]
    },
    {
     "name": "stderr",
     "output_type": "stream",
     "text": [
      "R[write to console]: No encoding supplied: defaulting to UTF-8.\n",
      "\n",
      "R[write to console]: Error in (function (species = 3, phenophase = 371, start = \"2000-01-01\",  : \n",
      "  Query returned no data, check your input parameters!\n",
      "\n"
     ]
    },
    {
     "name": "stdout",
     "output_type": "stream",
     "text": [
      "downloading /tmp/data/NPN/phenor_npn_data_903_371_2007-01-01_2007-12-31.rds\n",
      "  |======================================================================| 100%\n"
     ]
    },
    {
     "name": "stderr",
     "output_type": "stream",
     "text": [
      "R[write to console]: No encoding supplied: defaulting to UTF-8.\n",
      "\n",
      "R[write to console]: Error in (function (species = 3, phenophase = 371, start = \"2000-01-01\",  : \n",
      "  Query returned no data, check your input parameters!\n",
      "\n"
     ]
    },
    {
     "name": "stdout",
     "output_type": "stream",
     "text": [
      "downloading /tmp/data/NPN/phenor_npn_data_903_373_2007-01-01_2007-12-31.rds\n",
      "  |======================================================================| 100%\n"
     ]
    },
    {
     "name": "stderr",
     "output_type": "stream",
     "text": [
      "R[write to console]: No encoding supplied: defaulting to UTF-8.\n",
      "\n",
      "R[write to console]: Error in (function (species = 3, phenophase = 371, start = \"2000-01-01\",  : \n",
      "  Query returned no data, check your input parameters!\n",
      "\n"
     ]
    },
    {
     "name": "stdout",
     "output_type": "stream",
     "text": [
      "downloading /tmp/data/NPN/phenor_npn_data_904_371_2007-01-01_2007-12-31.rds\n",
      "  |======================================================================| 100%\n"
     ]
    },
    {
     "name": "stderr",
     "output_type": "stream",
     "text": [
      "R[write to console]: No encoding supplied: defaulting to UTF-8.\n",
      "\n",
      "R[write to console]: Error in (function (species = 3, phenophase = 371, start = \"2000-01-01\",  : \n",
      "  Query returned no data, check your input parameters!\n",
      "\n"
     ]
    },
    {
     "name": "stdout",
     "output_type": "stream",
     "text": [
      "downloading /tmp/data/NPN/phenor_npn_data_904_373_2007-01-01_2007-12-31.rds\n",
      "  |======================================================================| 100%\n"
     ]
    },
    {
     "name": "stderr",
     "output_type": "stream",
     "text": [
      "R[write to console]: No encoding supplied: defaulting to UTF-8.\n",
      "\n",
      "R[write to console]: Error in (function (species = 3, phenophase = 371, start = \"2000-01-01\",  : \n",
      "  Query returned no data, check your input parameters!\n",
      "\n"
     ]
    },
    {
     "name": "stdout",
     "output_type": "stream",
     "text": [
      "downloading /tmp/data/NPN/phenor_npn_data_905_371_2007-01-01_2007-12-31.rds\n",
      "  |======================================================================| 100%\n"
     ]
    },
    {
     "name": "stderr",
     "output_type": "stream",
     "text": [
      "R[write to console]: No encoding supplied: defaulting to UTF-8.\n",
      "\n",
      "R[write to console]: Error in (function (species = 3, phenophase = 371, start = \"2000-01-01\",  : \n",
      "  Query returned no data, check your input parameters!\n",
      "\n"
     ]
    },
    {
     "name": "stdout",
     "output_type": "stream",
     "text": [
      "downloading /tmp/data/NPN/phenor_npn_data_905_373_2007-01-01_2007-12-31.rds\n",
      "  |======================================================================| 100%\n"
     ]
    },
    {
     "name": "stderr",
     "output_type": "stream",
     "text": [
      "R[write to console]: No encoding supplied: defaulting to UTF-8.\n",
      "\n",
      "R[write to console]: Error in (function (species = 3, phenophase = 371, start = \"2000-01-01\",  : \n",
      "  Query returned no data, check your input parameters!\n",
      "\n"
     ]
    },
    {
     "name": "stdout",
     "output_type": "stream",
     "text": [
      "downloading /tmp/data/NPN/phenor_npn_data_907_371_2007-01-01_2007-12-31.rds\n",
      "  |======================================================================| 100%\n"
     ]
    },
    {
     "name": "stderr",
     "output_type": "stream",
     "text": [
      "R[write to console]: No encoding supplied: defaulting to UTF-8.\n",
      "\n",
      "R[write to console]: Error in (function (species = 3, phenophase = 371, start = \"2000-01-01\",  : \n",
      "  Query returned no data, check your input parameters!\n",
      "\n"
     ]
    },
    {
     "name": "stdout",
     "output_type": "stream",
     "text": [
      "downloading /tmp/data/NPN/phenor_npn_data_907_373_2007-01-01_2007-12-31.rds\n",
      "  |======================================================================| 100%\n"
     ]
    },
    {
     "name": "stderr",
     "output_type": "stream",
     "text": [
      "R[write to console]: No encoding supplied: defaulting to UTF-8.\n",
      "\n",
      "R[write to console]: Error in (function (species = 3, phenophase = 371, start = \"2000-01-01\",  : \n",
      "  Query returned no data, check your input parameters!\n",
      "\n"
     ]
    },
    {
     "name": "stdout",
     "output_type": "stream",
     "text": [
      "downloading /tmp/data/NPN/phenor_npn_data_909_371_2007-01-01_2007-12-31.rds\n",
      "  |======================================================================| 100%\n"
     ]
    },
    {
     "name": "stderr",
     "output_type": "stream",
     "text": [
      "R[write to console]: No encoding supplied: defaulting to UTF-8.\n",
      "\n",
      "R[write to console]: Error in (function (species = 3, phenophase = 371, start = \"2000-01-01\",  : \n",
      "  Query returned no data, check your input parameters!\n",
      "\n"
     ]
    },
    {
     "name": "stdout",
     "output_type": "stream",
     "text": [
      "downloading /tmp/data/NPN/phenor_npn_data_909_373_2007-01-01_2007-12-31.rds\n",
      "  |======================================================================| 100%\n"
     ]
    },
    {
     "name": "stderr",
     "output_type": "stream",
     "text": [
      "R[write to console]: No encoding supplied: defaulting to UTF-8.\n",
      "\n",
      "R[write to console]: Error in (function (species = 3, phenophase = 371, start = \"2000-01-01\",  : \n",
      "  Query returned no data, check your input parameters!\n",
      "\n"
     ]
    },
    {
     "name": "stdout",
     "output_type": "stream",
     "text": [
      "downloading /tmp/data/NPN/phenor_npn_data_924_371_2007-01-01_2007-12-31.rds\n",
      "  |======================================================================| 100%\n"
     ]
    },
    {
     "name": "stderr",
     "output_type": "stream",
     "text": [
      "R[write to console]: No encoding supplied: defaulting to UTF-8.\n",
      "\n",
      "R[write to console]: Error in (function (species = 3, phenophase = 371, start = \"2000-01-01\",  : \n",
      "  Query returned no data, check your input parameters!\n",
      "\n"
     ]
    },
    {
     "name": "stdout",
     "output_type": "stream",
     "text": [
      "downloading /tmp/data/NPN/phenor_npn_data_924_373_2007-01-01_2007-12-31.rds\n",
      "  |======================================================================| 100%\n"
     ]
    },
    {
     "name": "stderr",
     "output_type": "stream",
     "text": [
      "R[write to console]: No encoding supplied: defaulting to UTF-8.\n",
      "\n",
      "R[write to console]: Error in (function (species = 3, phenophase = 371, start = \"2000-01-01\",  : \n",
      "  Query returned no data, check your input parameters!\n",
      "\n"
     ]
    },
    {
     "name": "stdout",
     "output_type": "stream",
     "text": [
      "downloading /tmp/data/NPN/phenor_npn_data_925_371_2007-01-01_2007-12-31.rds\n",
      "  |======================================================================| 100%\n"
     ]
    },
    {
     "name": "stderr",
     "output_type": "stream",
     "text": [
      "R[write to console]: No encoding supplied: defaulting to UTF-8.\n",
      "\n",
      "R[write to console]: Error in (function (species = 3, phenophase = 371, start = \"2000-01-01\",  : \n",
      "  Query returned no data, check your input parameters!\n",
      "\n"
     ]
    },
    {
     "name": "stdout",
     "output_type": "stream",
     "text": [
      "downloading /tmp/data/NPN/phenor_npn_data_925_373_2007-01-01_2007-12-31.rds\n",
      "  |======================================================================| 100%\n"
     ]
    },
    {
     "name": "stderr",
     "output_type": "stream",
     "text": [
      "R[write to console]: No encoding supplied: defaulting to UTF-8.\n",
      "\n",
      "R[write to console]: Error in (function (species = 3, phenophase = 371, start = \"2000-01-01\",  : \n",
      "  Query returned no data, check your input parameters!\n",
      "\n"
     ]
    },
    {
     "name": "stdout",
     "output_type": "stream",
     "text": [
      "downloading /tmp/data/NPN/phenor_npn_data_933_371_2007-01-01_2007-12-31.rds\n",
      "  |======================================================================| 100%\n"
     ]
    },
    {
     "name": "stderr",
     "output_type": "stream",
     "text": [
      "R[write to console]: No encoding supplied: defaulting to UTF-8.\n",
      "\n",
      "R[write to console]: Error in (function (species = 3, phenophase = 371, start = \"2000-01-01\",  : \n",
      "  Query returned no data, check your input parameters!\n",
      "\n"
     ]
    },
    {
     "name": "stdout",
     "output_type": "stream",
     "text": [
      "downloading /tmp/data/NPN/phenor_npn_data_933_373_2007-01-01_2007-12-31.rds\n",
      "  |======================================================================| 100%\n"
     ]
    },
    {
     "name": "stderr",
     "output_type": "stream",
     "text": [
      "R[write to console]: No encoding supplied: defaulting to UTF-8.\n",
      "\n",
      "R[write to console]: Error in (function (species = 3, phenophase = 371, start = \"2000-01-01\",  : \n",
      "  Query returned no data, check your input parameters!\n",
      "\n"
     ]
    },
    {
     "name": "stdout",
     "output_type": "stream",
     "text": [
      "downloading /tmp/data/NPN/phenor_npn_data_979_371_2007-01-01_2007-12-31.rds\n",
      "  |======================================================================| 100%\n"
     ]
    },
    {
     "name": "stderr",
     "output_type": "stream",
     "text": [
      "R[write to console]: No encoding supplied: defaulting to UTF-8.\n",
      "\n",
      "R[write to console]: Error in (function (species = 3, phenophase = 371, start = \"2000-01-01\",  : \n",
      "  Query returned no data, check your input parameters!\n",
      "\n"
     ]
    },
    {
     "name": "stdout",
     "output_type": "stream",
     "text": [
      "downloading /tmp/data/NPN/phenor_npn_data_979_373_2007-01-01_2007-12-31.rds\n",
      "  |======================================================================| 100%\n"
     ]
    },
    {
     "name": "stderr",
     "output_type": "stream",
     "text": [
      "R[write to console]: No encoding supplied: defaulting to UTF-8.\n",
      "\n",
      "R[write to console]: Error in (function (species = 3, phenophase = 371, start = \"2000-01-01\",  : \n",
      "  Query returned no data, check your input parameters!\n",
      "\n"
     ]
    },
    {
     "name": "stdout",
     "output_type": "stream",
     "text": [
      "downloading /tmp/data/NPN/phenor_npn_data_980_371_2007-01-01_2007-12-31.rds\n",
      "  |======================================================================| 100%\n"
     ]
    },
    {
     "name": "stderr",
     "output_type": "stream",
     "text": [
      "R[write to console]: No encoding supplied: defaulting to UTF-8.\n",
      "\n",
      "R[write to console]: Error in (function (species = 3, phenophase = 371, start = \"2000-01-01\",  : \n",
      "  Query returned no data, check your input parameters!\n",
      "\n"
     ]
    },
    {
     "name": "stdout",
     "output_type": "stream",
     "text": [
      "downloading /tmp/data/NPN/phenor_npn_data_980_373_2007-01-01_2007-12-31.rds\n",
      "  |======================================================================| 100%\n"
     ]
    },
    {
     "name": "stderr",
     "output_type": "stream",
     "text": [
      "R[write to console]: No encoding supplied: defaulting to UTF-8.\n",
      "\n",
      "R[write to console]: Error in (function (species = 3, phenophase = 371, start = \"2000-01-01\",  : \n",
      "  Query returned no data, check your input parameters!\n",
      "\n"
     ]
    },
    {
     "name": "stdout",
     "output_type": "stream",
     "text": [
      "downloading /tmp/data/NPN/phenor_npn_data_981_371_2007-01-01_2007-12-31.rds\n",
      "  |======================================================================| 100%\n"
     ]
    },
    {
     "name": "stderr",
     "output_type": "stream",
     "text": [
      "R[write to console]: No encoding supplied: defaulting to UTF-8.\n",
      "\n",
      "R[write to console]: Error in (function (species = 3, phenophase = 371, start = \"2000-01-01\",  : \n",
      "  Query returned no data, check your input parameters!\n",
      "\n"
     ]
    },
    {
     "name": "stdout",
     "output_type": "stream",
     "text": [
      "downloading /tmp/data/NPN/phenor_npn_data_981_373_2007-01-01_2007-12-31.rds\n",
      "  |======================================================================| 100%\n"
     ]
    },
    {
     "name": "stderr",
     "output_type": "stream",
     "text": [
      "R[write to console]: No encoding supplied: defaulting to UTF-8.\n",
      "\n",
      "R[write to console]: Error in (function (species = 3, phenophase = 371, start = \"2000-01-01\",  : \n",
      "  Query returned no data, check your input parameters!\n",
      "\n"
     ]
    },
    {
     "name": "stdout",
     "output_type": "stream",
     "text": [
      "downloading /tmp/data/NPN/phenor_npn_data_985_371_2007-01-01_2007-12-31.rds\n",
      "  |======================================================================| 100%\n"
     ]
    },
    {
     "name": "stderr",
     "output_type": "stream",
     "text": [
      "R[write to console]: No encoding supplied: defaulting to UTF-8.\n",
      "\n",
      "R[write to console]: Error in (function (species = 3, phenophase = 371, start = \"2000-01-01\",  : \n",
      "  Query returned no data, check your input parameters!\n",
      "\n"
     ]
    },
    {
     "name": "stdout",
     "output_type": "stream",
     "text": [
      "downloading /tmp/data/NPN/phenor_npn_data_985_373_2007-01-01_2007-12-31.rds\n",
      "  |======================================================================| 100%\n"
     ]
    },
    {
     "name": "stderr",
     "output_type": "stream",
     "text": [
      "R[write to console]: No encoding supplied: defaulting to UTF-8.\n",
      "\n",
      "R[write to console]: Error in (function (species = 3, phenophase = 371, start = \"2000-01-01\",  : \n",
      "  Query returned no data, check your input parameters!\n",
      "\n"
     ]
    },
    {
     "name": "stdout",
     "output_type": "stream",
     "text": [
      "downloading /tmp/data/NPN/phenor_npn_data_995_371_2007-01-01_2007-12-31.rds\n",
      "  |======================================================================| 100%\n"
     ]
    },
    {
     "name": "stderr",
     "output_type": "stream",
     "text": [
      "R[write to console]: No encoding supplied: defaulting to UTF-8.\n",
      "\n",
      "R[write to console]: Error in (function (species = 3, phenophase = 371, start = \"2000-01-01\",  : \n",
      "  Query returned no data, check your input parameters!\n",
      "\n"
     ]
    },
    {
     "name": "stdout",
     "output_type": "stream",
     "text": [
      "downloading /tmp/data/NPN/phenor_npn_data_995_373_2007-01-01_2007-12-31.rds\n",
      "  |======================================================================| 100%\n"
     ]
    },
    {
     "name": "stderr",
     "output_type": "stream",
     "text": [
      "R[write to console]: No encoding supplied: defaulting to UTF-8.\n",
      "\n",
      "R[write to console]: Error in (function (species = 3, phenophase = 371, start = \"2000-01-01\",  : \n",
      "  Query returned no data, check your input parameters!\n",
      "\n"
     ]
    },
    {
     "name": "stdout",
     "output_type": "stream",
     "text": [
      "downloading /tmp/data/NPN/phenor_npn_data_1003_371_2007-01-01_2007-12-31.rds\n",
      "  |======================================================================| 100%\n"
     ]
    },
    {
     "name": "stderr",
     "output_type": "stream",
     "text": [
      "R[write to console]: No encoding supplied: defaulting to UTF-8.\n",
      "\n",
      "R[write to console]: Error in (function (species = 3, phenophase = 371, start = \"2000-01-01\",  : \n",
      "  Query returned no data, check your input parameters!\n",
      "\n"
     ]
    },
    {
     "name": "stdout",
     "output_type": "stream",
     "text": [
      "downloading /tmp/data/NPN/phenor_npn_data_1003_373_2007-01-01_2007-12-31.rds\n",
      "  |======================================================================| 100%\n"
     ]
    },
    {
     "name": "stderr",
     "output_type": "stream",
     "text": [
      "R[write to console]: No encoding supplied: defaulting to UTF-8.\n",
      "\n",
      "R[write to console]: Error in (function (species = 3, phenophase = 371, start = \"2000-01-01\",  : \n",
      "  Query returned no data, check your input parameters!\n",
      "\n"
     ]
    },
    {
     "name": "stdout",
     "output_type": "stream",
     "text": [
      "downloading /tmp/data/NPN/phenor_npn_data_1011_371_2007-01-01_2007-12-31.rds\n",
      "  |======================================================================| 100%\n"
     ]
    },
    {
     "name": "stderr",
     "output_type": "stream",
     "text": [
      "R[write to console]: No encoding supplied: defaulting to UTF-8.\n",
      "\n",
      "R[write to console]: Error in (function (species = 3, phenophase = 371, start = \"2000-01-01\",  : \n",
      "  Query returned no data, check your input parameters!\n",
      "\n"
     ]
    },
    {
     "name": "stdout",
     "output_type": "stream",
     "text": [
      "downloading /tmp/data/NPN/phenor_npn_data_1011_373_2007-01-01_2007-12-31.rds\n",
      "  |======================================================================| 100%\n"
     ]
    },
    {
     "name": "stderr",
     "output_type": "stream",
     "text": [
      "R[write to console]: No encoding supplied: defaulting to UTF-8.\n",
      "\n",
      "R[write to console]: Error in (function (species = 3, phenophase = 371, start = \"2000-01-01\",  : \n",
      "  Query returned no data, check your input parameters!\n",
      "\n"
     ]
    },
    {
     "name": "stdout",
     "output_type": "stream",
     "text": [
      "downloading /tmp/data/NPN/phenor_npn_data_1055_371_2007-01-01_2007-12-31.rds\n",
      "  |======================================================================| 100%\n"
     ]
    },
    {
     "name": "stderr",
     "output_type": "stream",
     "text": [
      "R[write to console]: No encoding supplied: defaulting to UTF-8.\n",
      "\n",
      "R[write to console]: Error in (function (species = 3, phenophase = 371, start = \"2000-01-01\",  : \n",
      "  Query returned no data, check your input parameters!\n",
      "\n"
     ]
    },
    {
     "name": "stdout",
     "output_type": "stream",
     "text": [
      "downloading /tmp/data/NPN/phenor_npn_data_1055_373_2007-01-01_2007-12-31.rds\n",
      "  |======================================================================| 100%\n"
     ]
    },
    {
     "name": "stderr",
     "output_type": "stream",
     "text": [
      "R[write to console]: No encoding supplied: defaulting to UTF-8.\n",
      "\n",
      "R[write to console]: Error in (function (species = 3, phenophase = 371, start = \"2000-01-01\",  : \n",
      "  Query returned no data, check your input parameters!\n",
      "\n"
     ]
    },
    {
     "name": "stdout",
     "output_type": "stream",
     "text": [
      "downloading /tmp/data/NPN/phenor_npn_data_1057_371_2007-01-01_2007-12-31.rds\n",
      "  |======================================================================| 100%\n"
     ]
    },
    {
     "name": "stderr",
     "output_type": "stream",
     "text": [
      "R[write to console]: No encoding supplied: defaulting to UTF-8.\n",
      "\n",
      "R[write to console]: Error in (function (species = 3, phenophase = 371, start = \"2000-01-01\",  : \n",
      "  Query returned no data, check your input parameters!\n",
      "\n"
     ]
    },
    {
     "name": "stdout",
     "output_type": "stream",
     "text": [
      "downloading /tmp/data/NPN/phenor_npn_data_1057_373_2007-01-01_2007-12-31.rds\n",
      "  |======================================================================| 100%\n"
     ]
    },
    {
     "name": "stderr",
     "output_type": "stream",
     "text": [
      "R[write to console]: No encoding supplied: defaulting to UTF-8.\n",
      "\n",
      "R[write to console]: Error in (function (species = 3, phenophase = 371, start = \"2000-01-01\",  : \n",
      "  Query returned no data, check your input parameters!\n",
      "\n"
     ]
    },
    {
     "name": "stdout",
     "output_type": "stream",
     "text": [
      "downloading /tmp/data/NPN/phenor_npn_data_1058_371_2007-01-01_2007-12-31.rds\n",
      "  |======================================================================| 100%\n"
     ]
    },
    {
     "name": "stderr",
     "output_type": "stream",
     "text": [
      "R[write to console]: No encoding supplied: defaulting to UTF-8.\n",
      "\n",
      "R[write to console]: Error in (function (species = 3, phenophase = 371, start = \"2000-01-01\",  : \n",
      "  Query returned no data, check your input parameters!\n",
      "\n"
     ]
    },
    {
     "name": "stdout",
     "output_type": "stream",
     "text": [
      "downloading /tmp/data/NPN/phenor_npn_data_1058_373_2007-01-01_2007-12-31.rds\n",
      "  |======================================================================| 100%\n"
     ]
    },
    {
     "name": "stderr",
     "output_type": "stream",
     "text": [
      "R[write to console]: No encoding supplied: defaulting to UTF-8.\n",
      "\n",
      "R[write to console]: Error in (function (species = 3, phenophase = 371, start = \"2000-01-01\",  : \n",
      "  Query returned no data, check your input parameters!\n",
      "\n"
     ]
    },
    {
     "name": "stdout",
     "output_type": "stream",
     "text": [
      "downloading /tmp/data/NPN/phenor_npn_data_1067_371_2007-01-01_2007-12-31.rds\n",
      "  |======================================================================| 100%\n"
     ]
    },
    {
     "name": "stderr",
     "output_type": "stream",
     "text": [
      "R[write to console]: No encoding supplied: defaulting to UTF-8.\n",
      "\n",
      "R[write to console]: Error in (function (species = 3, phenophase = 371, start = \"2000-01-01\",  : \n",
      "  Query returned no data, check your input parameters!\n",
      "\n"
     ]
    },
    {
     "name": "stdout",
     "output_type": "stream",
     "text": [
      "downloading /tmp/data/NPN/phenor_npn_data_1067_373_2007-01-01_2007-12-31.rds\n",
      "  |======================================================================| 100%\n"
     ]
    },
    {
     "name": "stderr",
     "output_type": "stream",
     "text": [
      "R[write to console]: No encoding supplied: defaulting to UTF-8.\n",
      "\n",
      "R[write to console]: Error in (function (species = 3, phenophase = 371, start = \"2000-01-01\",  : \n",
      "  Query returned no data, check your input parameters!\n",
      "\n"
     ]
    },
    {
     "name": "stdout",
     "output_type": "stream",
     "text": [
      "downloading /tmp/data/NPN/phenor_npn_data_1068_371_2007-01-01_2007-12-31.rds\n",
      "  |======================================================================| 100%\n"
     ]
    },
    {
     "name": "stderr",
     "output_type": "stream",
     "text": [
      "R[write to console]: No encoding supplied: defaulting to UTF-8.\n",
      "\n",
      "R[write to console]: Error in (function (species = 3, phenophase = 371, start = \"2000-01-01\",  : \n",
      "  Query returned no data, check your input parameters!\n",
      "\n"
     ]
    },
    {
     "name": "stdout",
     "output_type": "stream",
     "text": [
      "downloading /tmp/data/NPN/phenor_npn_data_1068_373_2007-01-01_2007-12-31.rds\n",
      "  |======================================================================| 100%\n"
     ]
    },
    {
     "name": "stderr",
     "output_type": "stream",
     "text": [
      "R[write to console]: No encoding supplied: defaulting to UTF-8.\n",
      "\n",
      "R[write to console]: Error in (function (species = 3, phenophase = 371, start = \"2000-01-01\",  : \n",
      "  Query returned no data, check your input parameters!\n",
      "\n"
     ]
    },
    {
     "name": "stdout",
     "output_type": "stream",
     "text": [
      "downloading /tmp/data/NPN/phenor_npn_data_1069_371_2007-01-01_2007-12-31.rds\n",
      "  |======================================================================| 100%\n"
     ]
    },
    {
     "name": "stderr",
     "output_type": "stream",
     "text": [
      "R[write to console]: No encoding supplied: defaulting to UTF-8.\n",
      "\n",
      "R[write to console]: Error in (function (species = 3, phenophase = 371, start = \"2000-01-01\",  : \n",
      "  Query returned no data, check your input parameters!\n",
      "\n"
     ]
    },
    {
     "name": "stdout",
     "output_type": "stream",
     "text": [
      "downloading /tmp/data/NPN/phenor_npn_data_1069_373_2007-01-01_2007-12-31.rds\n",
      "  |======================================================================| 100%\n"
     ]
    },
    {
     "name": "stderr",
     "output_type": "stream",
     "text": [
      "R[write to console]: No encoding supplied: defaulting to UTF-8.\n",
      "\n",
      "R[write to console]: Error in (function (species = 3, phenophase = 371, start = \"2000-01-01\",  : \n",
      "  Query returned no data, check your input parameters!\n",
      "\n"
     ]
    },
    {
     "name": "stdout",
     "output_type": "stream",
     "text": [
      "downloading /tmp/data/NPN/phenor_npn_data_1160_371_2007-01-01_2007-12-31.rds\n",
      "  |======================================================================| 100%\n"
     ]
    },
    {
     "name": "stderr",
     "output_type": "stream",
     "text": [
      "R[write to console]: No encoding supplied: defaulting to UTF-8.\n",
      "\n",
      "R[write to console]: Error in (function (species = 3, phenophase = 371, start = \"2000-01-01\",  : \n",
      "  Query returned no data, check your input parameters!\n",
      "\n"
     ]
    },
    {
     "name": "stdout",
     "output_type": "stream",
     "text": [
      "downloading /tmp/data/NPN/phenor_npn_data_1160_373_2007-01-01_2007-12-31.rds\n",
      "  |======================================================================| 100%\n"
     ]
    },
    {
     "name": "stderr",
     "output_type": "stream",
     "text": [
      "R[write to console]: No encoding supplied: defaulting to UTF-8.\n",
      "\n",
      "R[write to console]: Error in (function (species = 3, phenophase = 371, start = \"2000-01-01\",  : \n",
      "  Query returned no data, check your input parameters!\n",
      "\n"
     ]
    },
    {
     "name": "stdout",
     "output_type": "stream",
     "text": [
      "downloading /tmp/data/NPN/phenor_npn_data_1166_371_2007-01-01_2007-12-31.rds\n",
      "  |======================================================================| 100%\n"
     ]
    },
    {
     "name": "stderr",
     "output_type": "stream",
     "text": [
      "R[write to console]: No encoding supplied: defaulting to UTF-8.\n",
      "\n",
      "R[write to console]: Error in (function (species = 3, phenophase = 371, start = \"2000-01-01\",  : \n",
      "  Query returned no data, check your input parameters!\n",
      "\n"
     ]
    },
    {
     "name": "stdout",
     "output_type": "stream",
     "text": [
      "downloading /tmp/data/NPN/phenor_npn_data_1166_373_2007-01-01_2007-12-31.rds\n",
      "  |======================================================================| 100%\n"
     ]
    },
    {
     "name": "stderr",
     "output_type": "stream",
     "text": [
      "R[write to console]: No encoding supplied: defaulting to UTF-8.\n",
      "\n",
      "R[write to console]: Error in (function (species = 3, phenophase = 371, start = \"2000-01-01\",  : \n",
      "  Query returned no data, check your input parameters!\n",
      "\n"
     ]
    },
    {
     "name": "stdout",
     "output_type": "stream",
     "text": [
      "downloading /tmp/data/NPN/phenor_npn_data_1170_371_2007-01-01_2007-12-31.rds\n",
      "  |======================================================================| 100%\n"
     ]
    },
    {
     "name": "stderr",
     "output_type": "stream",
     "text": [
      "R[write to console]: No encoding supplied: defaulting to UTF-8.\n",
      "\n",
      "R[write to console]: Error in (function (species = 3, phenophase = 371, start = \"2000-01-01\",  : \n",
      "  Query returned no data, check your input parameters!\n",
      "\n"
     ]
    },
    {
     "name": "stdout",
     "output_type": "stream",
     "text": [
      "downloading /tmp/data/NPN/phenor_npn_data_1170_373_2007-01-01_2007-12-31.rds\n",
      "  |======================================================================| 100%\n"
     ]
    },
    {
     "name": "stderr",
     "output_type": "stream",
     "text": [
      "R[write to console]: No encoding supplied: defaulting to UTF-8.\n",
      "\n",
      "R[write to console]: Error in (function (species = 3, phenophase = 371, start = \"2000-01-01\",  : \n",
      "  Query returned no data, check your input parameters!\n",
      "\n"
     ]
    },
    {
     "name": "stdout",
     "output_type": "stream",
     "text": [
      "downloading /tmp/data/NPN/phenor_npn_data_1178_371_2007-01-01_2007-12-31.rds\n",
      "  |======================================================================| 100%\n"
     ]
    },
    {
     "name": "stderr",
     "output_type": "stream",
     "text": [
      "R[write to console]: No encoding supplied: defaulting to UTF-8.\n",
      "\n",
      "R[write to console]: Error in (function (species = 3, phenophase = 371, start = \"2000-01-01\",  : \n",
      "  Query returned no data, check your input parameters!\n",
      "\n"
     ]
    },
    {
     "name": "stdout",
     "output_type": "stream",
     "text": [
      "downloading /tmp/data/NPN/phenor_npn_data_1178_373_2007-01-01_2007-12-31.rds\n",
      "  |======================================================================| 100%\n"
     ]
    },
    {
     "name": "stderr",
     "output_type": "stream",
     "text": [
      "R[write to console]: No encoding supplied: defaulting to UTF-8.\n",
      "\n",
      "R[write to console]: Error in (function (species = 3, phenophase = 371, start = \"2000-01-01\",  : \n",
      "  Query returned no data, check your input parameters!\n",
      "\n"
     ]
    },
    {
     "name": "stdout",
     "output_type": "stream",
     "text": [
      "downloading /tmp/data/NPN/phenor_npn_data_1322_371_2007-01-01_2007-12-31.rds\n",
      "  |======================================================================| 100%\n"
     ]
    },
    {
     "name": "stderr",
     "output_type": "stream",
     "text": [
      "R[write to console]: No encoding supplied: defaulting to UTF-8.\n",
      "\n",
      "R[write to console]: Error in (function (species = 3, phenophase = 371, start = \"2000-01-01\",  : \n",
      "  Query returned no data, check your input parameters!\n",
      "\n"
     ]
    },
    {
     "name": "stdout",
     "output_type": "stream",
     "text": [
      "downloading /tmp/data/NPN/phenor_npn_data_1322_373_2007-01-01_2007-12-31.rds\n",
      "  |======================================================================| 100%\n"
     ]
    },
    {
     "name": "stderr",
     "output_type": "stream",
     "text": [
      "R[write to console]: No encoding supplied: defaulting to UTF-8.\n",
      "\n",
      "R[write to console]: Error in (function (species = 3, phenophase = 371, start = \"2000-01-01\",  : \n",
      "  Query returned no data, check your input parameters!\n",
      "\n"
     ]
    },
    {
     "name": "stdout",
     "output_type": "stream",
     "text": [
      "downloading /tmp/data/NPN/phenor_npn_data_1323_371_2007-01-01_2007-12-31.rds\n",
      "  |======================================================================| 100%\n"
     ]
    },
    {
     "name": "stderr",
     "output_type": "stream",
     "text": [
      "R[write to console]: No encoding supplied: defaulting to UTF-8.\n",
      "\n",
      "R[write to console]: Error in (function (species = 3, phenophase = 371, start = \"2000-01-01\",  : \n",
      "  Query returned no data, check your input parameters!\n",
      "\n"
     ]
    },
    {
     "name": "stdout",
     "output_type": "stream",
     "text": [
      "downloading /tmp/data/NPN/phenor_npn_data_1323_373_2007-01-01_2007-12-31.rds\n",
      "  |======================================================================| 100%\n"
     ]
    },
    {
     "name": "stderr",
     "output_type": "stream",
     "text": [
      "R[write to console]: No encoding supplied: defaulting to UTF-8.\n",
      "\n",
      "R[write to console]: Error in (function (species = 3, phenophase = 371, start = \"2000-01-01\",  : \n",
      "  Query returned no data, check your input parameters!\n",
      "\n"
     ]
    },
    {
     "name": "stdout",
     "output_type": "stream",
     "text": [
      "downloading /tmp/data/NPN/phenor_npn_data_1324_371_2007-01-01_2007-12-31.rds\n",
      "  |======================================================================| 100%\n"
     ]
    },
    {
     "name": "stderr",
     "output_type": "stream",
     "text": [
      "R[write to console]: No encoding supplied: defaulting to UTF-8.\n",
      "\n",
      "R[write to console]: Error in (function (species = 3, phenophase = 371, start = \"2000-01-01\",  : \n",
      "  Query returned no data, check your input parameters!\n",
      "\n"
     ]
    },
    {
     "name": "stdout",
     "output_type": "stream",
     "text": [
      "downloading /tmp/data/NPN/phenor_npn_data_1324_373_2007-01-01_2007-12-31.rds\n",
      "  |======================================================================| 100%\n"
     ]
    },
    {
     "name": "stderr",
     "output_type": "stream",
     "text": [
      "R[write to console]: No encoding supplied: defaulting to UTF-8.\n",
      "\n",
      "R[write to console]: Error in (function (species = 3, phenophase = 371, start = \"2000-01-01\",  : \n",
      "  Query returned no data, check your input parameters!\n",
      "\n"
     ]
    },
    {
     "name": "stdout",
     "output_type": "stream",
     "text": [
      "downloading /tmp/data/NPN/phenor_npn_data_1346_371_2007-01-01_2007-12-31.rds\n",
      "  |======================================================================| 100%\n"
     ]
    },
    {
     "name": "stderr",
     "output_type": "stream",
     "text": [
      "R[write to console]: No encoding supplied: defaulting to UTF-8.\n",
      "\n",
      "R[write to console]: Error in (function (species = 3, phenophase = 371, start = \"2000-01-01\",  : \n",
      "  Query returned no data, check your input parameters!\n",
      "\n"
     ]
    },
    {
     "name": "stdout",
     "output_type": "stream",
     "text": [
      "downloading /tmp/data/NPN/phenor_npn_data_1346_373_2007-01-01_2007-12-31.rds\n",
      "  |======================================================================| 100%\n"
     ]
    },
    {
     "name": "stderr",
     "output_type": "stream",
     "text": [
      "R[write to console]: No encoding supplied: defaulting to UTF-8.\n",
      "\n",
      "R[write to console]: Error in (function (species = 3, phenophase = 371, start = \"2000-01-01\",  : \n",
      "  Query returned no data, check your input parameters!\n",
      "\n"
     ]
    },
    {
     "name": "stdout",
     "output_type": "stream",
     "text": [
      "downloading /tmp/data/NPN/phenor_npn_data_1349_371_2007-01-01_2007-12-31.rds\n",
      "  |======================================================================| 100%\n"
     ]
    },
    {
     "name": "stderr",
     "output_type": "stream",
     "text": [
      "R[write to console]: No encoding supplied: defaulting to UTF-8.\n",
      "\n",
      "R[write to console]: Error in (function (species = 3, phenophase = 371, start = \"2000-01-01\",  : \n",
      "  Query returned no data, check your input parameters!\n",
      "\n"
     ]
    },
    {
     "name": "stdout",
     "output_type": "stream",
     "text": [
      "downloading /tmp/data/NPN/phenor_npn_data_1349_373_2007-01-01_2007-12-31.rds\n",
      "  |======================================================================| 100%\n"
     ]
    },
    {
     "name": "stderr",
     "output_type": "stream",
     "text": [
      "R[write to console]: No encoding supplied: defaulting to UTF-8.\n",
      "\n",
      "R[write to console]: Error in (function (species = 3, phenophase = 371, start = \"2000-01-01\",  : \n",
      "  Query returned no data, check your input parameters!\n",
      "\n"
     ]
    },
    {
     "name": "stdout",
     "output_type": "stream",
     "text": [
      "downloading /tmp/data/NPN/phenor_npn_data_1351_371_2007-01-01_2007-12-31.rds\n",
      "  |======================================================================| 100%\n"
     ]
    },
    {
     "name": "stderr",
     "output_type": "stream",
     "text": [
      "R[write to console]: No encoding supplied: defaulting to UTF-8.\n",
      "\n",
      "R[write to console]: Error in (function (species = 3, phenophase = 371, start = \"2000-01-01\",  : \n",
      "  Query returned no data, check your input parameters!\n",
      "\n"
     ]
    },
    {
     "name": "stdout",
     "output_type": "stream",
     "text": [
      "downloading /tmp/data/NPN/phenor_npn_data_1351_373_2007-01-01_2007-12-31.rds\n",
      "  |======================================================================| 100%\n"
     ]
    },
    {
     "name": "stderr",
     "output_type": "stream",
     "text": [
      "R[write to console]: No encoding supplied: defaulting to UTF-8.\n",
      "\n",
      "R[write to console]: Error in (function (species = 3, phenophase = 371, start = \"2000-01-01\",  : \n",
      "  Query returned no data, check your input parameters!\n",
      "\n"
     ]
    },
    {
     "name": "stdout",
     "output_type": "stream",
     "text": [
      "downloading /tmp/data/NPN/phenor_npn_data_1359_371_2007-01-01_2007-12-31.rds\n",
      "  |======================================================================| 100%\n"
     ]
    },
    {
     "name": "stderr",
     "output_type": "stream",
     "text": [
      "R[write to console]: No encoding supplied: defaulting to UTF-8.\n",
      "\n",
      "R[write to console]: Error in (function (species = 3, phenophase = 371, start = \"2000-01-01\",  : \n",
      "  Query returned no data, check your input parameters!\n",
      "\n"
     ]
    },
    {
     "name": "stdout",
     "output_type": "stream",
     "text": [
      "downloading /tmp/data/NPN/phenor_npn_data_1359_373_2007-01-01_2007-12-31.rds\n",
      "  |======================================================================| 100%\n"
     ]
    },
    {
     "name": "stderr",
     "output_type": "stream",
     "text": [
      "R[write to console]: No encoding supplied: defaulting to UTF-8.\n",
      "\n",
      "R[write to console]: Error in (function (species = 3, phenophase = 371, start = \"2000-01-01\",  : \n",
      "  Query returned no data, check your input parameters!\n",
      "\n"
     ]
    },
    {
     "name": "stdout",
     "output_type": "stream",
     "text": [
      "downloading /tmp/data/NPN/phenor_npn_data_1360_371_2007-01-01_2007-12-31.rds\n",
      "  |======================================================================| 100%\n"
     ]
    },
    {
     "name": "stderr",
     "output_type": "stream",
     "text": [
      "R[write to console]: No encoding supplied: defaulting to UTF-8.\n",
      "\n",
      "R[write to console]: Error in (function (species = 3, phenophase = 371, start = \"2000-01-01\",  : \n",
      "  Query returned no data, check your input parameters!\n",
      "\n"
     ]
    },
    {
     "name": "stdout",
     "output_type": "stream",
     "text": [
      "downloading /tmp/data/NPN/phenor_npn_data_1360_373_2007-01-01_2007-12-31.rds\n",
      "  |======================================================================| 100%\n"
     ]
    },
    {
     "name": "stderr",
     "output_type": "stream",
     "text": [
      "R[write to console]: No encoding supplied: defaulting to UTF-8.\n",
      "\n",
      "R[write to console]: Error in (function (species = 3, phenophase = 371, start = \"2000-01-01\",  : \n",
      "  Query returned no data, check your input parameters!\n",
      "\n"
     ]
    },
    {
     "name": "stdout",
     "output_type": "stream",
     "text": [
      "downloading /tmp/data/NPN/phenor_npn_data_1368_371_2007-01-01_2007-12-31.rds\n",
      "  |======================================================================| 100%\n"
     ]
    },
    {
     "name": "stderr",
     "output_type": "stream",
     "text": [
      "R[write to console]: No encoding supplied: defaulting to UTF-8.\n",
      "\n",
      "R[write to console]: Error in (function (species = 3, phenophase = 371, start = \"2000-01-01\",  : \n",
      "  Query returned no data, check your input parameters!\n",
      "\n"
     ]
    },
    {
     "name": "stdout",
     "output_type": "stream",
     "text": [
      "downloading /tmp/data/NPN/phenor_npn_data_1368_373_2007-01-01_2007-12-31.rds\n",
      "  |======================================================================| 100%\n"
     ]
    },
    {
     "name": "stderr",
     "output_type": "stream",
     "text": [
      "R[write to console]: No encoding supplied: defaulting to UTF-8.\n",
      "\n",
      "R[write to console]: Error in (function (species = 3, phenophase = 371, start = \"2000-01-01\",  : \n",
      "  Query returned no data, check your input parameters!\n",
      "\n"
     ]
    },
    {
     "name": "stdout",
     "output_type": "stream",
     "text": [
      "downloading /tmp/data/NPN/phenor_npn_data_1430_371_2007-01-01_2007-12-31.rds\n",
      "  |======================================================================| 100%\n"
     ]
    },
    {
     "name": "stderr",
     "output_type": "stream",
     "text": [
      "R[write to console]: No encoding supplied: defaulting to UTF-8.\n",
      "\n",
      "R[write to console]: Error in (function (species = 3, phenophase = 371, start = \"2000-01-01\",  : \n",
      "  Query returned no data, check your input parameters!\n",
      "\n"
     ]
    },
    {
     "name": "stdout",
     "output_type": "stream",
     "text": [
      "downloading /tmp/data/NPN/phenor_npn_data_1430_373_2007-01-01_2007-12-31.rds\n",
      "  |======================================================================| 100%\n"
     ]
    },
    {
     "name": "stderr",
     "output_type": "stream",
     "text": [
      "R[write to console]: No encoding supplied: defaulting to UTF-8.\n",
      "\n",
      "R[write to console]: Error in (function (species = 3, phenophase = 371, start = \"2000-01-01\",  : \n",
      "  Query returned no data, check your input parameters!\n",
      "\n"
     ]
    },
    {
     "name": "stdout",
     "output_type": "stream",
     "text": [
      "downloading /tmp/data/NPN/phenor_npn_data_1443_371_2007-01-01_2007-12-31.rds\n",
      "  |======================================================================| 100%\n"
     ]
    },
    {
     "name": "stderr",
     "output_type": "stream",
     "text": [
      "R[write to console]: No encoding supplied: defaulting to UTF-8.\n",
      "\n",
      "R[write to console]: Error in (function (species = 3, phenophase = 371, start = \"2000-01-01\",  : \n",
      "  Query returned no data, check your input parameters!\n",
      "\n"
     ]
    },
    {
     "name": "stdout",
     "output_type": "stream",
     "text": [
      "downloading /tmp/data/NPN/phenor_npn_data_1443_373_2007-01-01_2007-12-31.rds\n",
      "  |======================================================================| 100%\n"
     ]
    },
    {
     "name": "stderr",
     "output_type": "stream",
     "text": [
      "R[write to console]: No encoding supplied: defaulting to UTF-8.\n",
      "\n",
      "R[write to console]: Error in (function (species = 3, phenophase = 371, start = \"2000-01-01\",  : \n",
      "  Query returned no data, check your input parameters!\n",
      "\n"
     ]
    },
    {
     "name": "stdout",
     "output_type": "stream",
     "text": [
      "downloading /tmp/data/NPN/phenor_npn_data_1444_371_2007-01-01_2007-12-31.rds\n",
      "  |======================================================================| 100%\n"
     ]
    },
    {
     "name": "stderr",
     "output_type": "stream",
     "text": [
      "R[write to console]: No encoding supplied: defaulting to UTF-8.\n",
      "\n",
      "R[write to console]: Error in (function (species = 3, phenophase = 371, start = \"2000-01-01\",  : \n",
      "  Query returned no data, check your input parameters!\n",
      "\n"
     ]
    },
    {
     "name": "stdout",
     "output_type": "stream",
     "text": [
      "downloading /tmp/data/NPN/phenor_npn_data_1444_373_2007-01-01_2007-12-31.rds\n",
      "  |======================================================================| 100%\n"
     ]
    },
    {
     "name": "stderr",
     "output_type": "stream",
     "text": [
      "R[write to console]: No encoding supplied: defaulting to UTF-8.\n",
      "\n",
      "R[write to console]: Error in (function (species = 3, phenophase = 371, start = \"2000-01-01\",  : \n",
      "  Query returned no data, check your input parameters!\n",
      "\n"
     ]
    },
    {
     "name": "stdout",
     "output_type": "stream",
     "text": [
      "downloading /tmp/data/NPN/phenor_npn_data_1467_371_2007-01-01_2007-12-31.rds\n",
      "  |======================================================================| 100%\n"
     ]
    },
    {
     "name": "stderr",
     "output_type": "stream",
     "text": [
      "R[write to console]: No encoding supplied: defaulting to UTF-8.\n",
      "\n",
      "R[write to console]: Error in (function (species = 3, phenophase = 371, start = \"2000-01-01\",  : \n",
      "  Query returned no data, check your input parameters!\n",
      "\n"
     ]
    },
    {
     "name": "stdout",
     "output_type": "stream",
     "text": [
      "downloading /tmp/data/NPN/phenor_npn_data_1467_373_2007-01-01_2007-12-31.rds\n",
      "  |======================================================================| 100%\n"
     ]
    },
    {
     "name": "stderr",
     "output_type": "stream",
     "text": [
      "R[write to console]: No encoding supplied: defaulting to UTF-8.\n",
      "\n",
      "R[write to console]: Error in (function (species = 3, phenophase = 371, start = \"2000-01-01\",  : \n",
      "  Query returned no data, check your input parameters!\n",
      "\n"
     ]
    },
    {
     "name": "stdout",
     "output_type": "stream",
     "text": [
      "downloading /tmp/data/NPN/phenor_npn_data_1479_371_2007-01-01_2007-12-31.rds\n",
      "  |======================================================================| 100%\n"
     ]
    },
    {
     "name": "stderr",
     "output_type": "stream",
     "text": [
      "R[write to console]: No encoding supplied: defaulting to UTF-8.\n",
      "\n",
      "R[write to console]: Error in (function (species = 3, phenophase = 371, start = \"2000-01-01\",  : \n",
      "  Query returned no data, check your input parameters!\n",
      "\n"
     ]
    },
    {
     "name": "stdout",
     "output_type": "stream",
     "text": [
      "downloading /tmp/data/NPN/phenor_npn_data_1479_373_2007-01-01_2007-12-31.rds\n",
      "  |======================================================================| 100%\n"
     ]
    },
    {
     "name": "stderr",
     "output_type": "stream",
     "text": [
      "R[write to console]: No encoding supplied: defaulting to UTF-8.\n",
      "\n",
      "R[write to console]: Error in (function (species = 3, phenophase = 371, start = \"2000-01-01\",  : \n",
      "  Query returned no data, check your input parameters!\n",
      "\n"
     ]
    },
    {
     "name": "stdout",
     "output_type": "stream",
     "text": [
      "downloading /tmp/data/NPN/phenor_npn_data_1490_371_2007-01-01_2007-12-31.rds\n",
      "  |======================================================================| 100%\n"
     ]
    },
    {
     "name": "stderr",
     "output_type": "stream",
     "text": [
      "R[write to console]: No encoding supplied: defaulting to UTF-8.\n",
      "\n",
      "R[write to console]: Error in (function (species = 3, phenophase = 371, start = \"2000-01-01\",  : \n",
      "  Query returned no data, check your input parameters!\n",
      "\n"
     ]
    },
    {
     "name": "stdout",
     "output_type": "stream",
     "text": [
      "downloading /tmp/data/NPN/phenor_npn_data_1490_373_2007-01-01_2007-12-31.rds\n",
      "  |======================================================================| 100%\n"
     ]
    },
    {
     "name": "stderr",
     "output_type": "stream",
     "text": [
      "R[write to console]: No encoding supplied: defaulting to UTF-8.\n",
      "\n",
      "R[write to console]: Error in (function (species = 3, phenophase = 371, start = \"2000-01-01\",  : \n",
      "  Query returned no data, check your input parameters!\n",
      "\n"
     ]
    },
    {
     "name": "stdout",
     "output_type": "stream",
     "text": [
      "downloading /tmp/data/NPN/phenor_npn_data_1593_371_2007-01-01_2007-12-31.rds\n",
      "  |======================================================================| 100%\n"
     ]
    },
    {
     "name": "stderr",
     "output_type": "stream",
     "text": [
      "R[write to console]: No encoding supplied: defaulting to UTF-8.\n",
      "\n",
      "R[write to console]: Error in (function (species = 3, phenophase = 371, start = \"2000-01-01\",  : \n",
      "  Query returned no data, check your input parameters!\n",
      "\n"
     ]
    },
    {
     "name": "stdout",
     "output_type": "stream",
     "text": [
      "downloading /tmp/data/NPN/phenor_npn_data_1593_373_2007-01-01_2007-12-31.rds\n",
      "  |======================================================================| 100%\n"
     ]
    },
    {
     "name": "stderr",
     "output_type": "stream",
     "text": [
      "R[write to console]: No encoding supplied: defaulting to UTF-8.\n",
      "\n",
      "R[write to console]: Error in (function (species = 3, phenophase = 371, start = \"2000-01-01\",  : \n",
      "  Query returned no data, check your input parameters!\n",
      "\n"
     ]
    },
    {
     "name": "stdout",
     "output_type": "stream",
     "text": [
      "downloading /tmp/data/NPN/phenor_npn_data_1594_371_2007-01-01_2007-12-31.rds\n",
      "  |======================================================================| 100%\n"
     ]
    },
    {
     "name": "stderr",
     "output_type": "stream",
     "text": [
      "R[write to console]: No encoding supplied: defaulting to UTF-8.\n",
      "\n",
      "R[write to console]: Error in (function (species = 3, phenophase = 371, start = \"2000-01-01\",  : \n",
      "  Query returned no data, check your input parameters!\n",
      "\n"
     ]
    },
    {
     "name": "stdout",
     "output_type": "stream",
     "text": [
      "downloading /tmp/data/NPN/phenor_npn_data_1594_373_2007-01-01_2007-12-31.rds\n",
      "  |======================================================================| 100%\n"
     ]
    },
    {
     "name": "stderr",
     "output_type": "stream",
     "text": [
      "R[write to console]: No encoding supplied: defaulting to UTF-8.\n",
      "\n",
      "R[write to console]: Error in (function (species = 3, phenophase = 371, start = \"2000-01-01\",  : \n",
      "  Query returned no data, check your input parameters!\n",
      "\n"
     ]
    },
    {
     "name": "stdout",
     "output_type": "stream",
     "text": [
      "downloading /tmp/data/NPN/phenor_npn_data_1602_371_2007-01-01_2007-12-31.rds\n",
      "  |======================================================================| 100%\n"
     ]
    },
    {
     "name": "stderr",
     "output_type": "stream",
     "text": [
      "R[write to console]: No encoding supplied: defaulting to UTF-8.\n",
      "\n",
      "R[write to console]: Error in (function (species = 3, phenophase = 371, start = \"2000-01-01\",  : \n",
      "  Query returned no data, check your input parameters!\n",
      "\n"
     ]
    },
    {
     "name": "stdout",
     "output_type": "stream",
     "text": [
      "downloading /tmp/data/NPN/phenor_npn_data_1602_373_2007-01-01_2007-12-31.rds\n",
      "  |======================================================================| 100%\n"
     ]
    },
    {
     "name": "stderr",
     "output_type": "stream",
     "text": [
      "R[write to console]: No encoding supplied: defaulting to UTF-8.\n",
      "\n",
      "R[write to console]: Error in (function (species = 3, phenophase = 371, start = \"2000-01-01\",  : \n",
      "  Query returned no data, check your input parameters!\n",
      "\n"
     ]
    },
    {
     "name": "stdout",
     "output_type": "stream",
     "text": [
      "downloading /tmp/data/NPN/phenor_npn_data_1609_371_2007-01-01_2007-12-31.rds\n",
      "  |======================================================================| 100%\n"
     ]
    },
    {
     "name": "stderr",
     "output_type": "stream",
     "text": [
      "R[write to console]: No encoding supplied: defaulting to UTF-8.\n",
      "\n",
      "R[write to console]: Error in (function (species = 3, phenophase = 371, start = \"2000-01-01\",  : \n",
      "  Query returned no data, check your input parameters!\n",
      "\n"
     ]
    },
    {
     "name": "stdout",
     "output_type": "stream",
     "text": [
      "downloading /tmp/data/NPN/phenor_npn_data_1609_373_2007-01-01_2007-12-31.rds\n",
      "  |======================================================================| 100%\n"
     ]
    },
    {
     "name": "stderr",
     "output_type": "stream",
     "text": [
      "R[write to console]: No encoding supplied: defaulting to UTF-8.\n",
      "\n",
      "R[write to console]: Error in (function (species = 3, phenophase = 371, start = \"2000-01-01\",  : \n",
      "  Query returned no data, check your input parameters!\n",
      "\n"
     ]
    },
    {
     "name": "stdout",
     "output_type": "stream",
     "text": [
      "downloading /tmp/data/NPN/phenor_npn_data_1626_371_2007-01-01_2007-12-31.rds\n",
      "  |======================================================================| 100%\n"
     ]
    },
    {
     "name": "stderr",
     "output_type": "stream",
     "text": [
      "R[write to console]: No encoding supplied: defaulting to UTF-8.\n",
      "\n",
      "R[write to console]: Error in (function (species = 3, phenophase = 371, start = \"2000-01-01\",  : \n",
      "  Query returned no data, check your input parameters!\n",
      "\n"
     ]
    },
    {
     "name": "stdout",
     "output_type": "stream",
     "text": [
      "downloading /tmp/data/NPN/phenor_npn_data_1626_373_2007-01-01_2007-12-31.rds\n",
      "  |======================================================================| 100%\n"
     ]
    },
    {
     "name": "stderr",
     "output_type": "stream",
     "text": [
      "R[write to console]: No encoding supplied: defaulting to UTF-8.\n",
      "\n",
      "R[write to console]: Error in (function (species = 3, phenophase = 371, start = \"2000-01-01\",  : \n",
      "  Query returned no data, check your input parameters!\n",
      "\n"
     ]
    },
    {
     "name": "stdout",
     "output_type": "stream",
     "text": [
      "downloading /tmp/data/NPN/phenor_npn_data_1628_371_2007-01-01_2007-12-31.rds\n",
      "  |======================================================================| 100%\n"
     ]
    },
    {
     "name": "stderr",
     "output_type": "stream",
     "text": [
      "R[write to console]: No encoding supplied: defaulting to UTF-8.\n",
      "\n",
      "R[write to console]: Error in (function (species = 3, phenophase = 371, start = \"2000-01-01\",  : \n",
      "  Query returned no data, check your input parameters!\n",
      "\n"
     ]
    },
    {
     "name": "stdout",
     "output_type": "stream",
     "text": [
      "downloading /tmp/data/NPN/phenor_npn_data_1628_373_2007-01-01_2007-12-31.rds\n",
      "  |======================================================================| 100%\n"
     ]
    },
    {
     "name": "stderr",
     "output_type": "stream",
     "text": [
      "R[write to console]: No encoding supplied: defaulting to UTF-8.\n",
      "\n",
      "R[write to console]: Error in (function (species = 3, phenophase = 371, start = \"2000-01-01\",  : \n",
      "  Query returned no data, check your input parameters!\n",
      "\n"
     ]
    },
    {
     "name": "stdout",
     "output_type": "stream",
     "text": [
      "downloading /tmp/data/NPN/phenor_npn_data_1644_371_2007-01-01_2007-12-31.rds\n",
      "  |======================================================================| 100%\n"
     ]
    },
    {
     "name": "stderr",
     "output_type": "stream",
     "text": [
      "R[write to console]: No encoding supplied: defaulting to UTF-8.\n",
      "\n",
      "R[write to console]: Error in (function (species = 3, phenophase = 371, start = \"2000-01-01\",  : \n",
      "  Query returned no data, check your input parameters!\n",
      "\n"
     ]
    },
    {
     "name": "stdout",
     "output_type": "stream",
     "text": [
      "downloading /tmp/data/NPN/phenor_npn_data_1644_373_2007-01-01_2007-12-31.rds\n",
      "  |======================================================================| 100%\n"
     ]
    },
    {
     "name": "stderr",
     "output_type": "stream",
     "text": [
      "R[write to console]: No encoding supplied: defaulting to UTF-8.\n",
      "\n",
      "R[write to console]: Error in (function (species = 3, phenophase = 371, start = \"2000-01-01\",  : \n",
      "  Query returned no data, check your input parameters!\n",
      "\n"
     ]
    },
    {
     "name": "stdout",
     "output_type": "stream",
     "text": [
      "downloading /tmp/data/NPN/phenor_npn_data_1681_371_2007-01-01_2007-12-31.rds\n",
      "  |======================================================================| 100%\n"
     ]
    },
    {
     "name": "stderr",
     "output_type": "stream",
     "text": [
      "R[write to console]: No encoding supplied: defaulting to UTF-8.\n",
      "\n",
      "R[write to console]: Error in (function (species = 3, phenophase = 371, start = \"2000-01-01\",  : \n",
      "  Query returned no data, check your input parameters!\n",
      "\n"
     ]
    },
    {
     "name": "stdout",
     "output_type": "stream",
     "text": [
      "downloading /tmp/data/NPN/phenor_npn_data_1681_373_2007-01-01_2007-12-31.rds\n",
      "  |======================================================================| 100%\n"
     ]
    },
    {
     "name": "stderr",
     "output_type": "stream",
     "text": [
      "R[write to console]: No encoding supplied: defaulting to UTF-8.\n",
      "\n",
      "R[write to console]: Error in (function (species = 3, phenophase = 371, start = \"2000-01-01\",  : \n",
      "  Query returned no data, check your input parameters!\n",
      "\n"
     ]
    },
    {
     "name": "stdout",
     "output_type": "stream",
     "text": [
      "downloading /tmp/data/NPN/phenor_npn_data_1689_371_2007-01-01_2007-12-31.rds\n",
      "  |======================================================================| 100%\n"
     ]
    },
    {
     "name": "stderr",
     "output_type": "stream",
     "text": [
      "R[write to console]: No encoding supplied: defaulting to UTF-8.\n",
      "\n",
      "R[write to console]: Error in (function (species = 3, phenophase = 371, start = \"2000-01-01\",  : \n",
      "  Query returned no data, check your input parameters!\n",
      "\n"
     ]
    },
    {
     "name": "stdout",
     "output_type": "stream",
     "text": [
      "downloading /tmp/data/NPN/phenor_npn_data_1689_373_2007-01-01_2007-12-31.rds\n",
      "  |======================================================================| 100%\n"
     ]
    },
    {
     "name": "stderr",
     "output_type": "stream",
     "text": [
      "R[write to console]: No encoding supplied: defaulting to UTF-8.\n",
      "\n",
      "R[write to console]: Error in (function (species = 3, phenophase = 371, start = \"2000-01-01\",  : \n",
      "  Query returned no data, check your input parameters!\n",
      "\n"
     ]
    },
    {
     "name": "stdout",
     "output_type": "stream",
     "text": [
      "downloading /tmp/data/NPN/phenor_npn_data_1717_371_2007-01-01_2007-12-31.rds\n",
      "  |======================================================================| 100%\n"
     ]
    },
    {
     "name": "stderr",
     "output_type": "stream",
     "text": [
      "R[write to console]: No encoding supplied: defaulting to UTF-8.\n",
      "\n",
      "R[write to console]: Error in (function (species = 3, phenophase = 371, start = \"2000-01-01\",  : \n",
      "  Query returned no data, check your input parameters!\n",
      "\n"
     ]
    },
    {
     "name": "stdout",
     "output_type": "stream",
     "text": [
      "downloading /tmp/data/NPN/phenor_npn_data_1717_373_2007-01-01_2007-12-31.rds\n",
      "  |======================================================================| 100%\n"
     ]
    },
    {
     "name": "stderr",
     "output_type": "stream",
     "text": [
      "R[write to console]: No encoding supplied: defaulting to UTF-8.\n",
      "\n",
      "R[write to console]: Error in (function (species = 3, phenophase = 371, start = \"2000-01-01\",  : \n",
      "  Query returned no data, check your input parameters!\n",
      "\n"
     ]
    },
    {
     "name": "stdout",
     "output_type": "stream",
     "text": [
      "downloading /tmp/data/NPN/phenor_npn_data_1720_371_2007-01-01_2007-12-31.rds\n",
      "  |======================================================================| 100%\n"
     ]
    },
    {
     "name": "stderr",
     "output_type": "stream",
     "text": [
      "R[write to console]: No encoding supplied: defaulting to UTF-8.\n",
      "\n",
      "R[write to console]: Error in (function (species = 3, phenophase = 371, start = \"2000-01-01\",  : \n",
      "  Query returned no data, check your input parameters!\n",
      "\n"
     ]
    },
    {
     "name": "stdout",
     "output_type": "stream",
     "text": [
      "downloading /tmp/data/NPN/phenor_npn_data_1720_373_2007-01-01_2007-12-31.rds\n",
      "  |======================================================================| 100%\n"
     ]
    },
    {
     "name": "stderr",
     "output_type": "stream",
     "text": [
      "R[write to console]: No encoding supplied: defaulting to UTF-8.\n",
      "\n",
      "R[write to console]: Error in (function (species = 3, phenophase = 371, start = \"2000-01-01\",  : \n",
      "  Query returned no data, check your input parameters!\n",
      "\n"
     ]
    },
    {
     "name": "stdout",
     "output_type": "stream",
     "text": [
      "downloading /tmp/data/NPN/phenor_npn_data_1766_371_2007-01-01_2007-12-31.rds\n",
      "  |======================================================================| 100%\n"
     ]
    },
    {
     "name": "stderr",
     "output_type": "stream",
     "text": [
      "R[write to console]: No encoding supplied: defaulting to UTF-8.\n",
      "\n",
      "R[write to console]: Error in (function (species = 3, phenophase = 371, start = \"2000-01-01\",  : \n",
      "  Query returned no data, check your input parameters!\n",
      "\n"
     ]
    },
    {
     "name": "stdout",
     "output_type": "stream",
     "text": [
      "downloading /tmp/data/NPN/phenor_npn_data_1766_373_2007-01-01_2007-12-31.rds\n",
      "  |======================================================================| 100%\n"
     ]
    },
    {
     "name": "stderr",
     "output_type": "stream",
     "text": [
      "R[write to console]: No encoding supplied: defaulting to UTF-8.\n",
      "\n",
      "R[write to console]: Error in (function (species = 3, phenophase = 371, start = \"2000-01-01\",  : \n",
      "  Query returned no data, check your input parameters!\n",
      "\n"
     ]
    },
    {
     "name": "stdout",
     "output_type": "stream",
     "text": [
      "downloading /tmp/data/NPN/phenor_npn_data_1799_371_2007-01-01_2007-12-31.rds\n",
      "  |======================================================================| 100%\n"
     ]
    },
    {
     "name": "stderr",
     "output_type": "stream",
     "text": [
      "R[write to console]: No encoding supplied: defaulting to UTF-8.\n",
      "\n",
      "R[write to console]: Error in (function (species = 3, phenophase = 371, start = \"2000-01-01\",  : \n",
      "  Query returned no data, check your input parameters!\n",
      "\n"
     ]
    },
    {
     "name": "stdout",
     "output_type": "stream",
     "text": [
      "downloading /tmp/data/NPN/phenor_npn_data_1799_373_2007-01-01_2007-12-31.rds\n",
      "  |======================================================================| 100%\n"
     ]
    },
    {
     "name": "stderr",
     "output_type": "stream",
     "text": [
      "R[write to console]: No encoding supplied: defaulting to UTF-8.\n",
      "\n",
      "R[write to console]: Error in (function (species = 3, phenophase = 371, start = \"2000-01-01\",  : \n",
      "  Query returned no data, check your input parameters!\n",
      "\n"
     ]
    },
    {
     "name": "stdout",
     "output_type": "stream",
     "text": [
      "downloading /tmp/data/NPN/phenor_npn_data_1824_371_2007-01-01_2007-12-31.rds\n",
      "  |======================================================================| 100%\n"
     ]
    },
    {
     "name": "stderr",
     "output_type": "stream",
     "text": [
      "R[write to console]: No encoding supplied: defaulting to UTF-8.\n",
      "\n",
      "R[write to console]: Error in (function (species = 3, phenophase = 371, start = \"2000-01-01\",  : \n",
      "  Query returned no data, check your input parameters!\n",
      "\n"
     ]
    },
    {
     "name": "stdout",
     "output_type": "stream",
     "text": [
      "downloading /tmp/data/NPN/phenor_npn_data_1824_373_2007-01-01_2007-12-31.rds\n",
      "  |======================================================================| 100%\n"
     ]
    },
    {
     "name": "stderr",
     "output_type": "stream",
     "text": [
      "R[write to console]: No encoding supplied: defaulting to UTF-8.\n",
      "\n",
      "R[write to console]: Error in (function (species = 3, phenophase = 371, start = \"2000-01-01\",  : \n",
      "  Query returned no data, check your input parameters!\n",
      "\n"
     ]
    },
    {
     "name": "stdout",
     "output_type": "stream",
     "text": [
      "downloading /tmp/data/NPN/phenor_npn_data_1845_371_2007-01-01_2007-12-31.rds\n",
      "  |======================================================================| 100%\n"
     ]
    },
    {
     "name": "stderr",
     "output_type": "stream",
     "text": [
      "R[write to console]: No encoding supplied: defaulting to UTF-8.\n",
      "\n",
      "R[write to console]: Error in (function (species = 3, phenophase = 371, start = \"2000-01-01\",  : \n",
      "  Query returned no data, check your input parameters!\n",
      "\n"
     ]
    },
    {
     "name": "stdout",
     "output_type": "stream",
     "text": [
      "downloading /tmp/data/NPN/phenor_npn_data_1845_373_2007-01-01_2007-12-31.rds\n",
      "  |======================================================================| 100%\n"
     ]
    },
    {
     "name": "stderr",
     "output_type": "stream",
     "text": [
      "R[write to console]: No encoding supplied: defaulting to UTF-8.\n",
      "\n",
      "R[write to console]: Error in (function (species = 3, phenophase = 371, start = \"2000-01-01\",  : \n",
      "  Query returned no data, check your input parameters!\n",
      "\n"
     ]
    },
    {
     "name": "stdout",
     "output_type": "stream",
     "text": [
      "downloading /tmp/data/NPN/phenor_npn_data_1846_371_2007-01-01_2007-12-31.rds\n",
      "  |======================================================================| 100%\n"
     ]
    },
    {
     "name": "stderr",
     "output_type": "stream",
     "text": [
      "R[write to console]: No encoding supplied: defaulting to UTF-8.\n",
      "\n",
      "R[write to console]: Error in (function (species = 3, phenophase = 371, start = \"2000-01-01\",  : \n",
      "  Query returned no data, check your input parameters!\n",
      "\n"
     ]
    },
    {
     "name": "stdout",
     "output_type": "stream",
     "text": [
      "downloading /tmp/data/NPN/phenor_npn_data_1846_373_2007-01-01_2007-12-31.rds\n",
      "  |======================================================================| 100%\n"
     ]
    },
    {
     "name": "stderr",
     "output_type": "stream",
     "text": [
      "R[write to console]: No encoding supplied: defaulting to UTF-8.\n",
      "\n",
      "R[write to console]: Error in (function (species = 3, phenophase = 371, start = \"2000-01-01\",  : \n",
      "  Query returned no data, check your input parameters!\n",
      "\n"
     ]
    },
    {
     "name": "stdout",
     "output_type": "stream",
     "text": [
      "downloading /tmp/data/NPN/phenor_npn_data_1861_371_2007-01-01_2007-12-31.rds\n",
      "  |======================================================================| 100%\n"
     ]
    },
    {
     "name": "stderr",
     "output_type": "stream",
     "text": [
      "R[write to console]: No encoding supplied: defaulting to UTF-8.\n",
      "\n",
      "R[write to console]: Error in (function (species = 3, phenophase = 371, start = \"2000-01-01\",  : \n",
      "  Query returned no data, check your input parameters!\n",
      "\n"
     ]
    },
    {
     "name": "stdout",
     "output_type": "stream",
     "text": [
      "downloading /tmp/data/NPN/phenor_npn_data_1861_373_2007-01-01_2007-12-31.rds\n",
      "  |======================================================================| 100%\n"
     ]
    },
    {
     "name": "stderr",
     "output_type": "stream",
     "text": [
      "R[write to console]: No encoding supplied: defaulting to UTF-8.\n",
      "\n",
      "R[write to console]: Error in (function (species = 3, phenophase = 371, start = \"2000-01-01\",  : \n",
      "  Query returned no data, check your input parameters!\n",
      "\n"
     ]
    },
    {
     "name": "stdout",
     "output_type": "stream",
     "text": [
      "downloading /tmp/data/NPN/phenor_npn_data_1870_371_2007-01-01_2007-12-31.rds\n",
      "  |======================================================================| 100%\n"
     ]
    },
    {
     "name": "stderr",
     "output_type": "stream",
     "text": [
      "R[write to console]: No encoding supplied: defaulting to UTF-8.\n",
      "\n",
      "R[write to console]: Error in (function (species = 3, phenophase = 371, start = \"2000-01-01\",  : \n",
      "  Query returned no data, check your input parameters!\n",
      "\n"
     ]
    },
    {
     "name": "stdout",
     "output_type": "stream",
     "text": [
      "downloading /tmp/data/NPN/phenor_npn_data_1870_373_2007-01-01_2007-12-31.rds\n",
      "  |======================================================================| 100%\n"
     ]
    },
    {
     "name": "stderr",
     "output_type": "stream",
     "text": [
      "R[write to console]: No encoding supplied: defaulting to UTF-8.\n",
      "\n",
      "R[write to console]: Error in (function (species = 3, phenophase = 371, start = \"2000-01-01\",  : \n",
      "  Query returned no data, check your input parameters!\n",
      "\n"
     ]
    },
    {
     "name": "stdout",
     "output_type": "stream",
     "text": [
      "downloading /tmp/data/NPN/phenor_npn_data_1887_371_2007-01-01_2007-12-31.rds\n",
      "  |======================================================================| 100%\n"
     ]
    },
    {
     "name": "stderr",
     "output_type": "stream",
     "text": [
      "R[write to console]: No encoding supplied: defaulting to UTF-8.\n",
      "\n",
      "R[write to console]: Error in (function (species = 3, phenophase = 371, start = \"2000-01-01\",  : \n",
      "  Query returned no data, check your input parameters!\n",
      "\n"
     ]
    },
    {
     "name": "stdout",
     "output_type": "stream",
     "text": [
      "downloading /tmp/data/NPN/phenor_npn_data_1887_373_2007-01-01_2007-12-31.rds\n",
      "  |======================================================================| 100%\n"
     ]
    },
    {
     "name": "stderr",
     "output_type": "stream",
     "text": [
      "R[write to console]: No encoding supplied: defaulting to UTF-8.\n",
      "\n",
      "R[write to console]: Error in (function (species = 3, phenophase = 371, start = \"2000-01-01\",  : \n",
      "  Query returned no data, check your input parameters!\n",
      "\n"
     ]
    },
    {
     "name": "stdout",
     "output_type": "stream",
     "text": [
      "downloading /tmp/data/NPN/phenor_npn_data_1892_371_2007-01-01_2007-12-31.rds\n",
      "  |======================================================================| 100%\n"
     ]
    },
    {
     "name": "stderr",
     "output_type": "stream",
     "text": [
      "R[write to console]: No encoding supplied: defaulting to UTF-8.\n",
      "\n",
      "R[write to console]: Error in (function (species = 3, phenophase = 371, start = \"2000-01-01\",  : \n",
      "  Query returned no data, check your input parameters!\n",
      "\n"
     ]
    },
    {
     "name": "stdout",
     "output_type": "stream",
     "text": [
      "downloading /tmp/data/NPN/phenor_npn_data_1892_373_2007-01-01_2007-12-31.rds\n",
      "  |======================================================================| 100%\n"
     ]
    },
    {
     "name": "stderr",
     "output_type": "stream",
     "text": [
      "R[write to console]: No encoding supplied: defaulting to UTF-8.\n",
      "\n",
      "R[write to console]: Error in (function (species = 3, phenophase = 371, start = \"2000-01-01\",  : \n",
      "  Query returned no data, check your input parameters!\n",
      "\n"
     ]
    },
    {
     "name": "stdout",
     "output_type": "stream",
     "text": [
      "downloading /tmp/data/NPN/phenor_npn_data_1910_371_2007-01-01_2007-12-31.rds\n",
      "  |======================================================================| 100%\n"
     ]
    },
    {
     "name": "stderr",
     "output_type": "stream",
     "text": [
      "R[write to console]: No encoding supplied: defaulting to UTF-8.\n",
      "\n",
      "R[write to console]: Error in (function (species = 3, phenophase = 371, start = \"2000-01-01\",  : \n",
      "  Query returned no data, check your input parameters!\n",
      "\n"
     ]
    },
    {
     "name": "stdout",
     "output_type": "stream",
     "text": [
      "downloading /tmp/data/NPN/phenor_npn_data_1910_373_2007-01-01_2007-12-31.rds\n",
      "  |======================================================================| 100%\n"
     ]
    },
    {
     "name": "stderr",
     "output_type": "stream",
     "text": [
      "R[write to console]: No encoding supplied: defaulting to UTF-8.\n",
      "\n",
      "R[write to console]: Error in (function (species = 3, phenophase = 371, start = \"2000-01-01\",  : \n",
      "  Query returned no data, check your input parameters!\n",
      "\n"
     ]
    },
    {
     "name": "stdout",
     "output_type": "stream",
     "text": [
      "downloading /tmp/data/NPN/phenor_npn_data_1922_371_2007-01-01_2007-12-31.rds\n",
      "  |======================================================================| 100%\n"
     ]
    },
    {
     "name": "stderr",
     "output_type": "stream",
     "text": [
      "R[write to console]: No encoding supplied: defaulting to UTF-8.\n",
      "\n",
      "R[write to console]: Error in (function (species = 3, phenophase = 371, start = \"2000-01-01\",  : \n",
      "  Query returned no data, check your input parameters!\n",
      "\n"
     ]
    },
    {
     "name": "stdout",
     "output_type": "stream",
     "text": [
      "downloading /tmp/data/NPN/phenor_npn_data_1922_373_2007-01-01_2007-12-31.rds\n",
      "  |======================================================================| 100%\n"
     ]
    },
    {
     "name": "stderr",
     "output_type": "stream",
     "text": [
      "R[write to console]: No encoding supplied: defaulting to UTF-8.\n",
      "\n",
      "R[write to console]: Error in (function (species = 3, phenophase = 371, start = \"2000-01-01\",  : \n",
      "  Query returned no data, check your input parameters!\n",
      "\n"
     ]
    },
    {
     "name": "stdout",
     "output_type": "stream",
     "text": [
      "downloading /tmp/data/NPN/phenor_npn_data_1927_371_2007-01-01_2007-12-31.rds\n",
      "  |======================================================================| 100%\n"
     ]
    },
    {
     "name": "stderr",
     "output_type": "stream",
     "text": [
      "R[write to console]: No encoding supplied: defaulting to UTF-8.\n",
      "\n",
      "R[write to console]: Error in (function (species = 3, phenophase = 371, start = \"2000-01-01\",  : \n",
      "  Query returned no data, check your input parameters!\n",
      "\n"
     ]
    },
    {
     "name": "stdout",
     "output_type": "stream",
     "text": [
      "downloading /tmp/data/NPN/phenor_npn_data_1927_373_2007-01-01_2007-12-31.rds\n",
      "  |======================================================================| 100%\n"
     ]
    },
    {
     "name": "stderr",
     "output_type": "stream",
     "text": [
      "R[write to console]: No encoding supplied: defaulting to UTF-8.\n",
      "\n",
      "R[write to console]: Error in (function (species = 3, phenophase = 371, start = \"2000-01-01\",  : \n",
      "  Query returned no data, check your input parameters!\n",
      "\n"
     ]
    },
    {
     "name": "stdout",
     "output_type": "stream",
     "text": [
      "downloading /tmp/data/NPN/phenor_npn_data_1934_371_2007-01-01_2007-12-31.rds\n",
      "  |======================================================================| 100%\n"
     ]
    },
    {
     "name": "stderr",
     "output_type": "stream",
     "text": [
      "R[write to console]: No encoding supplied: defaulting to UTF-8.\n",
      "\n",
      "R[write to console]: Error in (function (species = 3, phenophase = 371, start = \"2000-01-01\",  : \n",
      "  Query returned no data, check your input parameters!\n",
      "\n"
     ]
    },
    {
     "name": "stdout",
     "output_type": "stream",
     "text": [
      "downloading /tmp/data/NPN/phenor_npn_data_1934_373_2007-01-01_2007-12-31.rds\n",
      "  |======================================================================| 100%\n"
     ]
    },
    {
     "name": "stderr",
     "output_type": "stream",
     "text": [
      "R[write to console]: No encoding supplied: defaulting to UTF-8.\n",
      "\n",
      "R[write to console]: Error in (function (species = 3, phenophase = 371, start = \"2000-01-01\",  : \n",
      "  Query returned no data, check your input parameters!\n",
      "\n"
     ]
    },
    {
     "name": "stdout",
     "output_type": "stream",
     "text": [
      "downloading /tmp/data/NPN/phenor_npn_data_1938_371_2007-01-01_2007-12-31.rds\n",
      "  |======================================================================| 100%\n"
     ]
    },
    {
     "name": "stderr",
     "output_type": "stream",
     "text": [
      "R[write to console]: No encoding supplied: defaulting to UTF-8.\n",
      "\n",
      "R[write to console]: Error in (function (species = 3, phenophase = 371, start = \"2000-01-01\",  : \n",
      "  Query returned no data, check your input parameters!\n",
      "\n"
     ]
    },
    {
     "name": "stdout",
     "output_type": "stream",
     "text": [
      "downloading /tmp/data/NPN/phenor_npn_data_1938_373_2007-01-01_2007-12-31.rds\n",
      "  |======================================================================| 100%\n"
     ]
    },
    {
     "name": "stderr",
     "output_type": "stream",
     "text": [
      "R[write to console]: No encoding supplied: defaulting to UTF-8.\n",
      "\n",
      "R[write to console]: Error in (function (species = 3, phenophase = 371, start = \"2000-01-01\",  : \n",
      "  Query returned no data, check your input parameters!\n",
      "\n"
     ]
    },
    {
     "name": "stdout",
     "output_type": "stream",
     "text": [
      "downloading /tmp/data/NPN/phenor_npn_data_1961_371_2007-01-01_2007-12-31.rds\n",
      "  |======================================================================| 100%\n"
     ]
    },
    {
     "name": "stderr",
     "output_type": "stream",
     "text": [
      "R[write to console]: No encoding supplied: defaulting to UTF-8.\n",
      "\n",
      "R[write to console]: Error in (function (species = 3, phenophase = 371, start = \"2000-01-01\",  : \n",
      "  Query returned no data, check your input parameters!\n",
      "\n"
     ]
    },
    {
     "name": "stdout",
     "output_type": "stream",
     "text": [
      "downloading /tmp/data/NPN/phenor_npn_data_1961_373_2007-01-01_2007-12-31.rds\n",
      "  |======================================================================| 100%\n"
     ]
    },
    {
     "name": "stderr",
     "output_type": "stream",
     "text": [
      "R[write to console]: No encoding supplied: defaulting to UTF-8.\n",
      "\n",
      "R[write to console]: Error in (function (species = 3, phenophase = 371, start = \"2000-01-01\",  : \n",
      "  Query returned no data, check your input parameters!\n",
      "\n"
     ]
    },
    {
     "name": "stdout",
     "output_type": "stream",
     "text": [
      "downloading /tmp/data/NPN/phenor_npn_data_1968_371_2007-01-01_2007-12-31.rds\n",
      "  |======================================================================| 100%\n"
     ]
    },
    {
     "name": "stderr",
     "output_type": "stream",
     "text": [
      "R[write to console]: No encoding supplied: defaulting to UTF-8.\n",
      "\n",
      "R[write to console]: Error in (function (species = 3, phenophase = 371, start = \"2000-01-01\",  : \n",
      "  Query returned no data, check your input parameters!\n",
      "\n"
     ]
    },
    {
     "name": "stdout",
     "output_type": "stream",
     "text": [
      "downloading /tmp/data/NPN/phenor_npn_data_1968_373_2007-01-01_2007-12-31.rds\n",
      "  |======================================================================| 100%\n"
     ]
    },
    {
     "name": "stderr",
     "output_type": "stream",
     "text": [
      "R[write to console]: No encoding supplied: defaulting to UTF-8.\n",
      "\n",
      "R[write to console]: Error in (function (species = 3, phenophase = 371, start = \"2000-01-01\",  : \n",
      "  Query returned no data, check your input parameters!\n",
      "\n"
     ]
    },
    {
     "name": "stdout",
     "output_type": "stream",
     "text": [
      "downloading /tmp/data/NPN/phenor_npn_data_1969_371_2007-01-01_2007-12-31.rds\n",
      "  |======================================================================| 100%\n"
     ]
    },
    {
     "name": "stderr",
     "output_type": "stream",
     "text": [
      "R[write to console]: No encoding supplied: defaulting to UTF-8.\n",
      "\n",
      "R[write to console]: Error in (function (species = 3, phenophase = 371, start = \"2000-01-01\",  : \n",
      "  Query returned no data, check your input parameters!\n",
      "\n"
     ]
    },
    {
     "name": "stdout",
     "output_type": "stream",
     "text": [
      "downloading /tmp/data/NPN/phenor_npn_data_1969_373_2007-01-01_2007-12-31.rds\n",
      "  |======================================================================| 100%\n"
     ]
    },
    {
     "name": "stderr",
     "output_type": "stream",
     "text": [
      "R[write to console]: No encoding supplied: defaulting to UTF-8.\n",
      "\n",
      "R[write to console]: Error in (function (species = 3, phenophase = 371, start = \"2000-01-01\",  : \n",
      "  Query returned no data, check your input parameters!\n",
      "\n"
     ]
    },
    {
     "name": "stdout",
     "output_type": "stream",
     "text": [
      "downloading /tmp/data/NPN/phenor_npn_data_1970_371_2007-01-01_2007-12-31.rds\n",
      "  |======================================================================| 100%\n"
     ]
    },
    {
     "name": "stderr",
     "output_type": "stream",
     "text": [
      "R[write to console]: No encoding supplied: defaulting to UTF-8.\n",
      "\n",
      "R[write to console]: Error in (function (species = 3, phenophase = 371, start = \"2000-01-01\",  : \n",
      "  Query returned no data, check your input parameters!\n",
      "\n"
     ]
    },
    {
     "name": "stdout",
     "output_type": "stream",
     "text": [
      "downloading /tmp/data/NPN/phenor_npn_data_1970_373_2007-01-01_2007-12-31.rds\n",
      "  |======================================================================| 100%\n"
     ]
    },
    {
     "name": "stderr",
     "output_type": "stream",
     "text": [
      "R[write to console]: No encoding supplied: defaulting to UTF-8.\n",
      "\n",
      "R[write to console]: Error in (function (species = 3, phenophase = 371, start = \"2000-01-01\",  : \n",
      "  Query returned no data, check your input parameters!\n",
      "\n"
     ]
    },
    {
     "name": "stdout",
     "output_type": "stream",
     "text": [
      "downloading /tmp/data/NPN/phenor_npn_data_1975_371_2007-01-01_2007-12-31.rds\n",
      "  |======================================================================| 100%\n"
     ]
    },
    {
     "name": "stderr",
     "output_type": "stream",
     "text": [
      "R[write to console]: No encoding supplied: defaulting to UTF-8.\n",
      "\n",
      "R[write to console]: Error in (function (species = 3, phenophase = 371, start = \"2000-01-01\",  : \n",
      "  Query returned no data, check your input parameters!\n",
      "\n"
     ]
    },
    {
     "name": "stdout",
     "output_type": "stream",
     "text": [
      "downloading /tmp/data/NPN/phenor_npn_data_1975_373_2007-01-01_2007-12-31.rds\n",
      "  |======================================================================| 100%\n"
     ]
    },
    {
     "name": "stderr",
     "output_type": "stream",
     "text": [
      "R[write to console]: No encoding supplied: defaulting to UTF-8.\n",
      "\n",
      "R[write to console]: Error in (function (species = 3, phenophase = 371, start = \"2000-01-01\",  : \n",
      "  Query returned no data, check your input parameters!\n",
      "\n"
     ]
    },
    {
     "name": "stdout",
     "output_type": "stream",
     "text": [
      "downloading /tmp/data/NPN/phenor_npn_data_1976_371_2007-01-01_2007-12-31.rds\n",
      "  |======================================================================| 100%\n"
     ]
    },
    {
     "name": "stderr",
     "output_type": "stream",
     "text": [
      "R[write to console]: No encoding supplied: defaulting to UTF-8.\n",
      "\n",
      "R[write to console]: Error in (function (species = 3, phenophase = 371, start = \"2000-01-01\",  : \n",
      "  Query returned no data, check your input parameters!\n",
      "\n"
     ]
    },
    {
     "name": "stdout",
     "output_type": "stream",
     "text": [
      "downloading /tmp/data/NPN/phenor_npn_data_1976_373_2007-01-01_2007-12-31.rds\n",
      "  |======================================================================| 100%\n"
     ]
    },
    {
     "name": "stderr",
     "output_type": "stream",
     "text": [
      "R[write to console]: No encoding supplied: defaulting to UTF-8.\n",
      "\n",
      "R[write to console]: Error in (function (species = 3, phenophase = 371, start = \"2000-01-01\",  : \n",
      "  Query returned no data, check your input parameters!\n",
      "\n"
     ]
    },
    {
     "name": "stdout",
     "output_type": "stream",
     "text": [
      "downloading /tmp/data/NPN/phenor_npn_data_1982_371_2007-01-01_2007-12-31.rds\n",
      "  |======================================================================| 100%\n"
     ]
    },
    {
     "name": "stderr",
     "output_type": "stream",
     "text": [
      "R[write to console]: No encoding supplied: defaulting to UTF-8.\n",
      "\n",
      "R[write to console]: Error in (function (species = 3, phenophase = 371, start = \"2000-01-01\",  : \n",
      "  Query returned no data, check your input parameters!\n",
      "\n"
     ]
    },
    {
     "name": "stdout",
     "output_type": "stream",
     "text": [
      "downloading /tmp/data/NPN/phenor_npn_data_1982_373_2007-01-01_2007-12-31.rds\n",
      "  |======================================================================| 100%\n"
     ]
    },
    {
     "name": "stderr",
     "output_type": "stream",
     "text": [
      "R[write to console]: No encoding supplied: defaulting to UTF-8.\n",
      "\n",
      "R[write to console]: Error in (function (species = 3, phenophase = 371, start = \"2000-01-01\",  : \n",
      "  Query returned no data, check your input parameters!\n",
      "\n"
     ]
    },
    {
     "name": "stdout",
     "output_type": "stream",
     "text": [
      "downloading /tmp/data/NPN/phenor_npn_data_1985_371_2007-01-01_2007-12-31.rds\n",
      "  |======================================================================| 100%\n"
     ]
    },
    {
     "name": "stderr",
     "output_type": "stream",
     "text": [
      "R[write to console]: No encoding supplied: defaulting to UTF-8.\n",
      "\n",
      "R[write to console]: Error in (function (species = 3, phenophase = 371, start = \"2000-01-01\",  : \n",
      "  Query returned no data, check your input parameters!\n",
      "\n"
     ]
    },
    {
     "name": "stdout",
     "output_type": "stream",
     "text": [
      "downloading /tmp/data/NPN/phenor_npn_data_1985_373_2007-01-01_2007-12-31.rds\n",
      "  |======================================================================| 100%\n"
     ]
    },
    {
     "name": "stderr",
     "output_type": "stream",
     "text": [
      "R[write to console]: No encoding supplied: defaulting to UTF-8.\n",
      "\n",
      "R[write to console]: Error in (function (species = 3, phenophase = 371, start = \"2000-01-01\",  : \n",
      "  Query returned no data, check your input parameters!\n",
      "\n"
     ]
    },
    {
     "name": "stdout",
     "output_type": "stream",
     "text": [
      "downloading /tmp/data/NPN/phenor_npn_data_2006_371_2007-01-01_2007-12-31.rds\n",
      "  |======================================================================| 100%\n"
     ]
    },
    {
     "name": "stderr",
     "output_type": "stream",
     "text": [
      "R[write to console]: No encoding supplied: defaulting to UTF-8.\n",
      "\n",
      "R[write to console]: Error in (function (species = 3, phenophase = 371, start = \"2000-01-01\",  : \n",
      "  Query returned no data, check your input parameters!\n",
      "\n"
     ]
    },
    {
     "name": "stdout",
     "output_type": "stream",
     "text": [
      "downloading /tmp/data/NPN/phenor_npn_data_2006_373_2007-01-01_2007-12-31.rds\n",
      "  |======================================================================| 100%\n"
     ]
    },
    {
     "name": "stderr",
     "output_type": "stream",
     "text": [
      "R[write to console]: No encoding supplied: defaulting to UTF-8.\n",
      "\n",
      "R[write to console]: Error in (function (species = 3, phenophase = 371, start = \"2000-01-01\",  : \n",
      "  Query returned no data, check your input parameters!\n",
      "\n"
     ]
    },
    {
     "name": "stdout",
     "output_type": "stream",
     "text": [
      "downloading /tmp/data/NPN/phenor_npn_data_2054_371_2007-01-01_2007-12-31.rds\n",
      "  |======================================================================| 100%\n"
     ]
    },
    {
     "name": "stderr",
     "output_type": "stream",
     "text": [
      "R[write to console]: No encoding supplied: defaulting to UTF-8.\n",
      "\n",
      "R[write to console]: Error in (function (species = 3, phenophase = 371, start = \"2000-01-01\",  : \n",
      "  Query returned no data, check your input parameters!\n",
      "\n"
     ]
    },
    {
     "name": "stdout",
     "output_type": "stream",
     "text": [
      "downloading /tmp/data/NPN/phenor_npn_data_2054_373_2007-01-01_2007-12-31.rds\n",
      "  |======================================================================| 100%\n"
     ]
    },
    {
     "name": "stderr",
     "output_type": "stream",
     "text": [
      "R[write to console]: No encoding supplied: defaulting to UTF-8.\n",
      "\n",
      "R[write to console]: Error in (function (species = 3, phenophase = 371, start = \"2000-01-01\",  : \n",
      "  Query returned no data, check your input parameters!\n",
      "\n"
     ]
    },
    {
     "name": "stdout",
     "output_type": "stream",
     "text": [
      "downloading /tmp/data/NPN/phenor_npn_data_2057_371_2007-01-01_2007-12-31.rds\n",
      "  |======================================================================| 100%\n"
     ]
    },
    {
     "name": "stderr",
     "output_type": "stream",
     "text": [
      "R[write to console]: No encoding supplied: defaulting to UTF-8.\n",
      "\n",
      "R[write to console]: Error in (function (species = 3, phenophase = 371, start = \"2000-01-01\",  : \n",
      "  Query returned no data, check your input parameters!\n",
      "\n"
     ]
    },
    {
     "name": "stdout",
     "output_type": "stream",
     "text": [
      "downloading /tmp/data/NPN/phenor_npn_data_2057_373_2007-01-01_2007-12-31.rds\n",
      "  |======================================================================| 100%\n"
     ]
    },
    {
     "name": "stderr",
     "output_type": "stream",
     "text": [
      "R[write to console]: No encoding supplied: defaulting to UTF-8.\n",
      "\n",
      "R[write to console]: Error in (function (species = 3, phenophase = 371, start = \"2000-01-01\",  : \n",
      "  Query returned no data, check your input parameters!\n",
      "\n"
     ]
    },
    {
     "name": "stdout",
     "output_type": "stream",
     "text": [
      "downloading /tmp/data/NPN/phenor_npn_data_2064_371_2007-01-01_2007-12-31.rds\n",
      "  |======================================================================| 100%\n"
     ]
    },
    {
     "name": "stderr",
     "output_type": "stream",
     "text": [
      "R[write to console]: No encoding supplied: defaulting to UTF-8.\n",
      "\n",
      "R[write to console]: Error in (function (species = 3, phenophase = 371, start = \"2000-01-01\",  : \n",
      "  Query returned no data, check your input parameters!\n",
      "\n"
     ]
    },
    {
     "name": "stdout",
     "output_type": "stream",
     "text": [
      "downloading /tmp/data/NPN/phenor_npn_data_2064_373_2007-01-01_2007-12-31.rds\n",
      "  |======================================================================| 100%\n"
     ]
    },
    {
     "name": "stderr",
     "output_type": "stream",
     "text": [
      "R[write to console]: No encoding supplied: defaulting to UTF-8.\n",
      "\n",
      "R[write to console]: Error in (function (species = 3, phenophase = 371, start = \"2000-01-01\",  : \n",
      "  Query returned no data, check your input parameters!\n",
      "\n"
     ]
    },
    {
     "name": "stdout",
     "output_type": "stream",
     "text": [
      "downloading /tmp/data/NPN/phenor_npn_data_2139_371_2007-01-01_2007-12-31.rds\n",
      "  |======================================================================| 100%\n"
     ]
    },
    {
     "name": "stderr",
     "output_type": "stream",
     "text": [
      "R[write to console]: No encoding supplied: defaulting to UTF-8.\n",
      "\n",
      "R[write to console]: Error in (function (species = 3, phenophase = 371, start = \"2000-01-01\",  : \n",
      "  Query returned no data, check your input parameters!\n",
      "\n"
     ]
    },
    {
     "name": "stdout",
     "output_type": "stream",
     "text": [
      "downloading /tmp/data/NPN/phenor_npn_data_2139_373_2007-01-01_2007-12-31.rds\n",
      "  |======================================================================| 100%\n"
     ]
    },
    {
     "name": "stderr",
     "output_type": "stream",
     "text": [
      "R[write to console]: No encoding supplied: defaulting to UTF-8.\n",
      "\n",
      "R[write to console]: Error in (function (species = 3, phenophase = 371, start = \"2000-01-01\",  : \n",
      "  Query returned no data, check your input parameters!\n",
      "\n"
     ]
    },
    {
     "name": "stdout",
     "output_type": "stream",
     "text": [
      "[]\n"
     ]
    },
    {
     "ename": "ValueError",
     "evalue": "No objects to concatenate",
     "output_type": "error",
     "traceback": [
      "\u001b[0;31m---------------------------------------------------------------------------\u001b[0m",
      "\u001b[0;31mValueError\u001b[0m                                Traceback (most recent call last)",
      "Cell \u001b[0;32mIn[20], line 22\u001b[0m\n\u001b[1;32m     19\u001b[0m \u001b[38;5;28mprint\u001b[39m(all_filenames)\n\u001b[1;32m     21\u001b[0m \u001b[38;5;66;03m# combine all files in the list\u001b[39;00m\n\u001b[0;32m---> 22\u001b[0m combined_csv \u001b[38;5;241m=\u001b[39m \u001b[43mpd\u001b[49m\u001b[38;5;241;43m.\u001b[39;49m\u001b[43mconcat\u001b[49m\u001b[43m(\u001b[49m\u001b[43m[\u001b[49m\u001b[43mpd\u001b[49m\u001b[38;5;241;43m.\u001b[39;49m\u001b[43mread_csv\u001b[49m\u001b[43m(\u001b[49m\u001b[43mf\u001b[49m\u001b[43m)\u001b[49m\u001b[43m \u001b[49m\u001b[38;5;28;43;01mfor\u001b[39;49;00m\u001b[43m \u001b[49m\u001b[43mf\u001b[49m\u001b[43m \u001b[49m\u001b[38;5;129;43;01min\u001b[39;49;00m\u001b[43m \u001b[49m\u001b[43mall_filenames\u001b[49m\u001b[43m \u001b[49m\u001b[43m]\u001b[49m\u001b[43m)\u001b[49m\n\u001b[1;32m     23\u001b[0m combined_csv\u001b[38;5;241m.\u001b[39mto_csv( current_path \u001b[38;5;241m+\u001b[39m \u001b[38;5;124m\"\u001b[39m\u001b[38;5;124m/combined_csv.csv\u001b[39m\u001b[38;5;124m\"\u001b[39m, index\u001b[38;5;241m=\u001b[39m\u001b[38;5;28;01mFalse\u001b[39;00m, encoding\u001b[38;5;241m=\u001b[39m\u001b[38;5;124m'\u001b[39m\u001b[38;5;124mutf-8-sig\u001b[39m\u001b[38;5;124m'\u001b[39m)\n",
      "File \u001b[0;32m~/mambaforge-pypy3/envs/springtime/lib/python3.9/site-packages/pandas/util/_decorators.py:331\u001b[0m, in \u001b[0;36mdeprecate_nonkeyword_arguments.<locals>.decorate.<locals>.wrapper\u001b[0;34m(*args, **kwargs)\u001b[0m\n\u001b[1;32m    325\u001b[0m \u001b[38;5;28;01mif\u001b[39;00m \u001b[38;5;28mlen\u001b[39m(args) \u001b[38;5;241m>\u001b[39m num_allow_args:\n\u001b[1;32m    326\u001b[0m     warnings\u001b[38;5;241m.\u001b[39mwarn(\n\u001b[1;32m    327\u001b[0m         msg\u001b[38;5;241m.\u001b[39mformat(arguments\u001b[38;5;241m=\u001b[39m_format_argument_list(allow_args)),\n\u001b[1;32m    328\u001b[0m         \u001b[38;5;167;01mFutureWarning\u001b[39;00m,\n\u001b[1;32m    329\u001b[0m         stacklevel\u001b[38;5;241m=\u001b[39mfind_stack_level(),\n\u001b[1;32m    330\u001b[0m     )\n\u001b[0;32m--> 331\u001b[0m \u001b[38;5;28;01mreturn\u001b[39;00m \u001b[43mfunc\u001b[49m\u001b[43m(\u001b[49m\u001b[38;5;241;43m*\u001b[39;49m\u001b[43margs\u001b[49m\u001b[43m,\u001b[49m\u001b[43m \u001b[49m\u001b[38;5;241;43m*\u001b[39;49m\u001b[38;5;241;43m*\u001b[39;49m\u001b[43mkwargs\u001b[49m\u001b[43m)\u001b[49m\n",
      "File \u001b[0;32m~/mambaforge-pypy3/envs/springtime/lib/python3.9/site-packages/pandas/core/reshape/concat.py:368\u001b[0m, in \u001b[0;36mconcat\u001b[0;34m(objs, axis, join, ignore_index, keys, levels, names, verify_integrity, sort, copy)\u001b[0m\n\u001b[1;32m    146\u001b[0m \u001b[38;5;129m@deprecate_nonkeyword_arguments\u001b[39m(version\u001b[38;5;241m=\u001b[39m\u001b[38;5;28;01mNone\u001b[39;00m, allowed_args\u001b[38;5;241m=\u001b[39m[\u001b[38;5;124m\"\u001b[39m\u001b[38;5;124mobjs\u001b[39m\u001b[38;5;124m\"\u001b[39m])\n\u001b[1;32m    147\u001b[0m \u001b[38;5;28;01mdef\u001b[39;00m \u001b[38;5;21mconcat\u001b[39m(\n\u001b[1;32m    148\u001b[0m     objs: Iterable[NDFrame] \u001b[38;5;241m|\u001b[39m Mapping[HashableT, NDFrame],\n\u001b[0;32m   (...)\u001b[0m\n\u001b[1;32m    157\u001b[0m     copy: \u001b[38;5;28mbool\u001b[39m \u001b[38;5;241m=\u001b[39m \u001b[38;5;28;01mTrue\u001b[39;00m,\n\u001b[1;32m    158\u001b[0m ) \u001b[38;5;241m-\u001b[39m\u001b[38;5;241m>\u001b[39m DataFrame \u001b[38;5;241m|\u001b[39m Series:\n\u001b[1;32m    159\u001b[0m \u001b[38;5;250m    \u001b[39m\u001b[38;5;124;03m\"\"\"\u001b[39;00m\n\u001b[1;32m    160\u001b[0m \u001b[38;5;124;03m    Concatenate pandas objects along a particular axis.\u001b[39;00m\n\u001b[1;32m    161\u001b[0m \n\u001b[0;32m   (...)\u001b[0m\n\u001b[1;32m    366\u001b[0m \u001b[38;5;124;03m    1   3   4\u001b[39;00m\n\u001b[1;32m    367\u001b[0m \u001b[38;5;124;03m    \"\"\"\u001b[39;00m\n\u001b[0;32m--> 368\u001b[0m     op \u001b[38;5;241m=\u001b[39m \u001b[43m_Concatenator\u001b[49m\u001b[43m(\u001b[49m\n\u001b[1;32m    369\u001b[0m \u001b[43m        \u001b[49m\u001b[43mobjs\u001b[49m\u001b[43m,\u001b[49m\n\u001b[1;32m    370\u001b[0m \u001b[43m        \u001b[49m\u001b[43maxis\u001b[49m\u001b[38;5;241;43m=\u001b[39;49m\u001b[43maxis\u001b[49m\u001b[43m,\u001b[49m\n\u001b[1;32m    371\u001b[0m \u001b[43m        \u001b[49m\u001b[43mignore_index\u001b[49m\u001b[38;5;241;43m=\u001b[39;49m\u001b[43mignore_index\u001b[49m\u001b[43m,\u001b[49m\n\u001b[1;32m    372\u001b[0m \u001b[43m        \u001b[49m\u001b[43mjoin\u001b[49m\u001b[38;5;241;43m=\u001b[39;49m\u001b[43mjoin\u001b[49m\u001b[43m,\u001b[49m\n\u001b[1;32m    373\u001b[0m \u001b[43m        \u001b[49m\u001b[43mkeys\u001b[49m\u001b[38;5;241;43m=\u001b[39;49m\u001b[43mkeys\u001b[49m\u001b[43m,\u001b[49m\n\u001b[1;32m    374\u001b[0m \u001b[43m        \u001b[49m\u001b[43mlevels\u001b[49m\u001b[38;5;241;43m=\u001b[39;49m\u001b[43mlevels\u001b[49m\u001b[43m,\u001b[49m\n\u001b[1;32m    375\u001b[0m \u001b[43m        \u001b[49m\u001b[43mnames\u001b[49m\u001b[38;5;241;43m=\u001b[39;49m\u001b[43mnames\u001b[49m\u001b[43m,\u001b[49m\n\u001b[1;32m    376\u001b[0m \u001b[43m        \u001b[49m\u001b[43mverify_integrity\u001b[49m\u001b[38;5;241;43m=\u001b[39;49m\u001b[43mverify_integrity\u001b[49m\u001b[43m,\u001b[49m\n\u001b[1;32m    377\u001b[0m \u001b[43m        \u001b[49m\u001b[43mcopy\u001b[49m\u001b[38;5;241;43m=\u001b[39;49m\u001b[43mcopy\u001b[49m\u001b[43m,\u001b[49m\n\u001b[1;32m    378\u001b[0m \u001b[43m        \u001b[49m\u001b[43msort\u001b[49m\u001b[38;5;241;43m=\u001b[39;49m\u001b[43msort\u001b[49m\u001b[43m,\u001b[49m\n\u001b[1;32m    379\u001b[0m \u001b[43m    \u001b[49m\u001b[43m)\u001b[49m\n\u001b[1;32m    381\u001b[0m     \u001b[38;5;28;01mreturn\u001b[39;00m op\u001b[38;5;241m.\u001b[39mget_result()\n",
      "File \u001b[0;32m~/mambaforge-pypy3/envs/springtime/lib/python3.9/site-packages/pandas/core/reshape/concat.py:425\u001b[0m, in \u001b[0;36m_Concatenator.__init__\u001b[0;34m(self, objs, axis, join, keys, levels, names, ignore_index, verify_integrity, copy, sort)\u001b[0m\n\u001b[1;32m    422\u001b[0m     objs \u001b[38;5;241m=\u001b[39m \u001b[38;5;28mlist\u001b[39m(objs)\n\u001b[1;32m    424\u001b[0m \u001b[38;5;28;01mif\u001b[39;00m \u001b[38;5;28mlen\u001b[39m(objs) \u001b[38;5;241m==\u001b[39m \u001b[38;5;241m0\u001b[39m:\n\u001b[0;32m--> 425\u001b[0m     \u001b[38;5;28;01mraise\u001b[39;00m \u001b[38;5;167;01mValueError\u001b[39;00m(\u001b[38;5;124m\"\u001b[39m\u001b[38;5;124mNo objects to concatenate\u001b[39m\u001b[38;5;124m\"\u001b[39m)\n\u001b[1;32m    427\u001b[0m \u001b[38;5;28;01mif\u001b[39;00m keys \u001b[38;5;129;01mis\u001b[39;00m \u001b[38;5;28;01mNone\u001b[39;00m:\n\u001b[1;32m    428\u001b[0m     objs \u001b[38;5;241m=\u001b[39m \u001b[38;5;28mlist\u001b[39m(com\u001b[38;5;241m.\u001b[39mnot_none(\u001b[38;5;241m*\u001b[39mobjs))\n",
      "\u001b[0;31mValueError\u001b[0m: No objects to concatenate"
     ]
    }
   ],
   "source": [
    "#ls_species = ls_sp1\n",
    "ls_species = ls_sp2\n",
    "ls_phases = [371,373]\n",
    "with tempfile.TemporaryDirectory() as tmpdirname:\n",
    "    for i in ls_species:\n",
    "        for j in ls_phases:\n",
    "            try:\n",
    "                dataset = NPNPhenor(species=i, phenophase=j, years=[2007, 2018])\n",
    "                dataset.download()\n",
    "                df1 = dataset.load()\n",
    "                df1.to_csv(tmpdirname + \"/species_\" + str(i)+str(j)+ \".csv\")\n",
    "                print(df1.shape)\n",
    "            except:\n",
    "                pass\n",
    "\n",
    "    # list all CSV files in working directory.\n",
    "    os.chdir(tmpdirname)\n",
    "    all_filenames = [i for i in glob.glob('*.csv')]\n",
    "    print(all_filenames)\n",
    "    \n",
    "    # combine all files in the list\n",
    "    combined_csv = pd.concat([pd.read_csv(f) for f in all_filenames ])\n",
    "    combined_csv.to_csv( current_path + \"/combined_csv.csv\", index=False, encoding='utf-8-sig')"
   ]
  },
  {
   "cell_type": "code",
   "execution_count": null,
   "id": "84aaf938-f8a8-4fa4-b4bc-1ebb92784fab",
   "metadata": {},
   "outputs": [],
   "source": [
    "# dataset = NPNPhenor(species=36, phenophase=483, years=[2012, 2013])\n",
    "# dataset.download()\n",
    "# df1 = dataset.load()\n",
    "# list(df1.columns)"
   ]
  },
  {
   "cell_type": "code",
   "execution_count": null,
   "id": "bac02238-6613-4abe-8be5-33d163b49329",
   "metadata": {},
   "outputs": [],
   "source": []
  }
 ],
 "metadata": {
  "kernelspec": {
   "display_name": "springtime",
   "language": "python",
   "name": "springtime"
  },
  "language_info": {
   "codemirror_mode": {
    "name": "ipython",
    "version": 3
   },
   "file_extension": ".py",
   "mimetype": "text/x-python",
   "name": "python",
   "nbconvert_exporter": "python",
   "pygments_lexer": "ipython3",
   "version": "3.9.16"
  }
 },
 "nbformat": 4,
 "nbformat_minor": 5
}
